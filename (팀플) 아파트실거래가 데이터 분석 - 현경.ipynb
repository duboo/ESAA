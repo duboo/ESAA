{
 "cells": [
  {
   "cell_type": "code",
   "execution_count": 8,
   "metadata": {},
   "outputs": [],
   "source": [
    "from pandas import *\n",
    "import pandas as pd\n",
    "import numpy as np\n",
    "import seaborn as sns\n",
    "import matplotlib.pyplot as plt\n",
    "import matplotlib.font_manager as fm\n",
    "from sklearn.linear_model import LinearRegression"
   ]
  },
  {
   "cell_type": "markdown",
   "metadata": {},
   "source": [
    "# 데이터 불러오기"
   ]
  },
  {
   "cell_type": "code",
   "execution_count": 9,
   "metadata": {},
   "outputs": [],
   "source": [
    "apt2017_1 = pd.read_csv('./2017-1_apt.csv', thousands = ',') # thousands = ',' : 천 단위 자리 구분 기호 없애고 가져오기\n",
    "apt2017_2 = pd.read_csv('./2017-2_apt.csv', thousands = ',')\n",
    "apt2017_3 = pd.read_csv('./2017-3_apt.csv', thousands = ',')\n",
    "apt2017_4 = pd.read_csv('./2017-4_apt.csv', thousands = ',')\n",
    "apt2017_5 = pd.read_csv('./2017-5_apt.csv', thousands = ',')\n",
    "apt2017_6 = pd.read_csv('./2017-6_apt.csv', thousands = ',')\n",
    "apt2017_7 = pd.read_csv('./2017-7_apt.csv', thousands = ',')\n",
    "apt2017_8 = pd.read_csv('./2017-8_apt.csv', thousands = ',')\n",
    "apt2017_9 = pd.read_csv('./2017-9_apt.csv', thousands = ',')\n",
    "apt2017_10 = pd.read_csv('./2017-10_apt.csv', thousands = ',')\n",
    "apt2017_11 = pd.read_csv('./2017-11_apt.csv', thousands = ',')\n",
    "apt2017_12 = pd.read_csv('./2017-12_apt.csv', thousands = ',')\n",
    "\n",
    "apt2018_1 = pd.read_csv('./2018-1_apt.csv', thousands = ',')\n",
    "apt2018_2 = pd.read_csv('./2018-2_apt.csv', thousands = ',')\n",
    "apt2018_3 = pd.read_csv('./2018-3_apt.csv', thousands = ',')\n",
    "apt2018_4 = pd.read_csv('./2018-4_apt.csv', thousands = ',')\n",
    "apt2018_5 = pd.read_csv('./2018-5_apt.csv', thousands = ',')\n",
    "apt2018_6 = pd.read_csv('./2018-6_apt.csv', thousands = ',')\n",
    "apt2018_7 = pd.read_csv('./2018-7_apt.csv', thousands = ',')\n",
    "apt2018_8 = pd.read_csv('./2018-8_apt.csv', thousands = ',')\n",
    "apt2018_9 = pd.read_csv('./2018-9_apt.csv', thousands = ',')\n",
    "apt2018_10 = pd.read_csv('./2018-10_apt.csv', thousands = ',')\n",
    "apt2018_11 = pd.read_csv('./2018-11_apt.csv', thousands = ',')\n",
    "apt2018_12 = pd.read_csv('./2018-12_apt.csv', thousands = ',')\n",
    "\n",
    "apt2019_1 = pd.read_csv('./2019-1_apt.csv', thousands = ',')\n",
    "apt2019_2 = pd.read_csv('./2019-2_apt.csv', thousands = ',')\n",
    "apt2019_3 = pd.read_csv('./2019-3_apt.csv', thousands = ',')\n",
    "apt2019_4 = pd.read_csv('./2019-4_apt.csv', thousands = ',')\n",
    "apt2019_5 = pd.read_csv('./2019-5_apt.csv', thousands = ',')\n",
    "apt2019_6 = pd.read_csv('./2019-6_apt.csv', thousands = ',')\n",
    "apt2019_7 = pd.read_csv('./2019-7_apt.csv', thousands = ',')\n",
    "apt2019_8 = pd.read_csv('./2019-8_apt.csv', thousands = ',')\n",
    "apt2019_9 = pd.read_csv('./2019-9_apt.csv', thousands = ',')\n",
    "apt2019_10 = pd.read_csv('./2019-10_apt.csv', thousands = ',')\n",
    "apt2019_11 = pd.read_csv('./2019-11_apt.csv', thousands = ',')\n",
    "apt2019_12 = pd.read_csv('./2019-12_apt.csv', thousands = ',')\n"
   ]
  },
  {
   "cell_type": "code",
   "execution_count": 10,
   "metadata": {},
   "outputs": [],
   "source": [
    "apt2017 = pd.concat([apt2017_1, apt2017_2, apt2017_3, apt2017_4, apt2017_5, apt2017_6, apt2017_7, apt2017_8, apt2017_9, apt2017_10, apt2017_11, apt2017_12])\n",
    "apt2018 = pd.concat([apt2018_1, apt2018_2, apt2018_3, apt2018_4, apt2018_5, apt2018_6, apt2018_7, apt2018_8, apt2018_9, apt2018_10, apt2018_11, apt2018_12])\n",
    "apt2019 = pd.concat([apt2019_1, apt2019_2, apt2019_3, apt2019_4, apt2019_5, apt2019_6, apt2019_7, apt2019_8, apt2019_9, apt2019_10, apt2019_11, apt2019_12])\n"
   ]
  },
  {
   "cell_type": "code",
   "execution_count": 11,
   "metadata": {},
   "outputs": [
    {
     "data": {
      "text/html": [
       "<div>\n",
       "<style scoped>\n",
       "    .dataframe tbody tr th:only-of-type {\n",
       "        vertical-align: middle;\n",
       "    }\n",
       "\n",
       "    .dataframe tbody tr th {\n",
       "        vertical-align: top;\n",
       "    }\n",
       "\n",
       "    .dataframe thead th {\n",
       "        text-align: right;\n",
       "    }\n",
       "</style>\n",
       "<table border=\"1\" class=\"dataframe\">\n",
       "  <thead>\n",
       "    <tr style=\"text-align: right;\">\n",
       "      <th></th>\n",
       "      <th>시군구</th>\n",
       "      <th>번지</th>\n",
       "      <th>본번</th>\n",
       "      <th>부번</th>\n",
       "      <th>단지명</th>\n",
       "      <th>전용면적(㎡)</th>\n",
       "      <th>계약년월</th>\n",
       "      <th>계약일</th>\n",
       "      <th>거래금액(만원)</th>\n",
       "      <th>층</th>\n",
       "      <th>건축년도</th>\n",
       "      <th>도로명</th>\n",
       "    </tr>\n",
       "  </thead>\n",
       "  <tbody>\n",
       "    <tr>\n",
       "      <th>0</th>\n",
       "      <td>강원도 강릉시 견소동</td>\n",
       "      <td>202</td>\n",
       "      <td>202</td>\n",
       "      <td>0</td>\n",
       "      <td>송정한신</td>\n",
       "      <td>59.8000</td>\n",
       "      <td>201701</td>\n",
       "      <td>10</td>\n",
       "      <td>12400</td>\n",
       "      <td>8</td>\n",
       "      <td>1997</td>\n",
       "      <td>경강로2539번길 8</td>\n",
       "    </tr>\n",
       "    <tr>\n",
       "      <th>1</th>\n",
       "      <td>강원도 강릉시 견소동</td>\n",
       "      <td>289</td>\n",
       "      <td>289</td>\n",
       "      <td>0</td>\n",
       "      <td>송정해변신도브래뉴아파트</td>\n",
       "      <td>84.9900</td>\n",
       "      <td>201701</td>\n",
       "      <td>3</td>\n",
       "      <td>23000</td>\n",
       "      <td>13</td>\n",
       "      <td>2005</td>\n",
       "      <td>경강로2539번길 22</td>\n",
       "    </tr>\n",
       "    <tr>\n",
       "      <th>2</th>\n",
       "      <td>강원도 강릉시 견소동</td>\n",
       "      <td>289</td>\n",
       "      <td>289</td>\n",
       "      <td>0</td>\n",
       "      <td>송정해변신도브래뉴아파트</td>\n",
       "      <td>59.9900</td>\n",
       "      <td>201701</td>\n",
       "      <td>4</td>\n",
       "      <td>15800</td>\n",
       "      <td>9</td>\n",
       "      <td>2005</td>\n",
       "      <td>경강로2539번길 22</td>\n",
       "    </tr>\n",
       "    <tr>\n",
       "      <th>3</th>\n",
       "      <td>강원도 강릉시 견소동</td>\n",
       "      <td>289</td>\n",
       "      <td>289</td>\n",
       "      <td>0</td>\n",
       "      <td>송정해변신도브래뉴아파트</td>\n",
       "      <td>59.9900</td>\n",
       "      <td>201701</td>\n",
       "      <td>21</td>\n",
       "      <td>14000</td>\n",
       "      <td>1</td>\n",
       "      <td>2005</td>\n",
       "      <td>경강로2539번길 22</td>\n",
       "    </tr>\n",
       "    <tr>\n",
       "      <th>4</th>\n",
       "      <td>강원도 강릉시 교동</td>\n",
       "      <td>1983</td>\n",
       "      <td>1983</td>\n",
       "      <td>0</td>\n",
       "      <td>강릉교동롯데캐슬2단지</td>\n",
       "      <td>84.9855</td>\n",
       "      <td>201701</td>\n",
       "      <td>5</td>\n",
       "      <td>27250</td>\n",
       "      <td>11</td>\n",
       "      <td>2009</td>\n",
       "      <td>화부산로111번길 24</td>\n",
       "    </tr>\n",
       "  </tbody>\n",
       "</table>\n",
       "</div>"
      ],
      "text/plain": [
       "           시군구    번지    본번  부번           단지명  전용면적(㎡)    계약년월  계약일  거래금액(만원)  \\\n",
       "0  강원도 강릉시 견소동   202   202   0          송정한신  59.8000  201701   10     12400   \n",
       "1  강원도 강릉시 견소동   289   289   0  송정해변신도브래뉴아파트  84.9900  201701    3     23000   \n",
       "2  강원도 강릉시 견소동   289   289   0  송정해변신도브래뉴아파트  59.9900  201701    4     15800   \n",
       "3  강원도 강릉시 견소동   289   289   0  송정해변신도브래뉴아파트  59.9900  201701   21     14000   \n",
       "4   강원도 강릉시 교동  1983  1983   0   강릉교동롯데캐슬2단지  84.9855  201701    5     27250   \n",
       "\n",
       "    층  건축년도           도로명  \n",
       "0   8  1997   경강로2539번길 8  \n",
       "1  13  2005  경강로2539번길 22  \n",
       "2   9  2005  경강로2539번길 22  \n",
       "3   1  2005  경강로2539번길 22  \n",
       "4  11  2009  화부산로111번길 24  "
      ]
     },
     "execution_count": 11,
     "metadata": {},
     "output_type": "execute_result"
    }
   ],
   "source": [
    "apt2017.head()"
   ]
  },
  {
   "cell_type": "code",
   "execution_count": 12,
   "metadata": {
    "scrolled": true
   },
   "outputs": [
    {
     "data": {
      "text/html": [
       "<div>\n",
       "<style scoped>\n",
       "    .dataframe tbody tr th:only-of-type {\n",
       "        vertical-align: middle;\n",
       "    }\n",
       "\n",
       "    .dataframe tbody tr th {\n",
       "        vertical-align: top;\n",
       "    }\n",
       "\n",
       "    .dataframe thead th {\n",
       "        text-align: right;\n",
       "    }\n",
       "</style>\n",
       "<table border=\"1\" class=\"dataframe\">\n",
       "  <thead>\n",
       "    <tr style=\"text-align: right;\">\n",
       "      <th></th>\n",
       "      <th>시군구</th>\n",
       "      <th>번지</th>\n",
       "      <th>본번</th>\n",
       "      <th>부번</th>\n",
       "      <th>단지명</th>\n",
       "      <th>전용면적(㎡)</th>\n",
       "      <th>계약년월</th>\n",
       "      <th>계약일</th>\n",
       "      <th>거래금액(만원)</th>\n",
       "      <th>층</th>\n",
       "      <th>건축년도</th>\n",
       "      <th>도로명</th>\n",
       "    </tr>\n",
       "  </thead>\n",
       "  <tbody>\n",
       "    <tr>\n",
       "      <th>40188</th>\n",
       "      <td>충청북도 충주시 호암동</td>\n",
       "      <td>547-6</td>\n",
       "      <td>547</td>\n",
       "      <td>6</td>\n",
       "      <td>호반현대</td>\n",
       "      <td>84.9600</td>\n",
       "      <td>201712</td>\n",
       "      <td>11</td>\n",
       "      <td>10200</td>\n",
       "      <td>1</td>\n",
       "      <td>1994</td>\n",
       "      <td>신촌2길 29</td>\n",
       "    </tr>\n",
       "    <tr>\n",
       "      <th>40189</th>\n",
       "      <td>충청북도 충주시 호암동</td>\n",
       "      <td>547-6</td>\n",
       "      <td>547</td>\n",
       "      <td>6</td>\n",
       "      <td>호반현대</td>\n",
       "      <td>84.9600</td>\n",
       "      <td>201712</td>\n",
       "      <td>12</td>\n",
       "      <td>12300</td>\n",
       "      <td>2</td>\n",
       "      <td>1994</td>\n",
       "      <td>신촌2길 29</td>\n",
       "    </tr>\n",
       "    <tr>\n",
       "      <th>40190</th>\n",
       "      <td>충청북도 충주시 호암동</td>\n",
       "      <td>547-6</td>\n",
       "      <td>547</td>\n",
       "      <td>6</td>\n",
       "      <td>호반현대</td>\n",
       "      <td>59.7600</td>\n",
       "      <td>201712</td>\n",
       "      <td>19</td>\n",
       "      <td>7500</td>\n",
       "      <td>1</td>\n",
       "      <td>1994</td>\n",
       "      <td>신촌2길 28</td>\n",
       "    </tr>\n",
       "    <tr>\n",
       "      <th>40191</th>\n",
       "      <td>충청북도 충주시 호암동</td>\n",
       "      <td>905</td>\n",
       "      <td>905</td>\n",
       "      <td>0</td>\n",
       "      <td>호암동수채</td>\n",
       "      <td>84.9254</td>\n",
       "      <td>201712</td>\n",
       "      <td>1</td>\n",
       "      <td>19000</td>\n",
       "      <td>4</td>\n",
       "      <td>2007</td>\n",
       "      <td>호암중앙1로 47</td>\n",
       "    </tr>\n",
       "    <tr>\n",
       "      <th>40192</th>\n",
       "      <td>충청북도 충주시 호암동</td>\n",
       "      <td>221-23</td>\n",
       "      <td>221</td>\n",
       "      <td>23</td>\n",
       "      <td>호암리버빌(1단지)</td>\n",
       "      <td>84.6800</td>\n",
       "      <td>201712</td>\n",
       "      <td>25</td>\n",
       "      <td>15000</td>\n",
       "      <td>7</td>\n",
       "      <td>2002</td>\n",
       "      <td>원호암5길 32</td>\n",
       "    </tr>\n",
       "  </tbody>\n",
       "</table>\n",
       "</div>"
      ],
      "text/plain": [
       "                시군구      번지   본번  부번         단지명  전용면적(㎡)    계약년월  계약일  \\\n",
       "40188  충청북도 충주시 호암동   547-6  547   6        호반현대  84.9600  201712   11   \n",
       "40189  충청북도 충주시 호암동   547-6  547   6        호반현대  84.9600  201712   12   \n",
       "40190  충청북도 충주시 호암동   547-6  547   6        호반현대  59.7600  201712   19   \n",
       "40191  충청북도 충주시 호암동     905  905   0       호암동수채  84.9254  201712    1   \n",
       "40192  충청북도 충주시 호암동  221-23  221  23  호암리버빌(1단지)  84.6800  201712   25   \n",
       "\n",
       "       거래금액(만원)  층  건축년도        도로명  \n",
       "40188     10200  1  1994    신촌2길 29  \n",
       "40189     12300  2  1994    신촌2길 29  \n",
       "40190      7500  1  1994    신촌2길 28  \n",
       "40191     19000  4  2007  호암중앙1로 47  \n",
       "40192     15000  7  2002   원호암5길 32  "
      ]
     },
     "execution_count": 12,
     "metadata": {},
     "output_type": "execute_result"
    }
   ],
   "source": [
    "apt2017.tail()"
   ]
  },
  {
   "cell_type": "code",
   "execution_count": 13,
   "metadata": {},
   "outputs": [
    {
     "name": "stdout",
     "output_type": "stream",
     "text": [
      "<class 'pandas.core.frame.DataFrame'>\n",
      "Int64Index: 570324 entries, 0 to 40192\n",
      "Data columns (total 12 columns):\n",
      "시군구         570324 non-null object\n",
      "번지          570232 non-null object\n",
      "본번          570324 non-null object\n",
      "부번          570324 non-null int64\n",
      "단지명         570324 non-null object\n",
      "전용면적(㎡)     570324 non-null float64\n",
      "계약년월        570324 non-null int64\n",
      "계약일         570324 non-null int64\n",
      "거래금액(만원)    570324 non-null int64\n",
      "층           570324 non-null int64\n",
      "건축년도        570324 non-null int64\n",
      "도로명         570324 non-null object\n",
      "dtypes: float64(1), int64(6), object(5)\n",
      "memory usage: 56.6+ MB\n"
     ]
    }
   ],
   "source": [
    "apt2017.info()"
   ]
  },
  {
   "cell_type": "markdown",
   "metadata": {},
   "source": [
    "# 결측치 확인"
   ]
  },
  {
   "cell_type": "code",
   "execution_count": 14,
   "metadata": {},
   "outputs": [
    {
     "data": {
      "text/plain": [
       "시군구          0\n",
       "번지          92\n",
       "본번           0\n",
       "부번           0\n",
       "단지명          0\n",
       "전용면적(㎡)      0\n",
       "계약년월         0\n",
       "계약일          0\n",
       "거래금액(만원)     0\n",
       "층            0\n",
       "건축년도         0\n",
       "도로명          0\n",
       "dtype: int64"
      ]
     },
     "execution_count": 14,
     "metadata": {},
     "output_type": "execute_result"
    }
   ],
   "source": [
    "# 2017년도 데이터 결측치 개수 확인\n",
    "apt2017.isnull().sum()"
   ]
  },
  {
   "cell_type": "code",
   "execution_count": 15,
   "metadata": {},
   "outputs": [
    {
     "data": {
      "text/plain": [
       "시군구          0\n",
       "번지          43\n",
       "본번           0\n",
       "부번           0\n",
       "단지명          0\n",
       "전용면적(㎡)      0\n",
       "계약년월         0\n",
       "계약일          0\n",
       "거래금액(만원)     0\n",
       "층            0\n",
       "건축년도         0\n",
       "도로명          0\n",
       "dtype: int64"
      ]
     },
     "execution_count": 15,
     "metadata": {},
     "output_type": "execute_result"
    }
   ],
   "source": [
    "# 2018년도 데이터 결측치 개수 확인\n",
    "apt2018.isnull().sum()"
   ]
  },
  {
   "cell_type": "code",
   "execution_count": 16,
   "metadata": {},
   "outputs": [
    {
     "data": {
      "text/plain": [
       "시군구          0\n",
       "번지          52\n",
       "본번           0\n",
       "부번           0\n",
       "단지명          0\n",
       "전용면적(㎡)      0\n",
       "계약년월         0\n",
       "계약일          0\n",
       "거래금액(만원)     0\n",
       "층            0\n",
       "건축년도         0\n",
       "도로명          0\n",
       "dtype: int64"
      ]
     },
     "execution_count": 16,
     "metadata": {},
     "output_type": "execute_result"
    }
   ],
   "source": [
    "# 2019년도 데이터 결측치 개수 확인\n",
    "apt2019.isnull().sum()"
   ]
  },
  {
   "cell_type": "markdown",
   "metadata": {},
   "source": [
    "다행히도 2017,2018,2018년도 모두 번지를 나타내는 열 외에는 결측치 없음."
   ]
  },
  {
   "cell_type": "markdown",
   "metadata": {},
   "source": [
    "# ============================================================="
   ]
  },
  {
   "cell_type": "markdown",
   "metadata": {},
   "source": [
    "# 데이터 분석"
   ]
  },
  {
   "cell_type": "markdown",
   "metadata": {},
   "source": [
    "# ============================================================="
   ]
  },
  {
   "cell_type": "markdown",
   "metadata": {},
   "source": [
    "# 건축년도 별 거래금액 평균"
   ]
  },
  {
   "cell_type": "code",
   "execution_count": 17,
   "metadata": {
    "scrolled": true
   },
   "outputs": [
    {
     "data": {
      "text/plain": [
       "31351.560281524187"
      ]
     },
     "execution_count": 17,
     "metadata": {},
     "output_type": "execute_result"
    }
   ],
   "source": [
    "apt2017[\"거래금액(만원)\"].mean() # 2017년 => 약 3억1천만원"
   ]
  },
  {
   "cell_type": "code",
   "execution_count": 18,
   "metadata": {},
   "outputs": [
    {
     "data": {
      "text/plain": [
       "32423.816074368813"
      ]
     },
     "execution_count": 18,
     "metadata": {},
     "output_type": "execute_result"
    }
   ],
   "source": [
    "apt2018[\"거래금액(만원)\"].mean() # 2018년 => 약 3억2천만원"
   ]
  },
  {
   "cell_type": "code",
   "execution_count": 19,
   "metadata": {},
   "outputs": [
    {
     "data": {
      "text/plain": [
       "34749.826863827795"
      ]
     },
     "execution_count": 19,
     "metadata": {},
     "output_type": "execute_result"
    }
   ],
   "source": [
    "apt2019[\"거래금액(만원)\"].mean() # 2019년 => 약 3억4천만원"
   ]
  },
  {
   "cell_type": "markdown",
   "metadata": {},
   "source": [
    "시간이 지날수록 거래금액 평균이 조금씩 증가하는 것을 알 수 있음."
   ]
  },
  {
   "cell_type": "code",
   "execution_count": 20,
   "metadata": {},
   "outputs": [
    {
     "name": "stderr",
     "output_type": "stream",
     "text": [
      "/Users/kimhyunkyung/anaconda3/lib/python3.7/site-packages/matplotlib/backends/backend_agg.py:211: RuntimeWarning: Glyph 44144 missing from current font.\n",
      "  font.set_text(s, 0.0, flags=flags)\n",
      "/Users/kimhyunkyung/anaconda3/lib/python3.7/site-packages/matplotlib/backends/backend_agg.py:211: RuntimeWarning: Glyph 47000 missing from current font.\n",
      "  font.set_text(s, 0.0, flags=flags)\n",
      "/Users/kimhyunkyung/anaconda3/lib/python3.7/site-packages/matplotlib/backends/backend_agg.py:211: RuntimeWarning: Glyph 44552 missing from current font.\n",
      "  font.set_text(s, 0.0, flags=flags)\n",
      "/Users/kimhyunkyung/anaconda3/lib/python3.7/site-packages/matplotlib/backends/backend_agg.py:211: RuntimeWarning: Glyph 50529 missing from current font.\n",
      "  font.set_text(s, 0.0, flags=flags)\n",
      "/Users/kimhyunkyung/anaconda3/lib/python3.7/site-packages/matplotlib/backends/backend_agg.py:211: RuntimeWarning: Glyph 47564 missing from current font.\n",
      "  font.set_text(s, 0.0, flags=flags)\n",
      "/Users/kimhyunkyung/anaconda3/lib/python3.7/site-packages/matplotlib/backends/backend_agg.py:211: RuntimeWarning: Glyph 50896 missing from current font.\n",
      "  font.set_text(s, 0.0, flags=flags)\n",
      "/Users/kimhyunkyung/anaconda3/lib/python3.7/site-packages/matplotlib/backends/backend_agg.py:180: RuntimeWarning: Glyph 44144 missing from current font.\n",
      "  font.set_text(s, 0, flags=flags)\n",
      "/Users/kimhyunkyung/anaconda3/lib/python3.7/site-packages/matplotlib/backends/backend_agg.py:180: RuntimeWarning: Glyph 47000 missing from current font.\n",
      "  font.set_text(s, 0, flags=flags)\n",
      "/Users/kimhyunkyung/anaconda3/lib/python3.7/site-packages/matplotlib/backends/backend_agg.py:180: RuntimeWarning: Glyph 44552 missing from current font.\n",
      "  font.set_text(s, 0, flags=flags)\n",
      "/Users/kimhyunkyung/anaconda3/lib/python3.7/site-packages/matplotlib/backends/backend_agg.py:180: RuntimeWarning: Glyph 50529 missing from current font.\n",
      "  font.set_text(s, 0, flags=flags)\n",
      "/Users/kimhyunkyung/anaconda3/lib/python3.7/site-packages/matplotlib/backends/backend_agg.py:180: RuntimeWarning: Glyph 47564 missing from current font.\n",
      "  font.set_text(s, 0, flags=flags)\n",
      "/Users/kimhyunkyung/anaconda3/lib/python3.7/site-packages/matplotlib/backends/backend_agg.py:180: RuntimeWarning: Glyph 50896 missing from current font.\n",
      "  font.set_text(s, 0, flags=flags)\n",
      "/Users/kimhyunkyung/anaconda3/lib/python3.7/site-packages/matplotlib/backends/backend_agg.py:211: RuntimeWarning: Glyph 45380 missing from current font.\n",
      "  font.set_text(s, 0.0, flags=flags)\n",
      "/Users/kimhyunkyung/anaconda3/lib/python3.7/site-packages/matplotlib/backends/backend_agg.py:211: RuntimeWarning: Glyph 46020 missing from current font.\n",
      "  font.set_text(s, 0.0, flags=flags)\n",
      "/Users/kimhyunkyung/anaconda3/lib/python3.7/site-packages/matplotlib/backends/backend_agg.py:180: RuntimeWarning: Glyph 45380 missing from current font.\n",
      "  font.set_text(s, 0, flags=flags)\n",
      "/Users/kimhyunkyung/anaconda3/lib/python3.7/site-packages/matplotlib/backends/backend_agg.py:180: RuntimeWarning: Glyph 46020 missing from current font.\n",
      "  font.set_text(s, 0, flags=flags)\n"
     ]
    },
    {
     "data": {
      "image/png": "[encoded data removed]",
      "text/plain": [
       "<Figure size 432x288 with 1 Axes>"
      ]
     },
     "metadata": {
      "needs_background": "light"
     },
     "output_type": "display_data"
    }
   ],
   "source": [
    "# 년도별 거래금액 분포 비교\n",
    "sns.distplot(apt2017[\"거래금액(만원)\"], color=\"blue\", label=\"2017년\")\n",
    "sns.distplot(apt2018[\"거래금액(만원)\"], color=\"red\", label=\"2018년\")\n",
    "sns.distplot(apt2019[\"거래금액(만원)\"], color=\"green\", label=\"2019년\")\n",
    "\n",
    "plt.legend(title=\"년도\")\n",
    "plt.show()"
   ]
  },
  {
   "cell_type": "code",
   "execution_count": 21,
   "metadata": {
    "scrolled": true
   },
   "outputs": [
    {
     "data": {
      "image/png": "[encoded data removed]",
      "text/plain": [
       "<Figure size 432x288 with 1 Axes>"
      ]
     },
     "metadata": {
      "needs_background": "light"
     },
     "output_type": "display_data"
    }
   ],
   "source": [
    "# 잘 안보이기 때문에 확대해서 보기\n",
    "sns.distplot(apt2017[\"거래금액(만원)\"], color=\"blue\", label=\"2017년\")\n",
    "sns.distplot(apt2018[\"거래금액(만원)\"], color=\"red\", label=\"2018년\")\n",
    "sns.distplot(apt2019[\"거래금액(만원)\"], color=\"green\", label=\"2019년\")\n",
    "\n",
    "plt.xlim(0,150000)\n",
    "plt.legend(title=\"년도\")\n",
    "plt.show()"
   ]
  },
  {
   "cell_type": "code",
   "execution_count": 22,
   "metadata": {},
   "outputs": [
    {
     "data": {
      "image/png": "[encoded data removed]",
      "text/plain": [
       "<Figure size 432x288 with 1 Axes>"
      ]
     },
     "metadata": {
      "needs_background": "light"
     },
     "output_type": "display_data"
    }
   ],
   "source": [
    "# 더 확대\n",
    "sns.distplot(apt2017[\"거래금액(만원)\"], color=\"blue\", label=\"2017년\")\n",
    "sns.distplot(apt2018[\"거래금액(만원)\"], color=\"red\", label=\"2018년\")\n",
    "sns.distplot(apt2019[\"거래금액(만원)\"], color=\"green\", label=\"2019년\")\n",
    "\n",
    "plt.xlim(0,100000)\n",
    "plt.legend(title=\"년도\")\n",
    "plt.show()"
   ]
  },
  {
   "cell_type": "markdown",
   "metadata": {},
   "source": [
    "2017, 2018, 2019년도의 거래금액 분포 자체는 비슷함.\n",
    "그런데 자세히 보면 2017, 2018년도에는 약 6억 정도까지의 금액으로 거래된 아파트들의 2019년보다 비교적 많음. \n",
    "2019년은 2017, 2018년보다 저렴한 가격대에 거래된 아파트 수보다 비교적 높은 가격대에 거래된 아파트의 수가 많은 것을 알 수 있음."
   ]
  },
  {
   "cell_type": "markdown",
   "metadata": {},
   "source": [
    "# 건축년도에 따른 층별 거래금액 평균"
   ]
  },
  {
   "cell_type": "markdown",
   "metadata": {},
   "source": [
    "## 2017 년"
   ]
  },
  {
   "cell_type": "code",
   "execution_count": 39,
   "metadata": {
    "scrolled": true
   },
   "outputs": [
    {
     "data": {
      "text/plain": [
       "-3"
      ]
     },
     "execution_count": 39,
     "metadata": {},
     "output_type": "execute_result"
    }
   ],
   "source": [
    "min(apt2017['층'])"
   ]
  },
  {
   "cell_type": "code",
   "execution_count": 40,
   "metadata": {
    "scrolled": false
   },
   "outputs": [
    {
     "data": {
      "text/plain": [
       "77"
      ]
     },
     "execution_count": 40,
     "metadata": {},
     "output_type": "execute_result"
    }
   ],
   "source": [
    "max(apt2017['층'])"
   ]
  },
  {
   "cell_type": "code",
   "execution_count": 45,
   "metadata": {
    "scrolled": true
   },
   "outputs": [
    {
     "data": {
      "text/html": [
       "<div>\n",
       "<style scoped>\n",
       "    .dataframe tbody tr th:only-of-type {\n",
       "        vertical-align: middle;\n",
       "    }\n",
       "\n",
       "    .dataframe tbody tr th {\n",
       "        vertical-align: top;\n",
       "    }\n",
       "\n",
       "    .dataframe thead th {\n",
       "        text-align: right;\n",
       "    }\n",
       "</style>\n",
       "<table border=\"1\" class=\"dataframe\">\n",
       "  <thead>\n",
       "    <tr style=\"text-align: right;\">\n",
       "      <th></th>\n",
       "      <th>거래금액(만원)</th>\n",
       "    </tr>\n",
       "    <tr>\n",
       "      <th>층</th>\n",
       "      <th></th>\n",
       "    </tr>\n",
       "  </thead>\n",
       "  <tbody>\n",
       "    <tr>\n",
       "      <th>76</th>\n",
       "      <td>350340.000000</td>\n",
       "    </tr>\n",
       "    <tr>\n",
       "      <th>77</th>\n",
       "      <td>339690.000000</td>\n",
       "    </tr>\n",
       "    <tr>\n",
       "      <th>74</th>\n",
       "      <td>334990.000000</td>\n",
       "    </tr>\n",
       "    <tr>\n",
       "      <th>72</th>\n",
       "      <td>290506.666667</td>\n",
       "    </tr>\n",
       "    <tr>\n",
       "      <th>73</th>\n",
       "      <td>219820.000000</td>\n",
       "    </tr>\n",
       "    <tr>\n",
       "      <th>67</th>\n",
       "      <td>207670.000000</td>\n",
       "    </tr>\n",
       "    <tr>\n",
       "      <th>71</th>\n",
       "      <td>192970.000000</td>\n",
       "    </tr>\n",
       "    <tr>\n",
       "      <th>68</th>\n",
       "      <td>187820.000000</td>\n",
       "    </tr>\n",
       "    <tr>\n",
       "      <th>70</th>\n",
       "      <td>180260.000000</td>\n",
       "    </tr>\n",
       "    <tr>\n",
       "      <th>63</th>\n",
       "      <td>173235.000000</td>\n",
       "    </tr>\n",
       "    <tr>\n",
       "      <th>62</th>\n",
       "      <td>161435.000000</td>\n",
       "    </tr>\n",
       "    <tr>\n",
       "      <th>65</th>\n",
       "      <td>150089.333333</td>\n",
       "    </tr>\n",
       "    <tr>\n",
       "      <th>60</th>\n",
       "      <td>140576.000000</td>\n",
       "    </tr>\n",
       "    <tr>\n",
       "      <th>64</th>\n",
       "      <td>137122.500000</td>\n",
       "    </tr>\n",
       "    <tr>\n",
       "      <th>61</th>\n",
       "      <td>125600.000000</td>\n",
       "    </tr>\n",
       "    <tr>\n",
       "      <th>66</th>\n",
       "      <td>124500.000000</td>\n",
       "    </tr>\n",
       "    <tr>\n",
       "      <th>58</th>\n",
       "      <td>123751.727273</td>\n",
       "    </tr>\n",
       "    <tr>\n",
       "      <th>48</th>\n",
       "      <td>117674.580645</td>\n",
       "    </tr>\n",
       "    <tr>\n",
       "      <th>69</th>\n",
       "      <td>110000.000000</td>\n",
       "    </tr>\n",
       "    <tr>\n",
       "      <th>46</th>\n",
       "      <td>104987.354839</td>\n",
       "    </tr>\n",
       "    <tr>\n",
       "      <th>57</th>\n",
       "      <td>97698.941176</td>\n",
       "    </tr>\n",
       "    <tr>\n",
       "      <th>59</th>\n",
       "      <td>96966.666667</td>\n",
       "    </tr>\n",
       "    <tr>\n",
       "      <th>44</th>\n",
       "      <td>91788.098361</td>\n",
       "    </tr>\n",
       "    <tr>\n",
       "      <th>49</th>\n",
       "      <td>89318.787879</td>\n",
       "    </tr>\n",
       "    <tr>\n",
       "      <th>54</th>\n",
       "      <td>88672.368421</td>\n",
       "    </tr>\n",
       "    <tr>\n",
       "      <th>55</th>\n",
       "      <td>87660.153846</td>\n",
       "    </tr>\n",
       "    <tr>\n",
       "      <th>45</th>\n",
       "      <td>87457.428571</td>\n",
       "    </tr>\n",
       "    <tr>\n",
       "      <th>43</th>\n",
       "      <td>85171.532258</td>\n",
       "    </tr>\n",
       "    <tr>\n",
       "      <th>51</th>\n",
       "      <td>85097.500000</td>\n",
       "    </tr>\n",
       "    <tr>\n",
       "      <th>36</th>\n",
       "      <td>84372.982036</td>\n",
       "    </tr>\n",
       "    <tr>\n",
       "      <th>...</th>\n",
       "      <td>...</td>\n",
       "    </tr>\n",
       "    <tr>\n",
       "      <th>-1</th>\n",
       "      <td>64384.000000</td>\n",
       "    </tr>\n",
       "    <tr>\n",
       "      <th>28</th>\n",
       "      <td>60880.929050</td>\n",
       "    </tr>\n",
       "    <tr>\n",
       "      <th>30</th>\n",
       "      <td>59888.564972</td>\n",
       "    </tr>\n",
       "    <tr>\n",
       "      <th>27</th>\n",
       "      <td>59726.166329</td>\n",
       "    </tr>\n",
       "    <tr>\n",
       "      <th>26</th>\n",
       "      <td>57322.532991</td>\n",
       "    </tr>\n",
       "    <tr>\n",
       "      <th>25</th>\n",
       "      <td>48412.776460</td>\n",
       "    </tr>\n",
       "    <tr>\n",
       "      <th>24</th>\n",
       "      <td>46182.843078</td>\n",
       "    </tr>\n",
       "    <tr>\n",
       "      <th>21</th>\n",
       "      <td>44340.378984</td>\n",
       "    </tr>\n",
       "    <tr>\n",
       "      <th>23</th>\n",
       "      <td>44203.913139</td>\n",
       "    </tr>\n",
       "    <tr>\n",
       "      <th>22</th>\n",
       "      <td>43623.192176</td>\n",
       "    </tr>\n",
       "    <tr>\n",
       "      <th>19</th>\n",
       "      <td>38357.345834</td>\n",
       "    </tr>\n",
       "    <tr>\n",
       "      <th>20</th>\n",
       "      <td>38351.471823</td>\n",
       "    </tr>\n",
       "    <tr>\n",
       "      <th>18</th>\n",
       "      <td>36877.825456</td>\n",
       "    </tr>\n",
       "    <tr>\n",
       "      <th>16</th>\n",
       "      <td>36233.090654</td>\n",
       "    </tr>\n",
       "    <tr>\n",
       "      <th>17</th>\n",
       "      <td>36198.191082</td>\n",
       "    </tr>\n",
       "    <tr>\n",
       "      <th>12</th>\n",
       "      <td>31989.270096</td>\n",
       "    </tr>\n",
       "    <tr>\n",
       "      <th>11</th>\n",
       "      <td>31937.914556</td>\n",
       "    </tr>\n",
       "    <tr>\n",
       "      <th>14</th>\n",
       "      <td>31933.656375</td>\n",
       "    </tr>\n",
       "    <tr>\n",
       "      <th>13</th>\n",
       "      <td>31836.919757</td>\n",
       "    </tr>\n",
       "    <tr>\n",
       "      <th>15</th>\n",
       "      <td>31531.235845</td>\n",
       "    </tr>\n",
       "    <tr>\n",
       "      <th>10</th>\n",
       "      <td>31531.145752</td>\n",
       "    </tr>\n",
       "    <tr>\n",
       "      <th>9</th>\n",
       "      <td>31484.076994</td>\n",
       "    </tr>\n",
       "    <tr>\n",
       "      <th>8</th>\n",
       "      <td>31443.553037</td>\n",
       "    </tr>\n",
       "    <tr>\n",
       "      <th>7</th>\n",
       "      <td>31307.055016</td>\n",
       "    </tr>\n",
       "    <tr>\n",
       "      <th>6</th>\n",
       "      <td>30547.288332</td>\n",
       "    </tr>\n",
       "    <tr>\n",
       "      <th>5</th>\n",
       "      <td>27861.612859</td>\n",
       "    </tr>\n",
       "    <tr>\n",
       "      <th>3</th>\n",
       "      <td>27731.668026</td>\n",
       "    </tr>\n",
       "    <tr>\n",
       "      <th>4</th>\n",
       "      <td>27703.237734</td>\n",
       "    </tr>\n",
       "    <tr>\n",
       "      <th>2</th>\n",
       "      <td>27216.522926</td>\n",
       "    </tr>\n",
       "    <tr>\n",
       "      <th>1</th>\n",
       "      <td>26084.263350</td>\n",
       "    </tr>\n",
       "  </tbody>\n",
       "</table>\n",
       "<p>78 rows × 1 columns</p>\n",
       "</div>"
      ],
      "text/plain": [
       "          거래금액(만원)\n",
       "층                 \n",
       " 76  350340.000000\n",
       " 77  339690.000000\n",
       " 74  334990.000000\n",
       " 72  290506.666667\n",
       " 73  219820.000000\n",
       " 67  207670.000000\n",
       " 71  192970.000000\n",
       " 68  187820.000000\n",
       " 70  180260.000000\n",
       " 63  173235.000000\n",
       " 62  161435.000000\n",
       " 65  150089.333333\n",
       " 60  140576.000000\n",
       " 64  137122.500000\n",
       " 61  125600.000000\n",
       " 66  124500.000000\n",
       " 58  123751.727273\n",
       " 48  117674.580645\n",
       " 69  110000.000000\n",
       " 46  104987.354839\n",
       " 57   97698.941176\n",
       " 59   96966.666667\n",
       " 44   91788.098361\n",
       " 49   89318.787879\n",
       " 54   88672.368421\n",
       " 55   87660.153846\n",
       " 45   87457.428571\n",
       " 43   85171.532258\n",
       " 51   85097.500000\n",
       " 36   84372.982036\n",
       "..             ...\n",
       "-1    64384.000000\n",
       " 28   60880.929050\n",
       " 30   59888.564972\n",
       " 27   59726.166329\n",
       " 26   57322.532991\n",
       " 25   48412.776460\n",
       " 24   46182.843078\n",
       " 21   44340.378984\n",
       " 23   44203.913139\n",
       " 22   43623.192176\n",
       " 19   38357.345834\n",
       " 20   38351.471823\n",
       " 18   36877.825456\n",
       " 16   36233.090654\n",
       " 17   36198.191082\n",
       " 12   31989.270096\n",
       " 11   31937.914556\n",
       " 14   31933.656375\n",
       " 13   31836.919757\n",
       " 15   31531.235845\n",
       " 10   31531.145752\n",
       " 9    31484.076994\n",
       " 8    31443.553037\n",
       " 7    31307.055016\n",
       " 6    30547.288332\n",
       " 5    27861.612859\n",
       " 3    27731.668026\n",
       " 4    27703.237734\n",
       " 2    27216.522926\n",
       " 1    26084.263350\n",
       "\n",
       "[78 rows x 1 columns]"
      ]
     },
     "metadata": {},
     "output_type": "display_data"
    }
   ],
   "source": [
    "apt2017_floor = apt2017.groupby('층')['거래금액(만원)'].mean().sort_values(ascending=False).to_frame()\n",
    "display(apt2017_floor)"
   ]
  },
  {
   "cell_type": "code",
   "execution_count": 48,
   "metadata": {},
   "outputs": [
    {
     "data": {
      "text/plain": [
       "<matplotlib.axes._subplots.AxesSubplot at 0x1a38d6aef0>"
      ]
     },
     "execution_count": 48,
     "metadata": {},
     "output_type": "execute_result"
    },
    {
     "data": {
      "image/png": "[encoded data removed]",
      "text/plain": [
       "<Figure size 1656x288 with 1 Axes>"
      ]
     },
     "metadata": {
      "needs_background": "light"
     },
     "output_type": "display_data"
    }
   ],
   "source": [
    "apt2017_floor.plot.bar()"
   ]
  },
  {
   "cell_type": "markdown",
   "metadata": {},
   "source": [
    "## 2018 년"
   ]
  },
  {
   "cell_type": "code",
   "execution_count": 49,
   "metadata": {
    "scrolled": true
   },
   "outputs": [
    {
     "data": {
      "text/plain": [
       "-3"
      ]
     },
     "execution_count": 49,
     "metadata": {},
     "output_type": "execute_result"
    }
   ],
   "source": [
    "min(apt2018['층'])"
   ]
  },
  {
   "cell_type": "code",
   "execution_count": 50,
   "metadata": {},
   "outputs": [
    {
     "data": {
      "text/plain": [
       "75"
      ]
     },
     "execution_count": 50,
     "metadata": {},
     "output_type": "execute_result"
    }
   ],
   "source": [
    "max(apt2018['층'])"
   ]
  },
  {
   "cell_type": "code",
   "execution_count": 51,
   "metadata": {},
   "outputs": [
    {
     "data": {
      "text/html": [
       "<div>\n",
       "<style scoped>\n",
       "    .dataframe tbody tr th:only-of-type {\n",
       "        vertical-align: middle;\n",
       "    }\n",
       "\n",
       "    .dataframe tbody tr th {\n",
       "        vertical-align: top;\n",
       "    }\n",
       "\n",
       "    .dataframe thead th {\n",
       "        text-align: right;\n",
       "    }\n",
       "</style>\n",
       "<table border=\"1\" class=\"dataframe\">\n",
       "  <thead>\n",
       "    <tr style=\"text-align: right;\">\n",
       "      <th></th>\n",
       "      <th>거래금액(만원)</th>\n",
       "    </tr>\n",
       "    <tr>\n",
       "      <th>층</th>\n",
       "      <th></th>\n",
       "    </tr>\n",
       "  </thead>\n",
       "  <tbody>\n",
       "    <tr>\n",
       "      <th>-2</th>\n",
       "      <td>339000.000000</td>\n",
       "    </tr>\n",
       "    <tr>\n",
       "      <th>74</th>\n",
       "      <td>319940.000000</td>\n",
       "    </tr>\n",
       "    <tr>\n",
       "      <th>60</th>\n",
       "      <td>200125.000000</td>\n",
       "    </tr>\n",
       "    <tr>\n",
       "      <th>62</th>\n",
       "      <td>195200.000000</td>\n",
       "    </tr>\n",
       "    <tr>\n",
       "      <th>63</th>\n",
       "      <td>189200.000000</td>\n",
       "    </tr>\n",
       "    <tr>\n",
       "      <th>68</th>\n",
       "      <td>172018.000000</td>\n",
       "    </tr>\n",
       "    <tr>\n",
       "      <th>75</th>\n",
       "      <td>168520.000000</td>\n",
       "    </tr>\n",
       "    <tr>\n",
       "      <th>66</th>\n",
       "      <td>162512.500000</td>\n",
       "    </tr>\n",
       "    <tr>\n",
       "      <th>73</th>\n",
       "      <td>154000.000000</td>\n",
       "    </tr>\n",
       "    <tr>\n",
       "      <th>69</th>\n",
       "      <td>140000.000000</td>\n",
       "    </tr>\n",
       "    <tr>\n",
       "      <th>65</th>\n",
       "      <td>139250.000000</td>\n",
       "    </tr>\n",
       "    <tr>\n",
       "      <th>61</th>\n",
       "      <td>128485.000000</td>\n",
       "    </tr>\n",
       "    <tr>\n",
       "      <th>58</th>\n",
       "      <td>128429.300000</td>\n",
       "    </tr>\n",
       "    <tr>\n",
       "      <th>67</th>\n",
       "      <td>124600.000000</td>\n",
       "    </tr>\n",
       "    <tr>\n",
       "      <th>64</th>\n",
       "      <td>123965.000000</td>\n",
       "    </tr>\n",
       "    <tr>\n",
       "      <th>71</th>\n",
       "      <td>115000.000000</td>\n",
       "    </tr>\n",
       "    <tr>\n",
       "      <th>-1</th>\n",
       "      <td>114555.789474</td>\n",
       "    </tr>\n",
       "    <tr>\n",
       "      <th>47</th>\n",
       "      <td>108780.588235</td>\n",
       "    </tr>\n",
       "    <tr>\n",
       "      <th>53</th>\n",
       "      <td>107416.000000</td>\n",
       "    </tr>\n",
       "    <tr>\n",
       "      <th>56</th>\n",
       "      <td>106542.857143</td>\n",
       "    </tr>\n",
       "    <tr>\n",
       "      <th>52</th>\n",
       "      <td>99907.857143</td>\n",
       "    </tr>\n",
       "    <tr>\n",
       "      <th>55</th>\n",
       "      <td>99087.222222</td>\n",
       "    </tr>\n",
       "    <tr>\n",
       "      <th>51</th>\n",
       "      <td>96531.818182</td>\n",
       "    </tr>\n",
       "    <tr>\n",
       "      <th>44</th>\n",
       "      <td>93648.627451</td>\n",
       "    </tr>\n",
       "    <tr>\n",
       "      <th>41</th>\n",
       "      <td>93180.704225</td>\n",
       "    </tr>\n",
       "    <tr>\n",
       "      <th>42</th>\n",
       "      <td>91820.857143</td>\n",
       "    </tr>\n",
       "    <tr>\n",
       "      <th>43</th>\n",
       "      <td>86143.281690</td>\n",
       "    </tr>\n",
       "    <tr>\n",
       "      <th>45</th>\n",
       "      <td>85361.969697</td>\n",
       "    </tr>\n",
       "    <tr>\n",
       "      <th>59</th>\n",
       "      <td>84500.000000</td>\n",
       "    </tr>\n",
       "    <tr>\n",
       "      <th>54</th>\n",
       "      <td>84368.000000</td>\n",
       "    </tr>\n",
       "    <tr>\n",
       "      <th>...</th>\n",
       "      <td>...</td>\n",
       "    </tr>\n",
       "    <tr>\n",
       "      <th>31</th>\n",
       "      <td>65644.015464</td>\n",
       "    </tr>\n",
       "    <tr>\n",
       "      <th>29</th>\n",
       "      <td>61084.175439</td>\n",
       "    </tr>\n",
       "    <tr>\n",
       "      <th>28</th>\n",
       "      <td>58342.454768</td>\n",
       "    </tr>\n",
       "    <tr>\n",
       "      <th>27</th>\n",
       "      <td>58055.059252</td>\n",
       "    </tr>\n",
       "    <tr>\n",
       "      <th>26</th>\n",
       "      <td>56150.588542</td>\n",
       "    </tr>\n",
       "    <tr>\n",
       "      <th>25</th>\n",
       "      <td>46969.448323</td>\n",
       "    </tr>\n",
       "    <tr>\n",
       "      <th>24</th>\n",
       "      <td>46888.561934</td>\n",
       "    </tr>\n",
       "    <tr>\n",
       "      <th>22</th>\n",
       "      <td>45517.068901</td>\n",
       "    </tr>\n",
       "    <tr>\n",
       "      <th>23</th>\n",
       "      <td>44783.657464</td>\n",
       "    </tr>\n",
       "    <tr>\n",
       "      <th>21</th>\n",
       "      <td>43050.616463</td>\n",
       "    </tr>\n",
       "    <tr>\n",
       "      <th>20</th>\n",
       "      <td>39906.156672</td>\n",
       "    </tr>\n",
       "    <tr>\n",
       "      <th>19</th>\n",
       "      <td>38712.709478</td>\n",
       "    </tr>\n",
       "    <tr>\n",
       "      <th>18</th>\n",
       "      <td>37972.524379</td>\n",
       "    </tr>\n",
       "    <tr>\n",
       "      <th>17</th>\n",
       "      <td>37272.850962</td>\n",
       "    </tr>\n",
       "    <tr>\n",
       "      <th>16</th>\n",
       "      <td>36593.771632</td>\n",
       "    </tr>\n",
       "    <tr>\n",
       "      <th>11</th>\n",
       "      <td>32963.503029</td>\n",
       "    </tr>\n",
       "    <tr>\n",
       "      <th>14</th>\n",
       "      <td>32869.332651</td>\n",
       "    </tr>\n",
       "    <tr>\n",
       "      <th>15</th>\n",
       "      <td>32867.324106</td>\n",
       "    </tr>\n",
       "    <tr>\n",
       "      <th>13</th>\n",
       "      <td>32769.790194</td>\n",
       "    </tr>\n",
       "    <tr>\n",
       "      <th>12</th>\n",
       "      <td>32747.561823</td>\n",
       "    </tr>\n",
       "    <tr>\n",
       "      <th>9</th>\n",
       "      <td>32350.523697</td>\n",
       "    </tr>\n",
       "    <tr>\n",
       "      <th>10</th>\n",
       "      <td>32242.984785</td>\n",
       "    </tr>\n",
       "    <tr>\n",
       "      <th>7</th>\n",
       "      <td>32239.805924</td>\n",
       "    </tr>\n",
       "    <tr>\n",
       "      <th>8</th>\n",
       "      <td>31934.009375</td>\n",
       "    </tr>\n",
       "    <tr>\n",
       "      <th>6</th>\n",
       "      <td>31396.925988</td>\n",
       "    </tr>\n",
       "    <tr>\n",
       "      <th>5</th>\n",
       "      <td>28904.498939</td>\n",
       "    </tr>\n",
       "    <tr>\n",
       "      <th>3</th>\n",
       "      <td>28814.076076</td>\n",
       "    </tr>\n",
       "    <tr>\n",
       "      <th>4</th>\n",
       "      <td>28544.187591</td>\n",
       "    </tr>\n",
       "    <tr>\n",
       "      <th>2</th>\n",
       "      <td>28451.587074</td>\n",
       "    </tr>\n",
       "    <tr>\n",
       "      <th>1</th>\n",
       "      <td>27055.099613</td>\n",
       "    </tr>\n",
       "  </tbody>\n",
       "</table>\n",
       "<p>76 rows × 1 columns</p>\n",
       "</div>"
      ],
      "text/plain": [
       "          거래금액(만원)\n",
       "층                 \n",
       "-2   339000.000000\n",
       " 74  319940.000000\n",
       " 60  200125.000000\n",
       " 62  195200.000000\n",
       " 63  189200.000000\n",
       " 68  172018.000000\n",
       " 75  168520.000000\n",
       " 66  162512.500000\n",
       " 73  154000.000000\n",
       " 69  140000.000000\n",
       " 65  139250.000000\n",
       " 61  128485.000000\n",
       " 58  128429.300000\n",
       " 67  124600.000000\n",
       " 64  123965.000000\n",
       " 71  115000.000000\n",
       "-1   114555.789474\n",
       " 47  108780.588235\n",
       " 53  107416.000000\n",
       " 56  106542.857143\n",
       " 52   99907.857143\n",
       " 55   99087.222222\n",
       " 51   96531.818182\n",
       " 44   93648.627451\n",
       " 41   93180.704225\n",
       " 42   91820.857143\n",
       " 43   86143.281690\n",
       " 45   85361.969697\n",
       " 59   84500.000000\n",
       " 54   84368.000000\n",
       "..             ...\n",
       " 31   65644.015464\n",
       " 29   61084.175439\n",
       " 28   58342.454768\n",
       " 27   58055.059252\n",
       " 26   56150.588542\n",
       " 25   46969.448323\n",
       " 24   46888.561934\n",
       " 22   45517.068901\n",
       " 23   44783.657464\n",
       " 21   43050.616463\n",
       " 20   39906.156672\n",
       " 19   38712.709478\n",
       " 18   37972.524379\n",
       " 17   37272.850962\n",
       " 16   36593.771632\n",
       " 11   32963.503029\n",
       " 14   32869.332651\n",
       " 15   32867.324106\n",
       " 13   32769.790194\n",
       " 12   32747.561823\n",
       " 9    32350.523697\n",
       " 10   32242.984785\n",
       " 7    32239.805924\n",
       " 8    31934.009375\n",
       " 6    31396.925988\n",
       " 5    28904.498939\n",
       " 3    28814.076076\n",
       " 4    28544.187591\n",
       " 2    28451.587074\n",
       " 1    27055.099613\n",
       "\n",
       "[76 rows x 1 columns]"
      ]
     },
     "metadata": {},
     "output_type": "display_data"
    }
   ],
   "source": [
    "apt2018_floor = apt2018.groupby('층')['거래금액(만원)'].mean().sort_values(ascending=False).to_frame()\n",
    "display(apt2018_floor)"
   ]
  },
  {
   "cell_type": "code",
   "execution_count": 52,
   "metadata": {
    "scrolled": true
   },
   "outputs": [
    {
     "data": {
      "text/plain": [
       "<matplotlib.axes._subplots.AxesSubplot at 0x1a6cea31d0>"
      ]
     },
     "execution_count": 52,
     "metadata": {},
     "output_type": "execute_result"
    },
    {
     "data": {
      "image/png": "[encoded data removed]",
      "text/plain": [
       "<Figure size 1656x288 with 1 Axes>"
      ]
     },
     "metadata": {
      "needs_background": "light"
     },
     "output_type": "display_data"
    }
   ],
   "source": [
    "apt2018_floor.plot.bar()"
   ]
  },
  {
   "cell_type": "markdown",
   "metadata": {},
   "source": [
    "## 2019 년"
   ]
  },
  {
   "cell_type": "code",
   "execution_count": 27,
   "metadata": {},
   "outputs": [
    {
     "data": {
      "text/plain": [
       "-2"
      ]
     },
     "execution_count": 27,
     "metadata": {},
     "output_type": "execute_result"
    }
   ],
   "source": [
    "min(apt2019['층'])"
   ]
  },
  {
   "cell_type": "code",
   "execution_count": 28,
   "metadata": {},
   "outputs": [
    {
     "data": {
      "text/plain": [
       "77"
      ]
     },
     "execution_count": 28,
     "metadata": {},
     "output_type": "execute_result"
    }
   ],
   "source": [
    "max(apt2019['층'])"
   ]
  },
  {
   "cell_type": "code",
   "execution_count": 53,
   "metadata": {},
   "outputs": [
    {
     "data": {
      "text/html": [
       "<div>\n",
       "<style scoped>\n",
       "    .dataframe tbody tr th:only-of-type {\n",
       "        vertical-align: middle;\n",
       "    }\n",
       "\n",
       "    .dataframe tbody tr th {\n",
       "        vertical-align: top;\n",
       "    }\n",
       "\n",
       "    .dataframe thead th {\n",
       "        text-align: right;\n",
       "    }\n",
       "</style>\n",
       "<table border=\"1\" class=\"dataframe\">\n",
       "  <thead>\n",
       "    <tr style=\"text-align: right;\">\n",
       "      <th></th>\n",
       "      <th>거래금액(만원)</th>\n",
       "    </tr>\n",
       "    <tr>\n",
       "      <th>층</th>\n",
       "      <th></th>\n",
       "    </tr>\n",
       "  </thead>\n",
       "  <tbody>\n",
       "    <tr>\n",
       "      <th>-2</th>\n",
       "      <td>470333.333333</td>\n",
       "    </tr>\n",
       "    <tr>\n",
       "      <th>76</th>\n",
       "      <td>350340.000000</td>\n",
       "    </tr>\n",
       "    <tr>\n",
       "      <th>77</th>\n",
       "      <td>339690.000000</td>\n",
       "    </tr>\n",
       "    <tr>\n",
       "      <th>73</th>\n",
       "      <td>330640.000000</td>\n",
       "    </tr>\n",
       "    <tr>\n",
       "      <th>70</th>\n",
       "      <td>243546.666667</td>\n",
       "    </tr>\n",
       "    <tr>\n",
       "      <th>75</th>\n",
       "      <td>226870.000000</td>\n",
       "    </tr>\n",
       "    <tr>\n",
       "      <th>62</th>\n",
       "      <td>212600.000000</td>\n",
       "    </tr>\n",
       "    <tr>\n",
       "      <th>67</th>\n",
       "      <td>206000.000000</td>\n",
       "    </tr>\n",
       "    <tr>\n",
       "      <th>61</th>\n",
       "      <td>181812.500000</td>\n",
       "    </tr>\n",
       "    <tr>\n",
       "      <th>72</th>\n",
       "      <td>178700.500000</td>\n",
       "    </tr>\n",
       "    <tr>\n",
       "      <th>69</th>\n",
       "      <td>175000.000000</td>\n",
       "    </tr>\n",
       "    <tr>\n",
       "      <th>65</th>\n",
       "      <td>170500.000000</td>\n",
       "    </tr>\n",
       "    <tr>\n",
       "      <th>66</th>\n",
       "      <td>151928.571429</td>\n",
       "    </tr>\n",
       "    <tr>\n",
       "      <th>68</th>\n",
       "      <td>141500.000000</td>\n",
       "    </tr>\n",
       "    <tr>\n",
       "      <th>63</th>\n",
       "      <td>138750.000000</td>\n",
       "    </tr>\n",
       "    <tr>\n",
       "      <th>64</th>\n",
       "      <td>135171.428571</td>\n",
       "    </tr>\n",
       "    <tr>\n",
       "      <th>59</th>\n",
       "      <td>131890.000000</td>\n",
       "    </tr>\n",
       "    <tr>\n",
       "      <th>58</th>\n",
       "      <td>130633.333333</td>\n",
       "    </tr>\n",
       "    <tr>\n",
       "      <th>60</th>\n",
       "      <td>130055.555556</td>\n",
       "    </tr>\n",
       "    <tr>\n",
       "      <th>71</th>\n",
       "      <td>120500.000000</td>\n",
       "    </tr>\n",
       "    <tr>\n",
       "      <th>57</th>\n",
       "      <td>119244.444444</td>\n",
       "    </tr>\n",
       "    <tr>\n",
       "      <th>54</th>\n",
       "      <td>118071.428571</td>\n",
       "    </tr>\n",
       "    <tr>\n",
       "      <th>55</th>\n",
       "      <td>113879.866667</td>\n",
       "    </tr>\n",
       "    <tr>\n",
       "      <th>52</th>\n",
       "      <td>112136.736842</td>\n",
       "    </tr>\n",
       "    <tr>\n",
       "      <th>51</th>\n",
       "      <td>109771.157895</td>\n",
       "    </tr>\n",
       "    <tr>\n",
       "      <th>56</th>\n",
       "      <td>103950.000000</td>\n",
       "    </tr>\n",
       "    <tr>\n",
       "      <th>0</th>\n",
       "      <td>94500.000000</td>\n",
       "    </tr>\n",
       "    <tr>\n",
       "      <th>48</th>\n",
       "      <td>94298.054054</td>\n",
       "    </tr>\n",
       "    <tr>\n",
       "      <th>43</th>\n",
       "      <td>87543.978495</td>\n",
       "    </tr>\n",
       "    <tr>\n",
       "      <th>41</th>\n",
       "      <td>86268.872881</td>\n",
       "    </tr>\n",
       "    <tr>\n",
       "      <th>...</th>\n",
       "      <td>...</td>\n",
       "    </tr>\n",
       "    <tr>\n",
       "      <th>31</th>\n",
       "      <td>62808.303859</td>\n",
       "    </tr>\n",
       "    <tr>\n",
       "      <th>28</th>\n",
       "      <td>61104.533981</td>\n",
       "    </tr>\n",
       "    <tr>\n",
       "      <th>27</th>\n",
       "      <td>58474.046198</td>\n",
       "    </tr>\n",
       "    <tr>\n",
       "      <th>29</th>\n",
       "      <td>57001.700294</td>\n",
       "    </tr>\n",
       "    <tr>\n",
       "      <th>26</th>\n",
       "      <td>56587.200126</td>\n",
       "    </tr>\n",
       "    <tr>\n",
       "      <th>25</th>\n",
       "      <td>49683.361492</td>\n",
       "    </tr>\n",
       "    <tr>\n",
       "      <th>24</th>\n",
       "      <td>49206.465242</td>\n",
       "    </tr>\n",
       "    <tr>\n",
       "      <th>22</th>\n",
       "      <td>47969.442266</td>\n",
       "    </tr>\n",
       "    <tr>\n",
       "      <th>23</th>\n",
       "      <td>47812.202327</td>\n",
       "    </tr>\n",
       "    <tr>\n",
       "      <th>21</th>\n",
       "      <td>46252.369606</td>\n",
       "    </tr>\n",
       "    <tr>\n",
       "      <th>20</th>\n",
       "      <td>41523.098240</td>\n",
       "    </tr>\n",
       "    <tr>\n",
       "      <th>19</th>\n",
       "      <td>40881.891354</td>\n",
       "    </tr>\n",
       "    <tr>\n",
       "      <th>18</th>\n",
       "      <td>39893.966889</td>\n",
       "    </tr>\n",
       "    <tr>\n",
       "      <th>16</th>\n",
       "      <td>39512.077578</td>\n",
       "    </tr>\n",
       "    <tr>\n",
       "      <th>17</th>\n",
       "      <td>39436.490549</td>\n",
       "    </tr>\n",
       "    <tr>\n",
       "      <th>12</th>\n",
       "      <td>35274.858191</td>\n",
       "    </tr>\n",
       "    <tr>\n",
       "      <th>15</th>\n",
       "      <td>35177.312581</td>\n",
       "    </tr>\n",
       "    <tr>\n",
       "      <th>13</th>\n",
       "      <td>35028.883698</td>\n",
       "    </tr>\n",
       "    <tr>\n",
       "      <th>11</th>\n",
       "      <td>35014.593190</td>\n",
       "    </tr>\n",
       "    <tr>\n",
       "      <th>10</th>\n",
       "      <td>34805.068760</td>\n",
       "    </tr>\n",
       "    <tr>\n",
       "      <th>14</th>\n",
       "      <td>34802.274931</td>\n",
       "    </tr>\n",
       "    <tr>\n",
       "      <th>9</th>\n",
       "      <td>34728.197626</td>\n",
       "    </tr>\n",
       "    <tr>\n",
       "      <th>8</th>\n",
       "      <td>34369.209552</td>\n",
       "    </tr>\n",
       "    <tr>\n",
       "      <th>7</th>\n",
       "      <td>34050.017106</td>\n",
       "    </tr>\n",
       "    <tr>\n",
       "      <th>6</th>\n",
       "      <td>33593.289720</td>\n",
       "    </tr>\n",
       "    <tr>\n",
       "      <th>5</th>\n",
       "      <td>30597.999478</td>\n",
       "    </tr>\n",
       "    <tr>\n",
       "      <th>4</th>\n",
       "      <td>30539.649467</td>\n",
       "    </tr>\n",
       "    <tr>\n",
       "      <th>3</th>\n",
       "      <td>30236.832819</td>\n",
       "    </tr>\n",
       "    <tr>\n",
       "      <th>2</th>\n",
       "      <td>29779.412758</td>\n",
       "    </tr>\n",
       "    <tr>\n",
       "      <th>1</th>\n",
       "      <td>28625.671676</td>\n",
       "    </tr>\n",
       "  </tbody>\n",
       "</table>\n",
       "<p>79 rows × 1 columns</p>\n",
       "</div>"
      ],
      "text/plain": [
       "          거래금액(만원)\n",
       "층                 \n",
       "-2   470333.333333\n",
       " 76  350340.000000\n",
       " 77  339690.000000\n",
       " 73  330640.000000\n",
       " 70  243546.666667\n",
       " 75  226870.000000\n",
       " 62  212600.000000\n",
       " 67  206000.000000\n",
       " 61  181812.500000\n",
       " 72  178700.500000\n",
       " 69  175000.000000\n",
       " 65  170500.000000\n",
       " 66  151928.571429\n",
       " 68  141500.000000\n",
       " 63  138750.000000\n",
       " 64  135171.428571\n",
       " 59  131890.000000\n",
       " 58  130633.333333\n",
       " 60  130055.555556\n",
       " 71  120500.000000\n",
       " 57  119244.444444\n",
       " 54  118071.428571\n",
       " 55  113879.866667\n",
       " 52  112136.736842\n",
       " 51  109771.157895\n",
       " 56  103950.000000\n",
       " 0    94500.000000\n",
       " 48   94298.054054\n",
       " 43   87543.978495\n",
       " 41   86268.872881\n",
       "..             ...\n",
       " 31   62808.303859\n",
       " 28   61104.533981\n",
       " 27   58474.046198\n",
       " 29   57001.700294\n",
       " 26   56587.200126\n",
       " 25   49683.361492\n",
       " 24   49206.465242\n",
       " 22   47969.442266\n",
       " 23   47812.202327\n",
       " 21   46252.369606\n",
       " 20   41523.098240\n",
       " 19   40881.891354\n",
       " 18   39893.966889\n",
       " 16   39512.077578\n",
       " 17   39436.490549\n",
       " 12   35274.858191\n",
       " 15   35177.312581\n",
       " 13   35028.883698\n",
       " 11   35014.593190\n",
       " 10   34805.068760\n",
       " 14   34802.274931\n",
       " 9    34728.197626\n",
       " 8    34369.209552\n",
       " 7    34050.017106\n",
       " 6    33593.289720\n",
       " 5    30597.999478\n",
       " 4    30539.649467\n",
       " 3    30236.832819\n",
       " 2    29779.412758\n",
       " 1    28625.671676\n",
       "\n",
       "[79 rows x 1 columns]"
      ]
     },
     "metadata": {},
     "output_type": "display_data"
    }
   ],
   "source": [
    "apt2019_floor = apt2019.groupby('층')['거래금액(만원)'].mean().sort_values(ascending=False).to_frame()\n",
    "display(apt2019_floor)"
   ]
  },
  {
   "cell_type": "code",
   "execution_count": 54,
   "metadata": {
    "scrolled": false
   },
   "outputs": [
    {
     "data": {
      "text/plain": [
       "<matplotlib.axes._subplots.AxesSubplot at 0x1a6f6cc400>"
      ]
     },
     "execution_count": 54,
     "metadata": {},
     "output_type": "execute_result"
    },
    {
     "data": {
      "image/png": "[encoded data removed]",
      "text/plain": [
       "<Figure size 1656x288 with 1 Axes>"
      ]
     },
     "metadata": {
      "needs_background": "light"
     },
     "output_type": "display_data"
    }
   ],
   "source": [
    "apt2019_floor.plot.bar()"
   ]
  },
  {
   "cell_type": "markdown",
   "metadata": {},
   "source": [
    "# 층별 그룹화 거래금액 평균 비교"
   ]
  },
  {
   "cell_type": "code",
   "execution_count": null,
   "metadata": {},
   "outputs": [],
   "source": [
    "# 2017 새로운 열을 추가함\n",
    "apt2017['floor_group'] = apt2017['층']\n",
    "\n",
    "# floor_group은 문자열로 바꿔주기\n",
    "apt2017['floor_group'] = apt2017['floor_group'].astype(str)\n",
    "\n",
    "apt2017.loc[apt2017['층'] <= 0, 'floor_group'] = \"지하\"\n",
    "apt2017.loc[(apt2017['층'] > 0) & (apt2017['층'] <= 5), 'floor_group'] = \"1~5층\"\n",
    "apt2017.loc[(apt2017['층'] > 5) & (apt2017['층'] <= 10), 'floor_group'] = \"6~10층\"\n",
    "apt2017.loc[(apt2017['층'] > 10) & (apt2017['층'] <= 15), 'floor_group'] = \"11~15층\"\n",
    "apt2017.loc[(apt2017['층'] > 15) & (apt2017['층'] <= 20), 'floor_group'] = \"16~20층\"\n",
    "apt2017.loc[(apt2017['층'] > 20) & (apt2017['층'] <= 25), 'floor_group'] = \"21~25층\"\n",
    "apt2017.loc[(apt2017['층'] > 25) & (apt2017['층'] <= 30), 'floor_group'] = \"26~30층\"\n",
    "apt2017.loc[apt2017['층'] > 30, 'floor_group'] = \"31층 이상\"\n",
    "\n",
    "# 2018 새로운 열을 추가함\n",
    "apt2018['floor_group'] = apt2018['층']\n",
    "\n",
    "# floor_group은 문자열로 바꿔주기\n",
    "apt2018['floor_group'] = apt2018['floor_group'].astype(str)\n",
    "\n",
    "apt2018.loc[apt2018['층'] <= 0, 'floor_group'] = \"지하\"\n",
    "apt2018.loc[(apt2018['층'] > 0) & (apt2018['층'] <= 5), 'floor_group'] = \"1~5층\"\n",
    "apt2018.loc[(apt2018['층'] > 5) & (apt2018['층'] <= 10), 'floor_group'] = \"6~10층\"\n",
    "apt2018.loc[(apt2018['층'] > 10) & (apt2018['층'] <= 15), 'floor_group'] = \"11~15층\"\n",
    "apt2018.loc[(apt2018['층'] > 15) & (apt2018['층'] <= 20), 'floor_group'] = \"16~20층\"\n",
    "apt2018.loc[(apt2018['층'] > 20) & (apt2018['층'] <= 25), 'floor_group'] = \"21~25층\"\n",
    "apt2018.loc[(apt2018['층'] > 25) & (apt2018['층'] <= 30), 'floor_group'] = \"26~30층\"\n",
    "apt2018.loc[apt2018['층'] > 30, 'floor_group'] = \"31층 이상\"\n",
    "\n",
    "# 2019 새로운 열을 추가함\n",
    "apt2019['floor_group'] = apt2019['층']\n",
    "\n",
    "# floor_group은 문자열로 바꿔주기\n",
    "apt2019['floor_group'] = apt2019['floor_group'].astype(str)\n",
    "\n",
    "apt2019.loc[apt2019['층'] <= 0, 'floor_group'] = \"지하\"\n",
    "apt2019.loc[(apt2019['층'] > 0) & (apt2019['층'] <= 5), 'floor_group'] = \"1~5층\"\n",
    "apt2019.loc[(apt2019['층'] > 5) & (apt2019['층'] <= 10), 'floor_group'] = \"6~10층\"\n",
    "apt2019.loc[(apt2019['층'] > 10) & (apt2019['층'] <= 15), 'floor_group'] = \"11~15층\"\n",
    "apt2019.loc[(apt2019['층'] > 15) & (apt2019['층'] <= 20), 'floor_group'] = \"16~20층\"\n",
    "apt2019.loc[(apt2019['층'] > 20) & (apt2019['층'] <= 25), 'floor_group'] = \"21~25층\"\n",
    "apt2019.loc[(apt2019['층'] > 25) & (apt2019['층'] <= 30), 'floor_group'] = \"26~30층\"\n",
    "apt2019.loc[apt2019['층'] > 30, 'floor_group'] = \"31층 이상\""
   ]
  },
  {
   "cell_type": "markdown",
   "metadata": {},
   "source": [
    "# 2017"
   ]
  },
  {
   "cell_type": "code",
   "execution_count": 95,
   "metadata": {},
   "outputs": [
    {
     "data": {
      "text/html": [
       "<div>\n",
       "<style scoped>\n",
       "    .dataframe tbody tr th:only-of-type {\n",
       "        vertical-align: middle;\n",
       "    }\n",
       "\n",
       "    .dataframe tbody tr th {\n",
       "        vertical-align: top;\n",
       "    }\n",
       "\n",
       "    .dataframe thead th {\n",
       "        text-align: right;\n",
       "    }\n",
       "</style>\n",
       "<table border=\"1\" class=\"dataframe\">\n",
       "  <thead>\n",
       "    <tr style=\"text-align: right;\">\n",
       "      <th></th>\n",
       "      <th>거래금액(만원)</th>\n",
       "    </tr>\n",
       "    <tr>\n",
       "      <th>floor_group</th>\n",
       "      <th></th>\n",
       "    </tr>\n",
       "  </thead>\n",
       "  <tbody>\n",
       "    <tr>\n",
       "      <th>31층 이상</th>\n",
       "      <td>78134.606664</td>\n",
       "    </tr>\n",
       "    <tr>\n",
       "      <th>지하</th>\n",
       "      <td>64619.230769</td>\n",
       "    </tr>\n",
       "    <tr>\n",
       "      <th>26~30층</th>\n",
       "      <td>60333.197988</td>\n",
       "    </tr>\n",
       "    <tr>\n",
       "      <th>21~25층</th>\n",
       "      <td>44966.771159</td>\n",
       "    </tr>\n",
       "    <tr>\n",
       "      <th>16~20층</th>\n",
       "      <td>37027.245189</td>\n",
       "    </tr>\n",
       "    <tr>\n",
       "      <th>11~15층</th>\n",
       "      <td>31856.647829</td>\n",
       "    </tr>\n",
       "    <tr>\n",
       "      <th>6~10층</th>\n",
       "      <td>31249.397777</td>\n",
       "    </tr>\n",
       "    <tr>\n",
       "      <th>1~5층</th>\n",
       "      <td>27353.397956</td>\n",
       "    </tr>\n",
       "  </tbody>\n",
       "</table>\n",
       "</div>"
      ],
      "text/plain": [
       "                 거래금액(만원)\n",
       "floor_group              \n",
       "31층 이상       78134.606664\n",
       "지하           64619.230769\n",
       "26~30층       60333.197988\n",
       "21~25층       44966.771159\n",
       "16~20층       37027.245189\n",
       "11~15층       31856.647829\n",
       "6~10층        31249.397777\n",
       "1~5층         27353.397956"
      ]
     },
     "execution_count": 95,
     "metadata": {},
     "output_type": "execute_result"
    }
   ],
   "source": [
    "apt2017.groupby('floor_group')['거래금액(만원)'].mean().sort_values(ascending=False).to_frame()"
   ]
  },
  {
   "cell_type": "code",
   "execution_count": 96,
   "metadata": {
    "scrolled": true
   },
   "outputs": [
    {
     "data": {
      "text/plain": [
       "<matplotlib.axes._subplots.AxesSubplot at 0x1a65f39400>"
      ]
     },
     "execution_count": 96,
     "metadata": {},
     "output_type": "execute_result"
    },
    {
     "data": {
      "image/png": "[encoded data removed]",
      "text/plain": [
       "<Figure size 1656x288 with 1 Axes>"
      ]
     },
     "metadata": {
      "needs_background": "light"
     },
     "output_type": "display_data"
    }
   ],
   "source": [
    "apt2017.groupby('floor_group')['거래금액(만원)'].mean().sort_values(ascending=False).to_frame().plot.bar()"
   ]
  },
  {
   "cell_type": "markdown",
   "metadata": {},
   "source": [
    "# 2018"
   ]
  },
  {
   "cell_type": "code",
   "execution_count": 98,
   "metadata": {
    "scrolled": true
   },
   "outputs": [
    {
     "data": {
      "text/html": [
       "<div>\n",
       "<style scoped>\n",
       "    .dataframe tbody tr th:only-of-type {\n",
       "        vertical-align: middle;\n",
       "    }\n",
       "\n",
       "    .dataframe tbody tr th {\n",
       "        vertical-align: top;\n",
       "    }\n",
       "\n",
       "    .dataframe thead th {\n",
       "        text-align: right;\n",
       "    }\n",
       "</style>\n",
       "<table border=\"1\" class=\"dataframe\">\n",
       "  <thead>\n",
       "    <tr style=\"text-align: right;\">\n",
       "      <th></th>\n",
       "      <th>거래금액(만원)</th>\n",
       "    </tr>\n",
       "    <tr>\n",
       "      <th>floor_group</th>\n",
       "      <th></th>\n",
       "    </tr>\n",
       "  </thead>\n",
       "  <tbody>\n",
       "    <tr>\n",
       "      <th>지하</th>\n",
       "      <td>150210.833333</td>\n",
       "    </tr>\n",
       "    <tr>\n",
       "      <th>31층 이상</th>\n",
       "      <td>78497.691822</td>\n",
       "    </tr>\n",
       "    <tr>\n",
       "      <th>26~30층</th>\n",
       "      <td>59512.325986</td>\n",
       "    </tr>\n",
       "    <tr>\n",
       "      <th>21~25층</th>\n",
       "      <td>45116.477978</td>\n",
       "    </tr>\n",
       "    <tr>\n",
       "      <th>16~20층</th>\n",
       "      <td>37887.947227</td>\n",
       "    </tr>\n",
       "    <tr>\n",
       "      <th>11~15층</th>\n",
       "      <td>32843.466605</td>\n",
       "    </tr>\n",
       "    <tr>\n",
       "      <th>6~10층</th>\n",
       "      <td>32022.757447</td>\n",
       "    </tr>\n",
       "    <tr>\n",
       "      <th>1~5층</th>\n",
       "      <td>28393.912590</td>\n",
       "    </tr>\n",
       "  </tbody>\n",
       "</table>\n",
       "</div>"
      ],
      "text/plain": [
       "                  거래금액(만원)\n",
       "floor_group               \n",
       "지하           150210.833333\n",
       "31층 이상        78497.691822\n",
       "26~30층        59512.325986\n",
       "21~25층        45116.477978\n",
       "16~20층        37887.947227\n",
       "11~15층        32843.466605\n",
       "6~10층         32022.757447\n",
       "1~5층          28393.912590"
      ]
     },
     "execution_count": 98,
     "metadata": {},
     "output_type": "execute_result"
    }
   ],
   "source": [
    "apt2018.groupby('floor_group')['거래금액(만원)'].mean().sort_values(ascending=False).to_frame()"
   ]
  },
  {
   "cell_type": "code",
   "execution_count": 97,
   "metadata": {
    "scrolled": false
   },
   "outputs": [
    {
     "data": {
      "text/plain": [
       "<matplotlib.axes._subplots.AxesSubplot at 0x1a58b526a0>"
      ]
     },
     "execution_count": 97,
     "metadata": {},
     "output_type": "execute_result"
    },
    {
     "data": {
      "image/png": "[encoded data removed]",
      "text/plain": [
       "<Figure size 1656x288 with 1 Axes>"
      ]
     },
     "metadata": {
      "needs_background": "light"
     },
     "output_type": "display_data"
    }
   ],
   "source": [
    "apt2018.groupby('floor_group')['거래금액(만원)'].mean().sort_values(ascending=False).to_frame().plot.bar()"
   ]
  },
  {
   "cell_type": "markdown",
   "metadata": {},
   "source": [
    "# 2019"
   ]
  },
  {
   "cell_type": "code",
   "execution_count": 99,
   "metadata": {},
   "outputs": [
    {
     "data": {
      "text/html": [
       "<div>\n",
       "<style scoped>\n",
       "    .dataframe tbody tr th:only-of-type {\n",
       "        vertical-align: middle;\n",
       "    }\n",
       "\n",
       "    .dataframe tbody tr th {\n",
       "        vertical-align: top;\n",
       "    }\n",
       "\n",
       "    .dataframe thead th {\n",
       "        text-align: right;\n",
       "    }\n",
       "</style>\n",
       "<table border=\"1\" class=\"dataframe\">\n",
       "  <thead>\n",
       "    <tr style=\"text-align: right;\">\n",
       "      <th></th>\n",
       "      <th>거래금액(만원)</th>\n",
       "    </tr>\n",
       "    <tr>\n",
       "      <th>floor_group</th>\n",
       "      <th></th>\n",
       "    </tr>\n",
       "  </thead>\n",
       "  <tbody>\n",
       "    <tr>\n",
       "      <th>지하</th>\n",
       "      <td>95132.051282</td>\n",
       "    </tr>\n",
       "    <tr>\n",
       "      <th>31층 이상</th>\n",
       "      <td>74419.386223</td>\n",
       "    </tr>\n",
       "    <tr>\n",
       "      <th>26~30층</th>\n",
       "      <td>58876.604397</td>\n",
       "    </tr>\n",
       "    <tr>\n",
       "      <th>21~25층</th>\n",
       "      <td>47933.684624</td>\n",
       "    </tr>\n",
       "    <tr>\n",
       "      <th>16~20층</th>\n",
       "      <td>40109.719563</td>\n",
       "    </tr>\n",
       "    <tr>\n",
       "      <th>11~15층</th>\n",
       "      <td>35061.231660</td>\n",
       "    </tr>\n",
       "    <tr>\n",
       "      <th>6~10층</th>\n",
       "      <td>34297.066201</td>\n",
       "    </tr>\n",
       "    <tr>\n",
       "      <th>1~5층</th>\n",
       "      <td>30016.249233</td>\n",
       "    </tr>\n",
       "  </tbody>\n",
       "</table>\n",
       "</div>"
      ],
      "text/plain": [
       "                 거래금액(만원)\n",
       "floor_group              \n",
       "지하           95132.051282\n",
       "31층 이상       74419.386223\n",
       "26~30층       58876.604397\n",
       "21~25층       47933.684624\n",
       "16~20층       40109.719563\n",
       "11~15층       35061.231660\n",
       "6~10층        34297.066201\n",
       "1~5층         30016.249233"
      ]
     },
     "execution_count": 99,
     "metadata": {},
     "output_type": "execute_result"
    }
   ],
   "source": [
    "apt2019.groupby('floor_group')['거래금액(만원)'].mean().sort_values(ascending=False).to_frame()"
   ]
  },
  {
   "cell_type": "code",
   "execution_count": 100,
   "metadata": {
    "scrolled": true
   },
   "outputs": [
    {
     "data": {
      "text/plain": [
       "<matplotlib.axes._subplots.AxesSubplot at 0x1a6f092860>"
      ]
     },
     "execution_count": 100,
     "metadata": {},
     "output_type": "execute_result"
    },
    {
     "data": {
      "image/png": "[encoded data removed]",
      "text/plain": [
       "<Figure size 1656x288 with 1 Axes>"
      ]
     },
     "metadata": {
      "needs_background": "light"
     },
     "output_type": "display_data"
    }
   ],
   "source": [
    "apt2019.groupby('floor_group')['거래금액(만원)'].mean().sort_values(ascending=False).to_frame().plot.bar()"
   ]
  },
  {
   "cell_type": "markdown",
   "metadata": {},
   "source": [
    "# 층별 그룹화 거래량 비교"
   ]
  },
  {
   "cell_type": "markdown",
   "metadata": {},
   "source": [
    "# 2017"
   ]
  },
  {
   "cell_type": "code",
   "execution_count": 101,
   "metadata": {
    "scrolled": true
   },
   "outputs": [
    {
     "data": {
      "image/png": "[encoded data removed]",
      "text/plain": [
       "<Figure size 1656x288 with 1 Axes>"
      ]
     },
     "metadata": {
      "needs_background": "light"
     },
     "output_type": "display_data"
    }
   ],
   "source": [
    "plt.title('2017 층별 거래량')\n",
    "sns.countplot(y='floor_group', data=apt2017, order=apt2017['floor_group'].value_counts().index)\n",
    "plt.show()"
   ]
  },
  {
   "cell_type": "markdown",
   "metadata": {},
   "source": [
    "# 2018"
   ]
  },
  {
   "cell_type": "code",
   "execution_count": 102,
   "metadata": {},
   "outputs": [
    {
     "data": {
      "image/png": "[encoded data removed]",
      "text/plain": [
       "<Figure size 1656x288 with 1 Axes>"
      ]
     },
     "metadata": {
      "needs_background": "light"
     },
     "output_type": "display_data"
    }
   ],
   "source": [
    "plt.title('2018 층별 거래량')\n",
    "sns.countplot(y='floor_group', data=apt2018, order=apt2018['floor_group'].value_counts().index)\n",
    "plt.show()"
   ]
  },
  {
   "cell_type": "markdown",
   "metadata": {},
   "source": [
    "# 2019"
   ]
  },
  {
   "cell_type": "code",
   "execution_count": 103,
   "metadata": {},
   "outputs": [
    {
     "data": {
      "image/png": "[encoded data removed]",
      "text/plain": [
       "<Figure size 1656x288 with 1 Axes>"
      ]
     },
     "metadata": {
      "needs_background": "light"
     },
     "output_type": "display_data"
    }
   ],
   "source": [
    "plt.title('2019 층별 거래량')\n",
    "sns.countplot(y='floor_group', data=apt2019, order=apt2019['floor_group'].value_counts().index)\n",
    "plt.show()"
   ]
  },
  {
   "cell_type": "markdown",
   "metadata": {},
   "source": [
    "# 년도에 따른 월별 거래량 비교"
   ]
  },
  {
   "cell_type": "markdown",
   "metadata": {},
   "source": [
    "## 2017 년"
   ]
  },
  {
   "cell_type": "code",
   "execution_count": 26,
   "metadata": {},
   "outputs": [],
   "source": [
    "apt2017[\"계약년월\"] = apt2017[\"계약년월\"].astype(str)\n",
    "apt2017[\"월\"] = apt2017[\"계약년월\"].str[4:]"
   ]
  },
  {
   "cell_type": "code",
   "execution_count": 27,
   "metadata": {
    "scrolled": true
   },
   "outputs": [
    {
     "data": {
      "text/html": [
       "<div>\n",
       "<style scoped>\n",
       "    .dataframe tbody tr th:only-of-type {\n",
       "        vertical-align: middle;\n",
       "    }\n",
       "\n",
       "    .dataframe tbody tr th {\n",
       "        vertical-align: top;\n",
       "    }\n",
       "\n",
       "    .dataframe thead th {\n",
       "        text-align: right;\n",
       "    }\n",
       "</style>\n",
       "<table border=\"1\" class=\"dataframe\">\n",
       "  <thead>\n",
       "    <tr style=\"text-align: right;\">\n",
       "      <th></th>\n",
       "      <th>시군구</th>\n",
       "      <th>번지</th>\n",
       "      <th>본번</th>\n",
       "      <th>부번</th>\n",
       "      <th>단지명</th>\n",
       "      <th>전용면적(㎡)</th>\n",
       "      <th>계약년월</th>\n",
       "      <th>계약일</th>\n",
       "      <th>거래금액(만원)</th>\n",
       "      <th>층</th>\n",
       "      <th>건축년도</th>\n",
       "      <th>도로명</th>\n",
       "      <th>월</th>\n",
       "    </tr>\n",
       "  </thead>\n",
       "  <tbody>\n",
       "    <tr>\n",
       "      <th>0</th>\n",
       "      <td>강원도 강릉시 견소동</td>\n",
       "      <td>202</td>\n",
       "      <td>202</td>\n",
       "      <td>0</td>\n",
       "      <td>송정한신</td>\n",
       "      <td>59.8000</td>\n",
       "      <td>201701</td>\n",
       "      <td>10</td>\n",
       "      <td>12400</td>\n",
       "      <td>8</td>\n",
       "      <td>1997</td>\n",
       "      <td>경강로2539번길 8</td>\n",
       "      <td>01</td>\n",
       "    </tr>\n",
       "    <tr>\n",
       "      <th>1</th>\n",
       "      <td>강원도 강릉시 견소동</td>\n",
       "      <td>289</td>\n",
       "      <td>289</td>\n",
       "      <td>0</td>\n",
       "      <td>송정해변신도브래뉴아파트</td>\n",
       "      <td>84.9900</td>\n",
       "      <td>201701</td>\n",
       "      <td>3</td>\n",
       "      <td>23000</td>\n",
       "      <td>13</td>\n",
       "      <td>2005</td>\n",
       "      <td>경강로2539번길 22</td>\n",
       "      <td>01</td>\n",
       "    </tr>\n",
       "    <tr>\n",
       "      <th>2</th>\n",
       "      <td>강원도 강릉시 견소동</td>\n",
       "      <td>289</td>\n",
       "      <td>289</td>\n",
       "      <td>0</td>\n",
       "      <td>송정해변신도브래뉴아파트</td>\n",
       "      <td>59.9900</td>\n",
       "      <td>201701</td>\n",
       "      <td>4</td>\n",
       "      <td>15800</td>\n",
       "      <td>9</td>\n",
       "      <td>2005</td>\n",
       "      <td>경강로2539번길 22</td>\n",
       "      <td>01</td>\n",
       "    </tr>\n",
       "    <tr>\n",
       "      <th>3</th>\n",
       "      <td>강원도 강릉시 견소동</td>\n",
       "      <td>289</td>\n",
       "      <td>289</td>\n",
       "      <td>0</td>\n",
       "      <td>송정해변신도브래뉴아파트</td>\n",
       "      <td>59.9900</td>\n",
       "      <td>201701</td>\n",
       "      <td>21</td>\n",
       "      <td>14000</td>\n",
       "      <td>1</td>\n",
       "      <td>2005</td>\n",
       "      <td>경강로2539번길 22</td>\n",
       "      <td>01</td>\n",
       "    </tr>\n",
       "    <tr>\n",
       "      <th>4</th>\n",
       "      <td>강원도 강릉시 교동</td>\n",
       "      <td>1983</td>\n",
       "      <td>1983</td>\n",
       "      <td>0</td>\n",
       "      <td>강릉교동롯데캐슬2단지</td>\n",
       "      <td>84.9855</td>\n",
       "      <td>201701</td>\n",
       "      <td>5</td>\n",
       "      <td>27250</td>\n",
       "      <td>11</td>\n",
       "      <td>2009</td>\n",
       "      <td>화부산로111번길 24</td>\n",
       "      <td>01</td>\n",
       "    </tr>\n",
       "  </tbody>\n",
       "</table>\n",
       "</div>"
      ],
      "text/plain": [
       "           시군구    번지    본번  부번           단지명  전용면적(㎡)    계약년월  계약일  거래금액(만원)  \\\n",
       "0  강원도 강릉시 견소동   202   202   0          송정한신  59.8000  201701   10     12400   \n",
       "1  강원도 강릉시 견소동   289   289   0  송정해변신도브래뉴아파트  84.9900  201701    3     23000   \n",
       "2  강원도 강릉시 견소동   289   289   0  송정해변신도브래뉴아파트  59.9900  201701    4     15800   \n",
       "3  강원도 강릉시 견소동   289   289   0  송정해변신도브래뉴아파트  59.9900  201701   21     14000   \n",
       "4   강원도 강릉시 교동  1983  1983   0   강릉교동롯데캐슬2단지  84.9855  201701    5     27250   \n",
       "\n",
       "    층  건축년도           도로명   월  \n",
       "0   8  1997   경강로2539번길 8  01  \n",
       "1  13  2005  경강로2539번길 22  01  \n",
       "2   9  2005  경강로2539번길 22  01  \n",
       "3   1  2005  경강로2539번길 22  01  \n",
       "4  11  2009  화부산로111번길 24  01  "
      ]
     },
     "execution_count": 27,
     "metadata": {},
     "output_type": "execute_result"
    }
   ],
   "source": [
    "# 월만 가져온 '월' 변수 생성된 것을 확인할 수 있음.\n",
    "apt2017.head()"
   ]
  },
  {
   "cell_type": "code",
   "execution_count": 104,
   "metadata": {
    "scrolled": false
   },
   "outputs": [
    {
     "data": {
      "text/html": [
       "<div>\n",
       "<style scoped>\n",
       "    .dataframe tbody tr th:only-of-type {\n",
       "        vertical-align: middle;\n",
       "    }\n",
       "\n",
       "    .dataframe tbody tr th {\n",
       "        vertical-align: top;\n",
       "    }\n",
       "\n",
       "    .dataframe thead th {\n",
       "        text-align: right;\n",
       "    }\n",
       "</style>\n",
       "<table border=\"1\" class=\"dataframe\">\n",
       "  <thead>\n",
       "    <tr style=\"text-align: right;\">\n",
       "      <th></th>\n",
       "      <th>계약년월</th>\n",
       "    </tr>\n",
       "    <tr>\n",
       "      <th>월</th>\n",
       "      <th></th>\n",
       "    </tr>\n",
       "  </thead>\n",
       "  <tbody>\n",
       "    <tr>\n",
       "      <th>06</th>\n",
       "      <td>62632</td>\n",
       "    </tr>\n",
       "    <tr>\n",
       "      <th>07</th>\n",
       "      <td>61709</td>\n",
       "    </tr>\n",
       "    <tr>\n",
       "      <th>05</th>\n",
       "      <td>58837</td>\n",
       "    </tr>\n",
       "    <tr>\n",
       "      <th>03</th>\n",
       "      <td>51242</td>\n",
       "    </tr>\n",
       "    <tr>\n",
       "      <th>04</th>\n",
       "      <td>47688</td>\n",
       "    </tr>\n",
       "    <tr>\n",
       "      <th>09</th>\n",
       "      <td>47247</td>\n",
       "    </tr>\n",
       "    <tr>\n",
       "      <th>08</th>\n",
       "      <td>45227</td>\n",
       "    </tr>\n",
       "    <tr>\n",
       "      <th>11</th>\n",
       "      <td>43933</td>\n",
       "    </tr>\n",
       "    <tr>\n",
       "      <th>02</th>\n",
       "      <td>41852</td>\n",
       "    </tr>\n",
       "    <tr>\n",
       "      <th>12</th>\n",
       "      <td>40193</td>\n",
       "    </tr>\n",
       "    <tr>\n",
       "      <th>10</th>\n",
       "      <td>39636</td>\n",
       "    </tr>\n",
       "    <tr>\n",
       "      <th>01</th>\n",
       "      <td>30128</td>\n",
       "    </tr>\n",
       "  </tbody>\n",
       "</table>\n",
       "</div>"
      ],
      "text/plain": [
       "     계약년월\n",
       "월        \n",
       "06  62632\n",
       "07  61709\n",
       "05  58837\n",
       "03  51242\n",
       "04  47688\n",
       "09  47247\n",
       "08  45227\n",
       "11  43933\n",
       "02  41852\n",
       "12  40193\n",
       "10  39636\n",
       "01  30128"
      ]
     },
     "execution_count": 104,
     "metadata": {},
     "output_type": "execute_result"
    }
   ],
   "source": [
    "# 내림차순으로 정렬\n",
    "apt2017.groupby(apt2017['월'])['계약년월'].count().sort_values(ascending=False).to_frame()"
   ]
  },
  {
   "cell_type": "markdown",
   "metadata": {},
   "source": [
    "## 2018 년"
   ]
  },
  {
   "cell_type": "code",
   "execution_count": 29,
   "metadata": {},
   "outputs": [],
   "source": [
    "apt2018[\"계약년월\"] = apt2018[\"계약년월\"].astype(str)\n",
    "apt2018[\"월\"] = apt2018[\"계약년월\"].str[4:]"
   ]
  },
  {
   "cell_type": "code",
   "execution_count": 105,
   "metadata": {},
   "outputs": [
    {
     "data": {
      "text/html": [
       "<div>\n",
       "<style scoped>\n",
       "    .dataframe tbody tr th:only-of-type {\n",
       "        vertical-align: middle;\n",
       "    }\n",
       "\n",
       "    .dataframe tbody tr th {\n",
       "        vertical-align: top;\n",
       "    }\n",
       "\n",
       "    .dataframe thead th {\n",
       "        text-align: right;\n",
       "    }\n",
       "</style>\n",
       "<table border=\"1\" class=\"dataframe\">\n",
       "  <thead>\n",
       "    <tr style=\"text-align: right;\">\n",
       "      <th></th>\n",
       "      <th>계약년월</th>\n",
       "    </tr>\n",
       "    <tr>\n",
       "      <th>월</th>\n",
       "      <th></th>\n",
       "    </tr>\n",
       "  </thead>\n",
       "  <tbody>\n",
       "    <tr>\n",
       "      <th>08</th>\n",
       "      <td>56304</td>\n",
       "    </tr>\n",
       "    <tr>\n",
       "      <th>03</th>\n",
       "      <td>55215</td>\n",
       "    </tr>\n",
       "    <tr>\n",
       "      <th>09</th>\n",
       "      <td>50857</td>\n",
       "    </tr>\n",
       "    <tr>\n",
       "      <th>01</th>\n",
       "      <td>50677</td>\n",
       "    </tr>\n",
       "    <tr>\n",
       "      <th>10</th>\n",
       "      <td>43986</td>\n",
       "    </tr>\n",
       "    <tr>\n",
       "      <th>02</th>\n",
       "      <td>43503</td>\n",
       "    </tr>\n",
       "    <tr>\n",
       "      <th>06</th>\n",
       "      <td>38781</td>\n",
       "    </tr>\n",
       "    <tr>\n",
       "      <th>05</th>\n",
       "      <td>36816</td>\n",
       "    </tr>\n",
       "    <tr>\n",
       "      <th>07</th>\n",
       "      <td>36513</td>\n",
       "    </tr>\n",
       "    <tr>\n",
       "      <th>04</th>\n",
       "      <td>35665</td>\n",
       "    </tr>\n",
       "    <tr>\n",
       "      <th>11</th>\n",
       "      <td>30734</td>\n",
       "    </tr>\n",
       "    <tr>\n",
       "      <th>12</th>\n",
       "      <td>26860</td>\n",
       "    </tr>\n",
       "  </tbody>\n",
       "</table>\n",
       "</div>"
      ],
      "text/plain": [
       "     계약년월\n",
       "월        \n",
       "08  56304\n",
       "03  55215\n",
       "09  50857\n",
       "01  50677\n",
       "10  43986\n",
       "02  43503\n",
       "06  38781\n",
       "05  36816\n",
       "07  36513\n",
       "04  35665\n",
       "11  30734\n",
       "12  26860"
      ]
     },
     "execution_count": 105,
     "metadata": {},
     "output_type": "execute_result"
    }
   ],
   "source": [
    "apt2018.groupby(apt2018['월'])['계약년월'].count().sort_values(ascending=False).to_frame()"
   ]
  },
  {
   "cell_type": "markdown",
   "metadata": {},
   "source": [
    "## 2019 년"
   ]
  },
  {
   "cell_type": "code",
   "execution_count": 31,
   "metadata": {},
   "outputs": [],
   "source": [
    "apt2019[\"계약년월\"] = apt2019[\"계약년월\"].astype(str)\n",
    "apt2019[\"월\"] = apt2019[\"계약년월\"].str[4:]"
   ]
  },
  {
   "cell_type": "code",
   "execution_count": 106,
   "metadata": {},
   "outputs": [
    {
     "data": {
      "text/html": [
       "<div>\n",
       "<style scoped>\n",
       "    .dataframe tbody tr th:only-of-type {\n",
       "        vertical-align: middle;\n",
       "    }\n",
       "\n",
       "    .dataframe tbody tr th {\n",
       "        vertical-align: top;\n",
       "    }\n",
       "\n",
       "    .dataframe thead th {\n",
       "        text-align: right;\n",
       "    }\n",
       "</style>\n",
       "<table border=\"1\" class=\"dataframe\">\n",
       "  <thead>\n",
       "    <tr style=\"text-align: right;\">\n",
       "      <th></th>\n",
       "      <th>계약년월</th>\n",
       "    </tr>\n",
       "    <tr>\n",
       "      <th>월</th>\n",
       "      <th></th>\n",
       "    </tr>\n",
       "  </thead>\n",
       "  <tbody>\n",
       "    <tr>\n",
       "      <th>11</th>\n",
       "      <td>74304</td>\n",
       "    </tr>\n",
       "    <tr>\n",
       "      <th>12</th>\n",
       "      <td>70401</td>\n",
       "    </tr>\n",
       "    <tr>\n",
       "      <th>10</th>\n",
       "      <td>64677</td>\n",
       "    </tr>\n",
       "    <tr>\n",
       "      <th>07</th>\n",
       "      <td>45213</td>\n",
       "    </tr>\n",
       "    <tr>\n",
       "      <th>09</th>\n",
       "      <td>44015</td>\n",
       "    </tr>\n",
       "    <tr>\n",
       "      <th>08</th>\n",
       "      <td>41942</td>\n",
       "    </tr>\n",
       "    <tr>\n",
       "      <th>06</th>\n",
       "      <td>38369</td>\n",
       "    </tr>\n",
       "    <tr>\n",
       "      <th>05</th>\n",
       "      <td>35095</td>\n",
       "    </tr>\n",
       "    <tr>\n",
       "      <th>03</th>\n",
       "      <td>33395</td>\n",
       "    </tr>\n",
       "    <tr>\n",
       "      <th>04</th>\n",
       "      <td>32306</td>\n",
       "    </tr>\n",
       "    <tr>\n",
       "      <th>01</th>\n",
       "      <td>28401</td>\n",
       "    </tr>\n",
       "    <tr>\n",
       "      <th>02</th>\n",
       "      <td>26132</td>\n",
       "    </tr>\n",
       "  </tbody>\n",
       "</table>\n",
       "</div>"
      ],
      "text/plain": [
       "     계약년월\n",
       "월        \n",
       "11  74304\n",
       "12  70401\n",
       "10  64677\n",
       "07  45213\n",
       "09  44015\n",
       "08  41942\n",
       "06  38369\n",
       "05  35095\n",
       "03  33395\n",
       "04  32306\n",
       "01  28401\n",
       "02  26132"
      ]
     },
     "execution_count": 106,
     "metadata": {},
     "output_type": "execute_result"
    }
   ],
   "source": [
    "apt2019.groupby(apt2019['월'])['계약년월'].count().sort_values(ascending=False).to_frame()"
   ]
  },
  {
   "cell_type": "markdown",
   "metadata": {},
   "source": [
    "# 년도에 따른 구별 거래량 비교"
   ]
  },
  {
   "cell_type": "markdown",
   "metadata": {},
   "source": [
    "# 2017 년"
   ]
  },
  {
   "cell_type": "code",
   "execution_count": 33,
   "metadata": {},
   "outputs": [],
   "source": [
    "apt2017[\"지역\"] = apt2017[\"시군구\"].str.split(' ').str[0]"
   ]
  },
  {
   "cell_type": "code",
   "execution_count": 34,
   "metadata": {},
   "outputs": [
    {
     "data": {
      "text/html": [
       "<div>\n",
       "<style scoped>\n",
       "    .dataframe tbody tr th:only-of-type {\n",
       "        vertical-align: middle;\n",
       "    }\n",
       "\n",
       "    .dataframe tbody tr th {\n",
       "        vertical-align: top;\n",
       "    }\n",
       "\n",
       "    .dataframe thead th {\n",
       "        text-align: right;\n",
       "    }\n",
       "</style>\n",
       "<table border=\"1\" class=\"dataframe\">\n",
       "  <thead>\n",
       "    <tr style=\"text-align: right;\">\n",
       "      <th></th>\n",
       "      <th>시군구</th>\n",
       "      <th>번지</th>\n",
       "      <th>본번</th>\n",
       "      <th>부번</th>\n",
       "      <th>단지명</th>\n",
       "      <th>전용면적(㎡)</th>\n",
       "      <th>계약년월</th>\n",
       "      <th>계약일</th>\n",
       "      <th>거래금액(만원)</th>\n",
       "      <th>층</th>\n",
       "      <th>건축년도</th>\n",
       "      <th>도로명</th>\n",
       "      <th>월</th>\n",
       "      <th>지역</th>\n",
       "    </tr>\n",
       "  </thead>\n",
       "  <tbody>\n",
       "    <tr>\n",
       "      <th>0</th>\n",
       "      <td>강원도 강릉시 견소동</td>\n",
       "      <td>202</td>\n",
       "      <td>202</td>\n",
       "      <td>0</td>\n",
       "      <td>송정한신</td>\n",
       "      <td>59.8000</td>\n",
       "      <td>201701</td>\n",
       "      <td>10</td>\n",
       "      <td>12400</td>\n",
       "      <td>8</td>\n",
       "      <td>1997</td>\n",
       "      <td>경강로2539번길 8</td>\n",
       "      <td>01</td>\n",
       "      <td>강원도</td>\n",
       "    </tr>\n",
       "    <tr>\n",
       "      <th>1</th>\n",
       "      <td>강원도 강릉시 견소동</td>\n",
       "      <td>289</td>\n",
       "      <td>289</td>\n",
       "      <td>0</td>\n",
       "      <td>송정해변신도브래뉴아파트</td>\n",
       "      <td>84.9900</td>\n",
       "      <td>201701</td>\n",
       "      <td>3</td>\n",
       "      <td>23000</td>\n",
       "      <td>13</td>\n",
       "      <td>2005</td>\n",
       "      <td>경강로2539번길 22</td>\n",
       "      <td>01</td>\n",
       "      <td>강원도</td>\n",
       "    </tr>\n",
       "    <tr>\n",
       "      <th>2</th>\n",
       "      <td>강원도 강릉시 견소동</td>\n",
       "      <td>289</td>\n",
       "      <td>289</td>\n",
       "      <td>0</td>\n",
       "      <td>송정해변신도브래뉴아파트</td>\n",
       "      <td>59.9900</td>\n",
       "      <td>201701</td>\n",
       "      <td>4</td>\n",
       "      <td>15800</td>\n",
       "      <td>9</td>\n",
       "      <td>2005</td>\n",
       "      <td>경강로2539번길 22</td>\n",
       "      <td>01</td>\n",
       "      <td>강원도</td>\n",
       "    </tr>\n",
       "    <tr>\n",
       "      <th>3</th>\n",
       "      <td>강원도 강릉시 견소동</td>\n",
       "      <td>289</td>\n",
       "      <td>289</td>\n",
       "      <td>0</td>\n",
       "      <td>송정해변신도브래뉴아파트</td>\n",
       "      <td>59.9900</td>\n",
       "      <td>201701</td>\n",
       "      <td>21</td>\n",
       "      <td>14000</td>\n",
       "      <td>1</td>\n",
       "      <td>2005</td>\n",
       "      <td>경강로2539번길 22</td>\n",
       "      <td>01</td>\n",
       "      <td>강원도</td>\n",
       "    </tr>\n",
       "    <tr>\n",
       "      <th>4</th>\n",
       "      <td>강원도 강릉시 교동</td>\n",
       "      <td>1983</td>\n",
       "      <td>1983</td>\n",
       "      <td>0</td>\n",
       "      <td>강릉교동롯데캐슬2단지</td>\n",
       "      <td>84.9855</td>\n",
       "      <td>201701</td>\n",
       "      <td>5</td>\n",
       "      <td>27250</td>\n",
       "      <td>11</td>\n",
       "      <td>2009</td>\n",
       "      <td>화부산로111번길 24</td>\n",
       "      <td>01</td>\n",
       "      <td>강원도</td>\n",
       "    </tr>\n",
       "  </tbody>\n",
       "</table>\n",
       "</div>"
      ],
      "text/plain": [
       "           시군구    번지    본번  부번           단지명  전용면적(㎡)    계약년월  계약일  거래금액(만원)  \\\n",
       "0  강원도 강릉시 견소동   202   202   0          송정한신  59.8000  201701   10     12400   \n",
       "1  강원도 강릉시 견소동   289   289   0  송정해변신도브래뉴아파트  84.9900  201701    3     23000   \n",
       "2  강원도 강릉시 견소동   289   289   0  송정해변신도브래뉴아파트  59.9900  201701    4     15800   \n",
       "3  강원도 강릉시 견소동   289   289   0  송정해변신도브래뉴아파트  59.9900  201701   21     14000   \n",
       "4   강원도 강릉시 교동  1983  1983   0   강릉교동롯데캐슬2단지  84.9855  201701    5     27250   \n",
       "\n",
       "    층  건축년도           도로명   월   지역  \n",
       "0   8  1997   경강로2539번길 8  01  강원도  \n",
       "1  13  2005  경강로2539번길 22  01  강원도  \n",
       "2   9  2005  경강로2539번길 22  01  강원도  \n",
       "3   1  2005  경강로2539번길 22  01  강원도  \n",
       "4  11  2009  화부산로111번길 24  01  강원도  "
      ]
     },
     "execution_count": 34,
     "metadata": {},
     "output_type": "execute_result"
    }
   ],
   "source": [
    "# 지역구만 가져온 '지역' 변수 생성된 것을 확인할 수 있음.\n",
    "apt2017.head()"
   ]
  },
  {
   "cell_type": "code",
   "execution_count": 35,
   "metadata": {
    "scrolled": true
   },
   "outputs": [
    {
     "data": {
      "text/plain": [
       "지역\n",
       "경기도        154053\n",
       "서울특별시      105076\n",
       "부산광역시       37938\n",
       "인천광역시       36600\n",
       "대구광역시       32067\n",
       "경상남도        30780\n",
       "광주광역시       22764\n",
       "경상북도        20705\n",
       "대전광역시       20283\n",
       "전라북도        20038\n",
       "충청남도        19667\n",
       "전라남도        19118\n",
       "강원도         16608\n",
       "충청북도        15921\n",
       "울산광역시       11513\n",
       "세종특별자치시      4669\n",
       "제주특별자치도      2524\n",
       "Name: 계약년월, dtype: int64"
      ]
     },
     "execution_count": 35,
     "metadata": {},
     "output_type": "execute_result"
    }
   ],
   "source": [
    "apt2017.groupby(apt2017['지역'])['계약년월'].count().sort_values(ascending=False)"
   ]
  },
  {
   "cell_type": "markdown",
   "metadata": {},
   "source": [
    "# 2018 년"
   ]
  },
  {
   "cell_type": "code",
   "execution_count": 36,
   "metadata": {},
   "outputs": [],
   "source": [
    "apt2018[\"지역\"] = apt2018[\"시군구\"].str.split(' ').str[0]"
   ]
  },
  {
   "cell_type": "code",
   "execution_count": 107,
   "metadata": {},
   "outputs": [
    {
     "data": {
      "text/html": [
       "<div>\n",
       "<style scoped>\n",
       "    .dataframe tbody tr th:only-of-type {\n",
       "        vertical-align: middle;\n",
       "    }\n",
       "\n",
       "    .dataframe tbody tr th {\n",
       "        vertical-align: top;\n",
       "    }\n",
       "\n",
       "    .dataframe thead th {\n",
       "        text-align: right;\n",
       "    }\n",
       "</style>\n",
       "<table border=\"1\" class=\"dataframe\">\n",
       "  <thead>\n",
       "    <tr style=\"text-align: right;\">\n",
       "      <th></th>\n",
       "      <th>계약년월</th>\n",
       "    </tr>\n",
       "    <tr>\n",
       "      <th>지역</th>\n",
       "      <th></th>\n",
       "    </tr>\n",
       "  </thead>\n",
       "  <tbody>\n",
       "    <tr>\n",
       "      <th>경기도</th>\n",
       "      <td>151745</td>\n",
       "    </tr>\n",
       "    <tr>\n",
       "      <th>서울특별시</th>\n",
       "      <td>81388</td>\n",
       "    </tr>\n",
       "    <tr>\n",
       "      <th>대구광역시</th>\n",
       "      <td>32582</td>\n",
       "    </tr>\n",
       "    <tr>\n",
       "      <th>인천광역시</th>\n",
       "      <td>30384</td>\n",
       "    </tr>\n",
       "    <tr>\n",
       "      <th>부산광역시</th>\n",
       "      <td>25843</td>\n",
       "    </tr>\n",
       "    <tr>\n",
       "      <th>경상남도</th>\n",
       "      <td>25463</td>\n",
       "    </tr>\n",
       "    <tr>\n",
       "      <th>광주광역시</th>\n",
       "      <td>25385</td>\n",
       "    </tr>\n",
       "    <tr>\n",
       "      <th>대전광역시</th>\n",
       "      <td>19602</td>\n",
       "    </tr>\n",
       "    <tr>\n",
       "      <th>충청남도</th>\n",
       "      <td>18927</td>\n",
       "    </tr>\n",
       "    <tr>\n",
       "      <th>경상북도</th>\n",
       "      <td>18861</td>\n",
       "    </tr>\n",
       "    <tr>\n",
       "      <th>전라북도</th>\n",
       "      <td>17861</td>\n",
       "    </tr>\n",
       "    <tr>\n",
       "      <th>전라남도</th>\n",
       "      <td>17093</td>\n",
       "    </tr>\n",
       "    <tr>\n",
       "      <th>충청북도</th>\n",
       "      <td>13837</td>\n",
       "    </tr>\n",
       "    <tr>\n",
       "      <th>강원도</th>\n",
       "      <td>12825</td>\n",
       "    </tr>\n",
       "    <tr>\n",
       "      <th>울산광역시</th>\n",
       "      <td>8148</td>\n",
       "    </tr>\n",
       "    <tr>\n",
       "      <th>세종특별자치시</th>\n",
       "      <td>3430</td>\n",
       "    </tr>\n",
       "    <tr>\n",
       "      <th>제주특별자치도</th>\n",
       "      <td>2537</td>\n",
       "    </tr>\n",
       "  </tbody>\n",
       "</table>\n",
       "</div>"
      ],
      "text/plain": [
       "           계약년월\n",
       "지역             \n",
       "경기도      151745\n",
       "서울특별시     81388\n",
       "대구광역시     32582\n",
       "인천광역시     30384\n",
       "부산광역시     25843\n",
       "경상남도      25463\n",
       "광주광역시     25385\n",
       "대전광역시     19602\n",
       "충청남도      18927\n",
       "경상북도      18861\n",
       "전라북도      17861\n",
       "전라남도      17093\n",
       "충청북도      13837\n",
       "강원도       12825\n",
       "울산광역시      8148\n",
       "세종특별자치시    3430\n",
       "제주특별자치도    2537"
      ]
     },
     "execution_count": 107,
     "metadata": {},
     "output_type": "execute_result"
    }
   ],
   "source": [
    "apt2018.groupby(apt2018['지역'])['계약년월'].count().sort_values(ascending=False).to_frame()"
   ]
  },
  {
   "cell_type": "markdown",
   "metadata": {},
   "source": [
    "# 2019 년"
   ]
  },
  {
   "cell_type": "code",
   "execution_count": 38,
   "metadata": {},
   "outputs": [],
   "source": [
    "apt2019[\"지역\"] = apt2019[\"시군구\"].str.split(' ').str[0]"
   ]
  },
  {
   "cell_type": "code",
   "execution_count": 108,
   "metadata": {},
   "outputs": [
    {
     "data": {
      "text/html": [
       "<div>\n",
       "<style scoped>\n",
       "    .dataframe tbody tr th:only-of-type {\n",
       "        vertical-align: middle;\n",
       "    }\n",
       "\n",
       "    .dataframe tbody tr th {\n",
       "        vertical-align: top;\n",
       "    }\n",
       "\n",
       "    .dataframe thead th {\n",
       "        text-align: right;\n",
       "    }\n",
       "</style>\n",
       "<table border=\"1\" class=\"dataframe\">\n",
       "  <thead>\n",
       "    <tr style=\"text-align: right;\">\n",
       "      <th></th>\n",
       "      <th>계약년월</th>\n",
       "    </tr>\n",
       "    <tr>\n",
       "      <th>지역</th>\n",
       "      <th></th>\n",
       "    </tr>\n",
       "  </thead>\n",
       "  <tbody>\n",
       "    <tr>\n",
       "      <th>경기도</th>\n",
       "      <td>141513</td>\n",
       "    </tr>\n",
       "    <tr>\n",
       "      <th>서울특별시</th>\n",
       "      <td>74903</td>\n",
       "    </tr>\n",
       "    <tr>\n",
       "      <th>부산광역시</th>\n",
       "      <td>36074</td>\n",
       "    </tr>\n",
       "    <tr>\n",
       "      <th>인천광역시</th>\n",
       "      <td>34224</td>\n",
       "    </tr>\n",
       "    <tr>\n",
       "      <th>경상남도</th>\n",
       "      <td>33545</td>\n",
       "    </tr>\n",
       "    <tr>\n",
       "      <th>대구광역시</th>\n",
       "      <td>30140</td>\n",
       "    </tr>\n",
       "    <tr>\n",
       "      <th>대전광역시</th>\n",
       "      <td>27396</td>\n",
       "    </tr>\n",
       "    <tr>\n",
       "      <th>충청남도</th>\n",
       "      <td>24940</td>\n",
       "    </tr>\n",
       "    <tr>\n",
       "      <th>경상북도</th>\n",
       "      <td>22656</td>\n",
       "    </tr>\n",
       "    <tr>\n",
       "      <th>광주광역시</th>\n",
       "      <td>20131</td>\n",
       "    </tr>\n",
       "    <tr>\n",
       "      <th>전라북도</th>\n",
       "      <td>18682</td>\n",
       "    </tr>\n",
       "    <tr>\n",
       "      <th>충청북도</th>\n",
       "      <td>17151</td>\n",
       "    </tr>\n",
       "    <tr>\n",
       "      <th>전라남도</th>\n",
       "      <td>16588</td>\n",
       "    </tr>\n",
       "    <tr>\n",
       "      <th>울산광역시</th>\n",
       "      <td>14286</td>\n",
       "    </tr>\n",
       "    <tr>\n",
       "      <th>강원도</th>\n",
       "      <td>13911</td>\n",
       "    </tr>\n",
       "    <tr>\n",
       "      <th>세종특별자치시</th>\n",
       "      <td>5794</td>\n",
       "    </tr>\n",
       "    <tr>\n",
       "      <th>제주특별자치도</th>\n",
       "      <td>2316</td>\n",
       "    </tr>\n",
       "  </tbody>\n",
       "</table>\n",
       "</div>"
      ],
      "text/plain": [
       "           계약년월\n",
       "지역             \n",
       "경기도      141513\n",
       "서울특별시     74903\n",
       "부산광역시     36074\n",
       "인천광역시     34224\n",
       "경상남도      33545\n",
       "대구광역시     30140\n",
       "대전광역시     27396\n",
       "충청남도      24940\n",
       "경상북도      22656\n",
       "광주광역시     20131\n",
       "전라북도      18682\n",
       "충청북도      17151\n",
       "전라남도      16588\n",
       "울산광역시     14286\n",
       "강원도       13911\n",
       "세종특별자치시    5794\n",
       "제주특별자치도    2316"
      ]
     },
     "execution_count": 108,
     "metadata": {},
     "output_type": "execute_result"
    }
   ],
   "source": [
    "apt2019.groupby(apt2019['지역'])['계약년월'].count().sort_values(ascending=False).to_frame()"
   ]
  },
  {
   "cell_type": "markdown",
   "metadata": {},
   "source": [
    "2017, 2018, 2019년 모두 경기도에서 가장 많이 거래가 된 사실을 알 수 있다. 그리고 17, 18, 19년도 모두 거래량이 많은 지역순에는 항상 서울특별시, 부산광역시, 인천광역시, 대구광역시, 경상남도가 5순위 안에는 드는 것을 확인할 수 있다."
   ]
  },
  {
   "cell_type": "markdown",
   "metadata": {},
   "source": [
    "# 년도에 따른 거래 패턴?"
   ]
  },
  {
   "cell_type": "markdown",
   "metadata": {},
   "source": [
    "# 상관관계"
   ]
  },
  {
   "cell_type": "code",
   "execution_count": 45,
   "metadata": {
    "scrolled": true
   },
   "outputs": [
    {
     "data": {
      "text/html": [
       "<div>\n",
       "<style scoped>\n",
       "    .dataframe tbody tr th:only-of-type {\n",
       "        vertical-align: middle;\n",
       "    }\n",
       "\n",
       "    .dataframe tbody tr th {\n",
       "        vertical-align: top;\n",
       "    }\n",
       "\n",
       "    .dataframe thead th {\n",
       "        text-align: right;\n",
       "    }\n",
       "</style>\n",
       "<table border=\"1\" class=\"dataframe\">\n",
       "  <thead>\n",
       "    <tr style=\"text-align: right;\">\n",
       "      <th></th>\n",
       "      <th>부번</th>\n",
       "      <th>전용면적(㎡)</th>\n",
       "      <th>계약일</th>\n",
       "      <th>거래금액(만원)</th>\n",
       "      <th>층</th>\n",
       "      <th>건축년도</th>\n",
       "    </tr>\n",
       "  </thead>\n",
       "  <tbody>\n",
       "    <tr>\n",
       "      <th>부번</th>\n",
       "      <td>1.000000</td>\n",
       "      <td>-0.013196</td>\n",
       "      <td>-0.000737</td>\n",
       "      <td>-0.016739</td>\n",
       "      <td>-0.020545</td>\n",
       "      <td>-0.037810</td>\n",
       "    </tr>\n",
       "    <tr>\n",
       "      <th>전용면적(㎡)</th>\n",
       "      <td>-0.013196</td>\n",
       "      <td>1.000000</td>\n",
       "      <td>0.009583</td>\n",
       "      <td>0.540676</td>\n",
       "      <td>0.170594</td>\n",
       "      <td>0.223751</td>\n",
       "    </tr>\n",
       "    <tr>\n",
       "      <th>계약일</th>\n",
       "      <td>-0.000737</td>\n",
       "      <td>0.009583</td>\n",
       "      <td>1.000000</td>\n",
       "      <td>0.025497</td>\n",
       "      <td>0.001487</td>\n",
       "      <td>0.001163</td>\n",
       "    </tr>\n",
       "    <tr>\n",
       "      <th>거래금액(만원)</th>\n",
       "      <td>-0.016739</td>\n",
       "      <td>0.540676</td>\n",
       "      <td>0.025497</td>\n",
       "      <td>1.000000</td>\n",
       "      <td>0.182033</td>\n",
       "      <td>0.126213</td>\n",
       "    </tr>\n",
       "    <tr>\n",
       "      <th>층</th>\n",
       "      <td>-0.020545</td>\n",
       "      <td>0.170594</td>\n",
       "      <td>0.001487</td>\n",
       "      <td>0.182033</td>\n",
       "      <td>1.000000</td>\n",
       "      <td>0.266306</td>\n",
       "    </tr>\n",
       "    <tr>\n",
       "      <th>건축년도</th>\n",
       "      <td>-0.037810</td>\n",
       "      <td>0.223751</td>\n",
       "      <td>0.001163</td>\n",
       "      <td>0.126213</td>\n",
       "      <td>0.266306</td>\n",
       "      <td>1.000000</td>\n",
       "    </tr>\n",
       "  </tbody>\n",
       "</table>\n",
       "</div>"
      ],
      "text/plain": [
       "                부번   전용면적(㎡)       계약일  거래금액(만원)         층      건축년도\n",
       "부번        1.000000 -0.013196 -0.000737 -0.016739 -0.020545 -0.037810\n",
       "전용면적(㎡)  -0.013196  1.000000  0.009583  0.540676  0.170594  0.223751\n",
       "계약일      -0.000737  0.009583  1.000000  0.025497  0.001487  0.001163\n",
       "거래금액(만원) -0.016739  0.540676  0.025497  1.000000  0.182033  0.126213\n",
       "층        -0.020545  0.170594  0.001487  0.182033  1.000000  0.266306\n",
       "건축년도     -0.037810  0.223751  0.001163  0.126213  0.266306  1.000000"
      ]
     },
     "execution_count": 45,
     "metadata": {},
     "output_type": "execute_result"
    }
   ],
   "source": [
    "corr2017 = apt2017.corr(method='pearson')\n",
    "corr2017"
   ]
  },
  {
   "cell_type": "markdown",
   "metadata": {},
   "source": [
    "거래금액과 전용면적이 0.54 정도의 양의 상관관계.\n",
    "그 다음으로 비교적 유의미한 수치로는 거래금액과 층이 0.18 정도의 양의 상관관계를 가짐.\n",
    "\n",
    "층 & 건축년도 -> 0.26 정도의 양의 상관관계"
   ]
  },
  {
   "cell_type": "code",
   "execution_count": 46,
   "metadata": {},
   "outputs": [
    {
     "data": {
      "text/html": [
       "<div>\n",
       "<style scoped>\n",
       "    .dataframe tbody tr th:only-of-type {\n",
       "        vertical-align: middle;\n",
       "    }\n",
       "\n",
       "    .dataframe tbody tr th {\n",
       "        vertical-align: top;\n",
       "    }\n",
       "\n",
       "    .dataframe thead th {\n",
       "        text-align: right;\n",
       "    }\n",
       "</style>\n",
       "<table border=\"1\" class=\"dataframe\">\n",
       "  <thead>\n",
       "    <tr style=\"text-align: right;\">\n",
       "      <th></th>\n",
       "      <th>부번</th>\n",
       "      <th>전용면적(㎡)</th>\n",
       "      <th>계약일</th>\n",
       "      <th>거래금액(만원)</th>\n",
       "      <th>층</th>\n",
       "      <th>건축년도</th>\n",
       "    </tr>\n",
       "  </thead>\n",
       "  <tbody>\n",
       "    <tr>\n",
       "      <th>부번</th>\n",
       "      <td>1.000000</td>\n",
       "      <td>-0.010992</td>\n",
       "      <td>-0.000584</td>\n",
       "      <td>-0.007157</td>\n",
       "      <td>-0.022424</td>\n",
       "      <td>-0.029309</td>\n",
       "    </tr>\n",
       "    <tr>\n",
       "      <th>전용면적(㎡)</th>\n",
       "      <td>-0.010992</td>\n",
       "      <td>1.000000</td>\n",
       "      <td>-0.002072</td>\n",
       "      <td>0.516266</td>\n",
       "      <td>0.162351</td>\n",
       "      <td>0.207289</td>\n",
       "    </tr>\n",
       "    <tr>\n",
       "      <th>계약일</th>\n",
       "      <td>-0.000584</td>\n",
       "      <td>-0.002072</td>\n",
       "      <td>1.000000</td>\n",
       "      <td>0.000006</td>\n",
       "      <td>-0.004645</td>\n",
       "      <td>-0.008210</td>\n",
       "    </tr>\n",
       "    <tr>\n",
       "      <th>거래금액(만원)</th>\n",
       "      <td>-0.007157</td>\n",
       "      <td>0.516266</td>\n",
       "      <td>0.000006</td>\n",
       "      <td>1.000000</td>\n",
       "      <td>0.175313</td>\n",
       "      <td>0.141065</td>\n",
       "    </tr>\n",
       "    <tr>\n",
       "      <th>층</th>\n",
       "      <td>-0.022424</td>\n",
       "      <td>0.162351</td>\n",
       "      <td>-0.004645</td>\n",
       "      <td>0.175313</td>\n",
       "      <td>1.000000</td>\n",
       "      <td>0.271603</td>\n",
       "    </tr>\n",
       "    <tr>\n",
       "      <th>건축년도</th>\n",
       "      <td>-0.029309</td>\n",
       "      <td>0.207289</td>\n",
       "      <td>-0.008210</td>\n",
       "      <td>0.141065</td>\n",
       "      <td>0.271603</td>\n",
       "      <td>1.000000</td>\n",
       "    </tr>\n",
       "  </tbody>\n",
       "</table>\n",
       "</div>"
      ],
      "text/plain": [
       "                부번   전용면적(㎡)       계약일  거래금액(만원)         층      건축년도\n",
       "부번        1.000000 -0.010992 -0.000584 -0.007157 -0.022424 -0.029309\n",
       "전용면적(㎡)  -0.010992  1.000000 -0.002072  0.516266  0.162351  0.207289\n",
       "계약일      -0.000584 -0.002072  1.000000  0.000006 -0.004645 -0.008210\n",
       "거래금액(만원) -0.007157  0.516266  0.000006  1.000000  0.175313  0.141065\n",
       "층        -0.022424  0.162351 -0.004645  0.175313  1.000000  0.271603\n",
       "건축년도     -0.029309  0.207289 -0.008210  0.141065  0.271603  1.000000"
      ]
     },
     "execution_count": 46,
     "metadata": {},
     "output_type": "execute_result"
    }
   ],
   "source": [
    "corr2018 = apt2018.corr(method='pearson')\n",
    "corr2018"
   ]
  },
  {
   "cell_type": "code",
   "execution_count": 47,
   "metadata": {},
   "outputs": [
    {
     "data": {
      "text/html": [
       "<div>\n",
       "<style scoped>\n",
       "    .dataframe tbody tr th:only-of-type {\n",
       "        vertical-align: middle;\n",
       "    }\n",
       "\n",
       "    .dataframe tbody tr th {\n",
       "        vertical-align: top;\n",
       "    }\n",
       "\n",
       "    .dataframe thead th {\n",
       "        text-align: right;\n",
       "    }\n",
       "</style>\n",
       "<table border=\"1\" class=\"dataframe\">\n",
       "  <thead>\n",
       "    <tr style=\"text-align: right;\">\n",
       "      <th></th>\n",
       "      <th>부번</th>\n",
       "      <th>전용면적(㎡)</th>\n",
       "      <th>계약일</th>\n",
       "      <th>거래금액(만원)</th>\n",
       "      <th>층</th>\n",
       "      <th>건축년도</th>\n",
       "    </tr>\n",
       "  </thead>\n",
       "  <tbody>\n",
       "    <tr>\n",
       "      <th>부번</th>\n",
       "      <td>1.000000</td>\n",
       "      <td>-0.013994</td>\n",
       "      <td>-0.002314</td>\n",
       "      <td>-0.008240</td>\n",
       "      <td>-0.022038</td>\n",
       "      <td>-0.024455</td>\n",
       "    </tr>\n",
       "    <tr>\n",
       "      <th>전용면적(㎡)</th>\n",
       "      <td>-0.013994</td>\n",
       "      <td>1.000000</td>\n",
       "      <td>0.003085</td>\n",
       "      <td>0.456091</td>\n",
       "      <td>0.165724</td>\n",
       "      <td>0.179345</td>\n",
       "    </tr>\n",
       "    <tr>\n",
       "      <th>계약일</th>\n",
       "      <td>-0.002314</td>\n",
       "      <td>0.003085</td>\n",
       "      <td>1.000000</td>\n",
       "      <td>0.001623</td>\n",
       "      <td>0.001069</td>\n",
       "      <td>0.005171</td>\n",
       "    </tr>\n",
       "    <tr>\n",
       "      <th>거래금액(만원)</th>\n",
       "      <td>-0.008240</td>\n",
       "      <td>0.456091</td>\n",
       "      <td>0.001623</td>\n",
       "      <td>1.000000</td>\n",
       "      <td>0.165782</td>\n",
       "      <td>0.113623</td>\n",
       "    </tr>\n",
       "    <tr>\n",
       "      <th>층</th>\n",
       "      <td>-0.022038</td>\n",
       "      <td>0.165724</td>\n",
       "      <td>0.001069</td>\n",
       "      <td>0.165782</td>\n",
       "      <td>1.000000</td>\n",
       "      <td>0.291626</td>\n",
       "    </tr>\n",
       "    <tr>\n",
       "      <th>건축년도</th>\n",
       "      <td>-0.024455</td>\n",
       "      <td>0.179345</td>\n",
       "      <td>0.005171</td>\n",
       "      <td>0.113623</td>\n",
       "      <td>0.291626</td>\n",
       "      <td>1.000000</td>\n",
       "    </tr>\n",
       "  </tbody>\n",
       "</table>\n",
       "</div>"
      ],
      "text/plain": [
       "                부번   전용면적(㎡)       계약일  거래금액(만원)         층      건축년도\n",
       "부번        1.000000 -0.013994 -0.002314 -0.008240 -0.022038 -0.024455\n",
       "전용면적(㎡)  -0.013994  1.000000  0.003085  0.456091  0.165724  0.179345\n",
       "계약일      -0.002314  0.003085  1.000000  0.001623  0.001069  0.005171\n",
       "거래금액(만원) -0.008240  0.456091  0.001623  1.000000  0.165782  0.113623\n",
       "층        -0.022038  0.165724  0.001069  0.165782  1.000000  0.291626\n",
       "건축년도     -0.024455  0.179345  0.005171  0.113623  0.291626  1.000000"
      ]
     },
     "execution_count": 47,
     "metadata": {},
     "output_type": "execute_result"
    }
   ],
   "source": [
    "corr2019 = apt2019.corr(method='pearson')\n",
    "corr2019"
   ]
  },
  {
   "cell_type": "markdown",
   "metadata": {},
   "source": [
    "2017, 2018, 2019 년 모두 \n",
    "거래금액과 다른 변수와의 상관관계를 따져보았을 때, 유의미한 양의 상관관계로는 비교적 전용면적이 가장 높고 그리고 그 다음으로는 층임.\n",
    "\n",
    "(+) 층 & 건축년도 사이에도 양의 상관관계가 보임."
   ]
  },
  {
   "cell_type": "code",
   "execution_count": null,
   "metadata": {},
   "outputs": [],
   "source": []
  }
 ],
 "metadata": {
  "kernelspec": {
   "display_name": "Python 3",
   "language": "python",
   "name": "python3"
  },
  "language_info": {
   "codemirror_mode": {
    "name": "ipython",
    "version": 3
   },
   "file_extension": ".py",
   "mimetype": "text/x-python",
   "name": "python",
   "nbconvert_exporter": "python",
   "pygments_lexer": "ipython3",
   "version": "3.7.3"
  }
 },
 "nbformat": 4,
 "nbformat_minor": 2
}
