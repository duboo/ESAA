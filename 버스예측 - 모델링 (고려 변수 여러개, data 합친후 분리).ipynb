{
 "cells": [
  {
   "cell_type": "code",
   "execution_count": 1,
   "metadata": {},
   "outputs": [],
   "source": [
    "# base\n",
    "import os\n",
    "import shutil\n",
    "import random\n",
    "import numpy as np\n",
    "import time\n",
    "from collections import Counter\n",
    "from sklearn.metrics import mean_squared_error\n",
    "\n",
    "# data preprocessing\n",
    "import pandas as pd\n",
    "pd.set_option('max_columns', 130, 'max_rows', 30)\n",
    "\n",
    "# visualization\n",
    "import seaborn as sns\n",
    "import matplotlib.pyplot as plt\n",
    "%matplotlib inline\n",
    "plt.rc('font', family='Malgun Gothic')\n",
    "plt.rc('axes', unicode_minus=False)\n",
    "\n",
    "# ignore warining\n",
    "import warnings\n",
    "warnings.filterwarnings('ignore')\n",
    "\n",
    "\n",
    "import folium # 지도 관련 시각화\n",
    "from folium.plugins import MarkerCluster #지도 관련 시각화\n",
    "import geopy.distance #거리 계산해주는 패키지 사용\n",
    "\n",
    "\n",
    "# save\n",
    "from sklearn.externals import joblib \n",
    "import pickle\n",
    "\n",
    "# selenium\n",
    "#from selenium.webdriver import Chrome\n",
    "\n",
    "import geopy.distance\n",
    "\n",
    "from sklearn.preprocessing import LabelEncoder\n",
    "from sklearn.preprocessing import StandardScaler\n",
    "from sklearn.model_selection import GridSearchCV\n",
    "from sklearn.ensemble import RandomForestRegressor\n",
    "\n",
    "import seaborn as sns\n",
    "import matplotlib.pyplot as plt\n",
    "%matplotlib inline\n",
    "from sklearn.externals import joblib \n",
    "import pickle"
   ]
  },
  {
   "cell_type": "code",
   "execution_count": 2,
   "metadata": {},
   "outputs": [],
   "source": [
    "from geopy.distance import geodesic"
   ]
  },
  {
   "cell_type": "markdown",
   "metadata": {},
   "source": [
    "import random\n",
    "random.seed(42)\n",
    "\n",
    "import lightgbm as lgb\n",
    "from keras import metrics\n",
    "from sklearn.metrics import r2_score"
   ]
  },
  {
   "cell_type": "code",
   "execution_count": 3,
   "metadata": {},
   "outputs": [],
   "source": [
    "import matplotlib\n",
    "import matplotlib.font_manager as fm\n",
    "font_name = fm.FontProperties(fname = './data/bus/AppleGothic.ttf').get_name()\n",
    "matplotlib.rc('font', family = font_name)"
   ]
  },
  {
   "cell_type": "code",
   "execution_count": 4,
   "metadata": {},
   "outputs": [],
   "source": [
    "import warnings\n",
    "warnings.filterwarnings(action='ignore')"
   ]
  },
  {
   "cell_type": "code",
   "execution_count": 5,
   "metadata": {},
   "outputs": [
    {
     "data": {
      "text/plain": [
       "((415423, 21), (228170, 20), (2409414, 13))"
      ]
     },
     "execution_count": 5,
     "metadata": {},
     "output_type": "execute_result"
    }
   ],
   "source": [
    "train = pd.read_csv(\"./data/bus/train.csv\")\n",
    "test = pd.read_csv(\"./data/bus/test.csv\")\n",
    "bts = pd.read_csv(\"./data/bus/bus_bts.csv\")\n",
    "\n",
    "train.shape, test.shape, bts.shape"
   ]
  },
  {
   "cell_type": "markdown",
   "metadata": {},
   "source": [
    "# 데이터 전처리"
   ]
  },
  {
   "cell_type": "markdown",
   "metadata": {},
   "source": [
    "### 요일"
   ]
  },
  {
   "cell_type": "code",
   "execution_count": 6,
   "metadata": {},
   "outputs": [
    {
     "data": {
      "text/plain": [
       "((415423, 22), (228170, 21))"
      ]
     },
     "execution_count": 6,
     "metadata": {},
     "output_type": "execute_result"
    }
   ],
   "source": [
    "train['date'] = pd.to_datetime(train['date'])\n",
    "train['weekday'] = train['date'].dt.weekday\n",
    "\n",
    "test['date'] = pd.to_datetime(test['date'])\n",
    "test['weekday'] = test['date'].dt.weekday\n",
    "\n",
    "train.shape, test.shape"
   ]
  },
  {
   "cell_type": "markdown",
   "metadata": {},
   "source": [
    "### route_station"
   ]
  },
  {
   "cell_type": "markdown",
   "metadata": {},
   "source": [
    "route_station = bus_route_id + station_code"
   ]
  },
  {
   "cell_type": "code",
   "execution_count": 7,
   "metadata": {},
   "outputs": [
    {
     "data": {
      "text/plain": [
       "((415423, 23), (228170, 22))"
      ]
     },
     "execution_count": 7,
     "metadata": {},
     "output_type": "execute_result"
    }
   ],
   "source": [
    "train['bus_route_id'] = train['bus_route_id'].astype(str)\n",
    "train['station_code'] = train['station_code'].astype(str)\n",
    "train['route_station'] = train['bus_route_id'] + ',' + train['station_code']\n",
    "\n",
    "test['bus_route_id'] = test['bus_route_id'].astype(str)\n",
    "test['station_code'] = test['station_code'].astype(str)\n",
    "test['route_station'] = test['bus_route_id'] + ',' + test['station_code']\n",
    "\n",
    "train.shape, test.shape"
   ]
  },
  {
   "cell_type": "markdown",
   "metadata": {},
   "source": [
    "### bus_route_id_weekday"
   ]
  },
  {
   "cell_type": "markdown",
   "metadata": {},
   "source": [
    "bus_route_id_weekday = bus_route_id + weekday"
   ]
  },
  {
   "cell_type": "code",
   "execution_count": 8,
   "metadata": {},
   "outputs": [
    {
     "data": {
      "text/plain": [
       "((415423, 24), (228170, 23))"
      ]
     },
     "execution_count": 8,
     "metadata": {},
     "output_type": "execute_result"
    }
   ],
   "source": [
    "train['bus_route_id_weekday'] = train['bus_route_id'].astype(str) + ',' + train['weekday'].astype(str) \n",
    "test['bus_route_id_weekday'] = test['bus_route_id'].astype(str) + ',' + test['weekday'].astype(str) \n",
    "\n",
    "train.shape, test.shape"
   ]
  },
  {
   "cell_type": "markdown",
   "metadata": {},
   "source": [
    "### station_code_weekday"
   ]
  },
  {
   "cell_type": "markdown",
   "metadata": {},
   "source": [
    "station_code_weekday = station_code + weekday"
   ]
  },
  {
   "cell_type": "code",
   "execution_count": 9,
   "metadata": {},
   "outputs": [
    {
     "data": {
      "text/plain": [
       "((415423, 25), (228170, 24))"
      ]
     },
     "execution_count": 9,
     "metadata": {},
     "output_type": "execute_result"
    }
   ],
   "source": [
    "train['station_code_weekday'] = train['station_code'].astype(str) + ',' + train['weekday'].astype(str)\n",
    "test['station_code_weekday'] = test['station_code'].astype(str) + ',' + test['weekday'].astype(str)\n",
    "\n",
    "train.shape, test.shape"
   ]
  },
  {
   "cell_type": "markdown",
   "metadata": {},
   "source": [
    "### route_station_weekday"
   ]
  },
  {
   "cell_type": "markdown",
   "metadata": {},
   "source": [
    "route_station_weekday = route_station + weekay"
   ]
  },
  {
   "cell_type": "code",
   "execution_count": 10,
   "metadata": {},
   "outputs": [
    {
     "data": {
      "text/plain": [
       "((415423, 26), (228170, 25))"
      ]
     },
     "execution_count": 10,
     "metadata": {},
     "output_type": "execute_result"
    }
   ],
   "source": [
    "train['route_station_weekday'] = train['route_station'].astype(str) + ',' + train['weekday'].astype(str) \n",
    "test['route_station_weekday'] = test['route_station'].astype(str) + ',' + test['weekday'].astype(str)\n",
    "\n",
    "train.shape, test.shape"
   ]
  },
  {
   "cell_type": "markdown",
   "metadata": {},
   "source": [
    "### on_time"
   ]
  },
  {
   "cell_type": "markdown",
   "metadata": {},
   "source": [
    "bts.csv 데이터에서 geton_time 열에서 시간대만 추출하여 on_time 컬럼을 만듬"
   ]
  },
  {
   "cell_type": "code",
   "execution_count": 11,
   "metadata": {},
   "outputs": [
    {
     "data": {
      "text/plain": [
       "(2409414, 14)"
      ]
     },
     "execution_count": 11,
     "metadata": {},
     "output_type": "execute_result"
    }
   ],
   "source": [
    "bts['on_time']  = bts['geton_time'].apply(lambda x : x[:2])\n",
    "\n",
    "bts.iloc[bts.query('on_time == \"06\"').index,13] = '6~7_ride'\n",
    "bts.iloc[bts.query('on_time == \"07\"').index,13] = '7~8_ride'\n",
    "bts.iloc[bts.query('on_time == \"08\"').index,13] = '8~9_ride'\n",
    "bts.iloc[bts.query('on_time == \"09\"').index,13] = '9~10_ride'\n",
    "bts.iloc[bts.query('on_time == \"10\"').index,13] = '10~11_ride'\n",
    "bts.iloc[bts.query('on_time == \"11\"').index,13] = '11~12_ride'\n",
    "\n",
    "bts.shape"
   ]
  },
  {
   "cell_type": "markdown",
   "metadata": {},
   "source": [
    "### 승 하차 시간대 통합 변수 (t ~ t+2)"
   ]
  },
  {
   "cell_type": "markdown",
   "metadata": {},
   "source": [
    "t~t+1, t+1~t+2 시간대 승하차인원을 합하여 t~t+2 시간대 승하차인원 변수를 만듬"
   ]
  },
  {
   "cell_type": "code",
   "execution_count": 12,
   "metadata": {},
   "outputs": [
    {
     "data": {
      "text/plain": [
       "((415423, 32), (228170, 31))"
      ]
     },
     "execution_count": 12,
     "metadata": {},
     "output_type": "execute_result"
    }
   ],
   "source": [
    "train['68a']=train['6~7_ride']+train['7~8_ride'] \n",
    "train['810a']=train['8~9_ride']+train['9~10_ride']\n",
    "train['1012a']=train['10~11_ride']+train['11~12_ride']\n",
    "\n",
    "train['68b']=train['6~7_takeoff']+train['7~8_takeoff'] \n",
    "train['810b']=train['8~9_takeoff']+train['9~10_takeoff']\n",
    "train['1012b']=train['10~11_takeoff']+train['11~12_takeoff']\n",
    "\n",
    "test['68a']=test['6~7_ride']+test['7~8_ride']\n",
    "test['810a']=test['8~9_ride']+test['9~10_ride']\n",
    "test['1012a']=test['10~11_ride']+test['11~12_ride']\n",
    "\n",
    "test['68b']=test['6~7_takeoff']+test['7~8_takeoff']\n",
    "test['810b']=test['8~9_takeoff']+test['9~10_takeoff']\n",
    "test['1012b']=test['10~11_takeoff']+test['11~12_takeoff']\n",
    "\n",
    "train.shape, test.shape"
   ]
  },
  {
   "cell_type": "markdown",
   "metadata": {},
   "source": [
    "# Make features by using target variable"
   ]
  },
  {
   "cell_type": "markdown",
   "metadata": {},
   "source": [
    "우리가 최종적으로 예측해야할 것은 각 일자별(date), 버스 노선(bus_route_id) 상의 정류장(station_name)의 퇴근시간 하차인원(18~20_ride)임."
   ]
  },
  {
   "cell_type": "markdown",
   "metadata": {},
   "source": [
    "* bus_route_id, station_name, weekday의 각 조합별 퇴근시간 하차인원(18~20_ride)의 여러 통계량을 구한 후 이를 train set, test set에 모두 적용한다.\"\n",
    "* target 변수를 train, test set에 적용할 수 있는 이유는 우리가 예측해야할 id는 date, bus_rout_id, station_name으로 구성되어있기 때문이다. 즉, 각각의 노선, 정류장별로 공통적인 패턴이 존재할 수 있다.\n",
    "* 이 과정에서 NA 값이 생기는 이유는 train set에 없는 bus_route_id, station_name이 존재하기 때문."
   ]
  },
  {
   "cell_type": "code",
   "execution_count": 13,
   "metadata": {},
   "outputs": [],
   "source": [
    "def id_statistic(ID, col1, col2) :\n",
    "    \n",
    "    # mean, sum\n",
    "    rs_mean = train.groupby([ID])['18~20_ride'].agg([(col1, 'mean')]).reset_index()\n",
    "    rs_sum = train.groupby([ID])['18~20_ride'].agg([(col2, 'sum')]).reset_index()\n",
    "    rs_mean_sum = pd.merge(rs_mean, rs_sum, on=ID)\n",
    "\n",
    "    # merge\n",
    "    tr = pd.merge(train, rs_mean_sum, how='left', on=ID)\n",
    "    te = pd.merge(test, rs_mean_sum, how='left', on=ID)\n",
    "\n",
    "    # na -&gt; mean\n",
    "    te[col1] = te[col1].fillna(rs_mean.mean())\n",
    "    te[col1] = te[col1].fillna(rs_sum.mean())\n",
    "    \n",
    "    return tr, te"
   ]
  },
  {
   "cell_type": "code",
   "execution_count": 14,
   "metadata": {},
   "outputs": [
    {
     "data": {
      "text/plain": [
       "((415423, 34), (228170, 33))"
      ]
     },
     "execution_count": 14,
     "metadata": {},
     "output_type": "execute_result"
    }
   ],
   "source": [
    "train, test = id_statistic('route_station', '1820_rs_mean', '1820_rs_sum')\n",
    "\n",
    "train.shape, test.shape"
   ]
  },
  {
   "cell_type": "code",
   "execution_count": 15,
   "metadata": {},
   "outputs": [
    {
     "data": {
      "text/plain": [
       "((415423, 36), (228170, 35))"
      ]
     },
     "execution_count": 15,
     "metadata": {},
     "output_type": "execute_result"
    }
   ],
   "source": [
    "train, test = id_statistic('bus_route_id', '1820_r_mean', '1820_r_sum')\n",
    "\n",
    "train.shape, test.shape"
   ]
  },
  {
   "cell_type": "code",
   "execution_count": 16,
   "metadata": {},
   "outputs": [
    {
     "data": {
      "text/plain": [
       "((415423, 38), (228170, 37))"
      ]
     },
     "execution_count": 16,
     "metadata": {},
     "output_type": "execute_result"
    }
   ],
   "source": [
    "train, test = id_statistic('station_code', '1820_s_mean', '1820_s_sum')\n",
    "\n",
    "train.shape, test.shape"
   ]
  },
  {
   "cell_type": "code",
   "execution_count": 17,
   "metadata": {},
   "outputs": [
    {
     "data": {
      "text/plain": [
       "((415423, 40), (228170, 39))"
      ]
     },
     "execution_count": 17,
     "metadata": {},
     "output_type": "execute_result"
    }
   ],
   "source": [
    "train, test = id_statistic('weekday', '1820_w_mean', '1820_w_sum')\n",
    "\n",
    "train.shape, test.shape"
   ]
  },
  {
   "cell_type": "code",
   "execution_count": 18,
   "metadata": {},
   "outputs": [],
   "source": [
    "def mean_statistics() :\n",
    "\n",
    "    f = train.groupby(['bus_route_id_weekday'])['18~20_ride'].agg([('mean_bus_weekday_ride','mean')]).reset_index()\n",
    "    tr = pd.merge(train, f, how='left', on='bus_route_id_weekday')\n",
    "    te = pd.merge(test, f, how='left', on='bus_route_id_weekday').fillna(f['mean_bus_weekday_ride'].mean())\n",
    "    \n",
    "    f = train.groupby(['station_code_weekday'])['18~20_ride'].agg([('mean_station_weekday_ride','mean')]).reset_index()\n",
    "    tr = pd.merge(tr, f, how='left', on='station_code_weekday')\n",
    "    te = pd.merge(te, f, how='left', on='station_code_weekday').fillna(f['mean_station_weekday_ride'].mean())\n",
    "    \n",
    "    f = train.groupby(['route_station_weekday'])['18~20_ride'].agg([('mean_route_station_weekday_ride','mean')]).reset_index()\n",
    "    tr = pd.merge(tr, f, how='left', on='route_station_weekday')\n",
    "    te = pd.merge(te, f, how='left', on='route_station_weekday').fillna(f['mean_route_station_weekday_ride'].mean())\n",
    "    \n",
    "    return tr, te"
   ]
  },
  {
   "cell_type": "code",
   "execution_count": 19,
   "metadata": {},
   "outputs": [
    {
     "data": {
      "text/plain": [
       "((415423, 43), (228170, 42))"
      ]
     },
     "execution_count": 19,
     "metadata": {},
     "output_type": "execute_result"
    }
   ],
   "source": [
    "train, test = mean_statistics()\n",
    "\n",
    "train.shape, test.shape"
   ]
  },
  {
   "cell_type": "markdown",
   "metadata": {},
   "source": [
    "### congestion"
   ]
  },
  {
   "cell_type": "markdown",
   "metadata": {},
   "source": [
    "bus_route_id를 기준으로 18 ~ 20의 혼잡도를 계산."
   ]
  },
  {
   "cell_type": "code",
   "execution_count": 20,
   "metadata": {},
   "outputs": [],
   "source": [
    "def congestion() :\n",
    "    df = train.groupby(['bus_route_id'])['18~20_ride'].agg([('passenger', 'sum')])\n",
    "    df = df.sort_values(by='passenger', ascending=False).reset_index()\n",
    "    \n",
    "    def f(x):\n",
    "        if x > 10000:\n",
    "            return 7\n",
    "\n",
    "        elif x > 5000:\n",
    "            return 6\n",
    "\n",
    "        elif x > 2000:\n",
    "            return 5\n",
    "\n",
    "        elif x > 700:\n",
    "            return 4\n",
    "\n",
    "        elif x > 200:\n",
    "            return 3\n",
    "\n",
    "        elif x > 50:\n",
    "            return 2\n",
    "\n",
    "        else:\n",
    "            return 1\n",
    "    \n",
    "    df['congestion']=df['passenger'].apply(f)\n",
    "    df = df[['bus_route_id','congestion']]\n",
    "    \n",
    "    tr = pd.merge(train, df, how='left', on='bus_route_id')\n",
    "    te = pd.merge(test, df, how='left', on='bus_route_id')\n",
    "    \n",
    "    # 결측치는 데이터 프레임 df의 'congestion'의 중간값인 '4'으로 대체\n",
    "    te = te.fillna(4)\n",
    "    \n",
    "    return tr, te"
   ]
  },
  {
   "cell_type": "code",
   "execution_count": 21,
   "metadata": {},
   "outputs": [
    {
     "data": {
      "text/plain": [
       "((415423, 44), (228170, 43))"
      ]
     },
     "execution_count": 21,
     "metadata": {},
     "output_type": "execute_result"
    }
   ],
   "source": [
    "train, test = congestion()\n",
    "\n",
    "train.shape, test.shape"
   ]
  },
  {
   "cell_type": "markdown",
   "metadata": {},
   "source": [
    "### location"
   ]
  },
  {
   "cell_type": "markdown",
   "metadata": {},
   "source": [
    "location = latitude + longitude"
   ]
  },
  {
   "cell_type": "code",
   "execution_count": 22,
   "metadata": {},
   "outputs": [
    {
     "data": {
      "text/plain": [
       "((415423, 45), (228170, 44))"
      ]
     },
     "execution_count": 22,
     "metadata": {},
     "output_type": "execute_result"
    }
   ],
   "source": [
    "train['location'] = train['latitude'].astype(str) + ',' + train['longitude'].astype(str)\n",
    "test['location'] = test['latitude'].astype(str) + ',' + test['longitude'].astype(str)\n",
    "\n",
    "train.shape, test.shape"
   ]
  },
  {
   "cell_type": "markdown",
   "metadata": {},
   "source": [
    "### merge key"
   ]
  },
  {
   "cell_type": "code",
   "execution_count": 23,
   "metadata": {},
   "outputs": [
    {
     "data": {
      "text/plain": [
       "((415423, 46), (228170, 45))"
      ]
     },
     "execution_count": 23,
     "metadata": {},
     "output_type": "execute_result"
    }
   ],
   "source": [
    "# make cue column\n",
    "train['cue']=0\n",
    "test['cue']=1\n",
    "\n",
    "train.shape, test.shape"
   ]
  },
  {
   "cell_type": "code",
   "execution_count": 24,
   "metadata": {},
   "outputs": [],
   "source": [
    "data = pd.concat([train, test])"
   ]
  },
  {
   "cell_type": "code",
   "execution_count": 25,
   "metadata": {},
   "outputs": [
    {
     "data": {
      "text/html": [
       "<div>\n",
       "<style scoped>\n",
       "    .dataframe tbody tr th:only-of-type {\n",
       "        vertical-align: middle;\n",
       "    }\n",
       "\n",
       "    .dataframe tbody tr th {\n",
       "        vertical-align: top;\n",
       "    }\n",
       "\n",
       "    .dataframe thead th {\n",
       "        text-align: right;\n",
       "    }\n",
       "</style>\n",
       "<table border=\"1\" class=\"dataframe\">\n",
       "  <thead>\n",
       "    <tr style=\"text-align: right;\">\n",
       "      <th></th>\n",
       "      <th>1012a</th>\n",
       "      <th>1012b</th>\n",
       "      <th>10~11_ride</th>\n",
       "      <th>10~11_takeoff</th>\n",
       "      <th>11~12_ride</th>\n",
       "      <th>11~12_takeoff</th>\n",
       "      <th>1820_r_mean</th>\n",
       "      <th>1820_r_sum</th>\n",
       "      <th>1820_rs_mean</th>\n",
       "      <th>1820_rs_sum</th>\n",
       "      <th>1820_s_mean</th>\n",
       "      <th>1820_s_sum</th>\n",
       "      <th>1820_w_mean</th>\n",
       "      <th>1820_w_sum</th>\n",
       "      <th>18~20_ride</th>\n",
       "      <th>68a</th>\n",
       "      <th>68b</th>\n",
       "      <th>6~7_ride</th>\n",
       "      <th>6~7_takeoff</th>\n",
       "      <th>7~8_ride</th>\n",
       "      <th>7~8_takeoff</th>\n",
       "      <th>810a</th>\n",
       "      <th>810b</th>\n",
       "      <th>8~9_ride</th>\n",
       "      <th>8~9_takeoff</th>\n",
       "      <th>9~10_ride</th>\n",
       "      <th>9~10_takeoff</th>\n",
       "      <th>bus_route_id</th>\n",
       "      <th>bus_route_id_weekday</th>\n",
       "      <th>congestion</th>\n",
       "      <th>cue</th>\n",
       "      <th>date</th>\n",
       "      <th>id</th>\n",
       "      <th>in_out</th>\n",
       "      <th>latitude</th>\n",
       "      <th>location</th>\n",
       "      <th>longitude</th>\n",
       "      <th>mean_bus_weekday_ride</th>\n",
       "      <th>mean_route_station_weekday_ride</th>\n",
       "      <th>mean_station_weekday_ride</th>\n",
       "      <th>route_station</th>\n",
       "      <th>route_station_weekday</th>\n",
       "      <th>station_code</th>\n",
       "      <th>station_code_weekday</th>\n",
       "      <th>station_name</th>\n",
       "      <th>weekday</th>\n",
       "    </tr>\n",
       "  </thead>\n",
       "  <tbody>\n",
       "    <tr>\n",
       "      <th>0</th>\n",
       "      <td>8.0</td>\n",
       "      <td>0.0</td>\n",
       "      <td>2.0</td>\n",
       "      <td>0.0</td>\n",
       "      <td>6.0</td>\n",
       "      <td>0.0</td>\n",
       "      <td>3.104381</td>\n",
       "      <td>2409.0</td>\n",
       "      <td>1.466667</td>\n",
       "      <td>44.0</td>\n",
       "      <td>1.466667</td>\n",
       "      <td>44.0</td>\n",
       "      <td>1.034282</td>\n",
       "      <td>54306.0</td>\n",
       "      <td>0.0</td>\n",
       "      <td>1.0</td>\n",
       "      <td>0.0</td>\n",
       "      <td>0.0</td>\n",
       "      <td>0.0</td>\n",
       "      <td>1.0</td>\n",
       "      <td>0.0</td>\n",
       "      <td>7.0</td>\n",
       "      <td>0.0</td>\n",
       "      <td>2.0</td>\n",
       "      <td>0.0</td>\n",
       "      <td>5.0</td>\n",
       "      <td>0.0</td>\n",
       "      <td>4270000</td>\n",
       "      <td>4270000,6</td>\n",
       "      <td>5.0</td>\n",
       "      <td>0</td>\n",
       "      <td>2019-09-01</td>\n",
       "      <td>0</td>\n",
       "      <td>시외</td>\n",
       "      <td>33.48990</td>\n",
       "      <td>33.4899,126.49373</td>\n",
       "      <td>126.49373</td>\n",
       "      <td>3.132812</td>\n",
       "      <td>0.2</td>\n",
       "      <td>0.200000</td>\n",
       "      <td>4270000,344</td>\n",
       "      <td>4270000,344,6</td>\n",
       "      <td>344</td>\n",
       "      <td>344,6</td>\n",
       "      <td>제주썬호텔</td>\n",
       "      <td>6</td>\n",
       "    </tr>\n",
       "    <tr>\n",
       "      <th>1</th>\n",
       "      <td>11.0</td>\n",
       "      <td>0.0</td>\n",
       "      <td>5.0</td>\n",
       "      <td>0.0</td>\n",
       "      <td>6.0</td>\n",
       "      <td>0.0</td>\n",
       "      <td>3.104381</td>\n",
       "      <td>2409.0</td>\n",
       "      <td>5.366667</td>\n",
       "      <td>161.0</td>\n",
       "      <td>4.178218</td>\n",
       "      <td>6330.0</td>\n",
       "      <td>1.034282</td>\n",
       "      <td>54306.0</td>\n",
       "      <td>5.0</td>\n",
       "      <td>5.0</td>\n",
       "      <td>0.0</td>\n",
       "      <td>1.0</td>\n",
       "      <td>0.0</td>\n",
       "      <td>4.0</td>\n",
       "      <td>0.0</td>\n",
       "      <td>6.0</td>\n",
       "      <td>0.0</td>\n",
       "      <td>4.0</td>\n",
       "      <td>0.0</td>\n",
       "      <td>2.0</td>\n",
       "      <td>0.0</td>\n",
       "      <td>4270000</td>\n",
       "      <td>4270000,6</td>\n",
       "      <td>5.0</td>\n",
       "      <td>0</td>\n",
       "      <td>2019-09-01</td>\n",
       "      <td>1</td>\n",
       "      <td>시외</td>\n",
       "      <td>33.48944</td>\n",
       "      <td>33.48944,126.48508</td>\n",
       "      <td>126.48508</td>\n",
       "      <td>3.132812</td>\n",
       "      <td>2.2</td>\n",
       "      <td>3.154867</td>\n",
       "      <td>4270000,357</td>\n",
       "      <td>4270000,357,6</td>\n",
       "      <td>357</td>\n",
       "      <td>357,6</td>\n",
       "      <td>한라병원</td>\n",
       "      <td>6</td>\n",
       "    </tr>\n",
       "    <tr>\n",
       "      <th>2</th>\n",
       "      <td>0.0</td>\n",
       "      <td>0.0</td>\n",
       "      <td>0.0</td>\n",
       "      <td>0.0</td>\n",
       "      <td>0.0</td>\n",
       "      <td>0.0</td>\n",
       "      <td>3.104381</td>\n",
       "      <td>2409.0</td>\n",
       "      <td>1.600000</td>\n",
       "      <td>48.0</td>\n",
       "      <td>2.169559</td>\n",
       "      <td>1625.0</td>\n",
       "      <td>1.034282</td>\n",
       "      <td>54306.0</td>\n",
       "      <td>2.0</td>\n",
       "      <td>2.0</td>\n",
       "      <td>0.0</td>\n",
       "      <td>1.0</td>\n",
       "      <td>0.0</td>\n",
       "      <td>1.0</td>\n",
       "      <td>0.0</td>\n",
       "      <td>2.0</td>\n",
       "      <td>0.0</td>\n",
       "      <td>0.0</td>\n",
       "      <td>0.0</td>\n",
       "      <td>2.0</td>\n",
       "      <td>0.0</td>\n",
       "      <td>4270000</td>\n",
       "      <td>4270000,6</td>\n",
       "      <td>5.0</td>\n",
       "      <td>0</td>\n",
       "      <td>2019-09-01</td>\n",
       "      <td>2</td>\n",
       "      <td>시외</td>\n",
       "      <td>33.48181</td>\n",
       "      <td>33.48181,126.47352</td>\n",
       "      <td>126.47352</td>\n",
       "      <td>3.132812</td>\n",
       "      <td>0.8</td>\n",
       "      <td>1.163462</td>\n",
       "      <td>4270000,432</td>\n",
       "      <td>4270000,432,6</td>\n",
       "      <td>432</td>\n",
       "      <td>432,6</td>\n",
       "      <td>정존마을</td>\n",
       "      <td>6</td>\n",
       "    </tr>\n",
       "    <tr>\n",
       "      <th>3</th>\n",
       "      <td>30.0</td>\n",
       "      <td>0.0</td>\n",
       "      <td>14.0</td>\n",
       "      <td>0.0</td>\n",
       "      <td>16.0</td>\n",
       "      <td>0.0</td>\n",
       "      <td>3.104381</td>\n",
       "      <td>2409.0</td>\n",
       "      <td>53.766667</td>\n",
       "      <td>1613.0</td>\n",
       "      <td>52.032258</td>\n",
       "      <td>1613.0</td>\n",
       "      <td>1.034282</td>\n",
       "      <td>54306.0</td>\n",
       "      <td>53.0</td>\n",
       "      <td>17.0</td>\n",
       "      <td>0.0</td>\n",
       "      <td>0.0</td>\n",
       "      <td>0.0</td>\n",
       "      <td>17.0</td>\n",
       "      <td>0.0</td>\n",
       "      <td>32.0</td>\n",
       "      <td>0.0</td>\n",
       "      <td>6.0</td>\n",
       "      <td>0.0</td>\n",
       "      <td>26.0</td>\n",
       "      <td>0.0</td>\n",
       "      <td>4270000</td>\n",
       "      <td>4270000,6</td>\n",
       "      <td>5.0</td>\n",
       "      <td>0</td>\n",
       "      <td>2019-09-01</td>\n",
       "      <td>3</td>\n",
       "      <td>시내</td>\n",
       "      <td>33.50577</td>\n",
       "      <td>33.50577,126.49252</td>\n",
       "      <td>126.49252</td>\n",
       "      <td>3.132812</td>\n",
       "      <td>56.0</td>\n",
       "      <td>56.000000</td>\n",
       "      <td>4270000,1579</td>\n",
       "      <td>4270000,1579,6</td>\n",
       "      <td>1579</td>\n",
       "      <td>1579,6</td>\n",
       "      <td>제주국제공항(600번)</td>\n",
       "      <td>6</td>\n",
       "    </tr>\n",
       "    <tr>\n",
       "      <th>4</th>\n",
       "      <td>0.0</td>\n",
       "      <td>0.0</td>\n",
       "      <td>0.0</td>\n",
       "      <td>0.0</td>\n",
       "      <td>0.0</td>\n",
       "      <td>0.0</td>\n",
       "      <td>3.104381</td>\n",
       "      <td>2409.0</td>\n",
       "      <td>0.153846</td>\n",
       "      <td>4.0</td>\n",
       "      <td>0.732794</td>\n",
       "      <td>181.0</td>\n",
       "      <td>1.034282</td>\n",
       "      <td>54306.0</td>\n",
       "      <td>0.0</td>\n",
       "      <td>0.0</td>\n",
       "      <td>0.0</td>\n",
       "      <td>0.0</td>\n",
       "      <td>0.0</td>\n",
       "      <td>0.0</td>\n",
       "      <td>0.0</td>\n",
       "      <td>0.0</td>\n",
       "      <td>1.0</td>\n",
       "      <td>0.0</td>\n",
       "      <td>0.0</td>\n",
       "      <td>0.0</td>\n",
       "      <td>1.0</td>\n",
       "      <td>4270000</td>\n",
       "      <td>4270000,6</td>\n",
       "      <td>5.0</td>\n",
       "      <td>0</td>\n",
       "      <td>2019-09-01</td>\n",
       "      <td>4</td>\n",
       "      <td>시내</td>\n",
       "      <td>33.25579</td>\n",
       "      <td>33.255790000000005,126.4126</td>\n",
       "      <td>126.41260</td>\n",
       "      <td>3.132812</td>\n",
       "      <td>0.4</td>\n",
       "      <td>1.108108</td>\n",
       "      <td>4270000,1646</td>\n",
       "      <td>4270000,1646,6</td>\n",
       "      <td>1646</td>\n",
       "      <td>1646,6</td>\n",
       "      <td>중문관광단지입구</td>\n",
       "      <td>6</td>\n",
       "    </tr>\n",
       "  </tbody>\n",
       "</table>\n",
       "</div>"
      ],
      "text/plain": [
       "   1012a  1012b  10~11_ride  10~11_takeoff  11~12_ride  11~12_takeoff  \\\n",
       "0    8.0    0.0         2.0            0.0         6.0            0.0   \n",
       "1   11.0    0.0         5.0            0.0         6.0            0.0   \n",
       "2    0.0    0.0         0.0            0.0         0.0            0.0   \n",
       "3   30.0    0.0        14.0            0.0        16.0            0.0   \n",
       "4    0.0    0.0         0.0            0.0         0.0            0.0   \n",
       "\n",
       "   1820_r_mean  1820_r_sum  1820_rs_mean  1820_rs_sum  1820_s_mean  \\\n",
       "0     3.104381      2409.0      1.466667         44.0     1.466667   \n",
       "1     3.104381      2409.0      5.366667        161.0     4.178218   \n",
       "2     3.104381      2409.0      1.600000         48.0     2.169559   \n",
       "3     3.104381      2409.0     53.766667       1613.0    52.032258   \n",
       "4     3.104381      2409.0      0.153846          4.0     0.732794   \n",
       "\n",
       "   1820_s_sum  1820_w_mean  1820_w_sum  18~20_ride   68a  68b  6~7_ride  \\\n",
       "0        44.0     1.034282     54306.0         0.0   1.0  0.0       0.0   \n",
       "1      6330.0     1.034282     54306.0         5.0   5.0  0.0       1.0   \n",
       "2      1625.0     1.034282     54306.0         2.0   2.0  0.0       1.0   \n",
       "3      1613.0     1.034282     54306.0        53.0  17.0  0.0       0.0   \n",
       "4       181.0     1.034282     54306.0         0.0   0.0  0.0       0.0   \n",
       "\n",
       "   6~7_takeoff  7~8_ride  7~8_takeoff  810a  810b  8~9_ride  8~9_takeoff  \\\n",
       "0          0.0       1.0          0.0   7.0   0.0       2.0          0.0   \n",
       "1          0.0       4.0          0.0   6.0   0.0       4.0          0.0   \n",
       "2          0.0       1.0          0.0   2.0   0.0       0.0          0.0   \n",
       "3          0.0      17.0          0.0  32.0   0.0       6.0          0.0   \n",
       "4          0.0       0.0          0.0   0.0   1.0       0.0          0.0   \n",
       "\n",
       "   9~10_ride  9~10_takeoff bus_route_id bus_route_id_weekday  congestion  cue  \\\n",
       "0        5.0           0.0      4270000            4270000,6         5.0    0   \n",
       "1        2.0           0.0      4270000            4270000,6         5.0    0   \n",
       "2        2.0           0.0      4270000            4270000,6         5.0    0   \n",
       "3       26.0           0.0      4270000            4270000,6         5.0    0   \n",
       "4        0.0           1.0      4270000            4270000,6         5.0    0   \n",
       "\n",
       "        date  id in_out  latitude                     location  longitude  \\\n",
       "0 2019-09-01   0     시외  33.48990            33.4899,126.49373  126.49373   \n",
       "1 2019-09-01   1     시외  33.48944           33.48944,126.48508  126.48508   \n",
       "2 2019-09-01   2     시외  33.48181           33.48181,126.47352  126.47352   \n",
       "3 2019-09-01   3     시내  33.50577           33.50577,126.49252  126.49252   \n",
       "4 2019-09-01   4     시내  33.25579  33.255790000000005,126.4126  126.41260   \n",
       "\n",
       "   mean_bus_weekday_ride  mean_route_station_weekday_ride  \\\n",
       "0               3.132812                              0.2   \n",
       "1               3.132812                              2.2   \n",
       "2               3.132812                              0.8   \n",
       "3               3.132812                             56.0   \n",
       "4               3.132812                              0.4   \n",
       "\n",
       "   mean_station_weekday_ride route_station route_station_weekday station_code  \\\n",
       "0                   0.200000   4270000,344         4270000,344,6          344   \n",
       "1                   3.154867   4270000,357         4270000,357,6          357   \n",
       "2                   1.163462   4270000,432         4270000,432,6          432   \n",
       "3                  56.000000  4270000,1579        4270000,1579,6         1579   \n",
       "4                   1.108108  4270000,1646        4270000,1646,6         1646   \n",
       "\n",
       "  station_code_weekday  station_name  weekday  \n",
       "0                344,6         제주썬호텔        6  \n",
       "1                357,6          한라병원        6  \n",
       "2                432,6          정존마을        6  \n",
       "3               1579,6  제주국제공항(600번)        6  \n",
       "4               1646,6      중문관광단지입구        6  "
      ]
     },
     "execution_count": 25,
     "metadata": {},
     "output_type": "execute_result"
    }
   ],
   "source": [
    "data.head()"
   ]
  },
  {
   "cell_type": "markdown",
   "metadata": {},
   "source": [
    "### Label encoding feature"
   ]
  },
  {
   "cell_type": "markdown",
   "metadata": {},
   "source": [
    "bus_route_id, station_name, route_station_weekday(bus_route_id + weekday의 조합), route_station(bus_route_id + station_code 의 조합) 총 4개를 라벨인코딩 해줌"
   ]
  },
  {
   "cell_type": "code",
   "execution_count": 26,
   "metadata": {},
   "outputs": [
    {
     "data": {
      "text/plain": [
       "(643593, 50)"
      ]
     },
     "execution_count": 26,
     "metadata": {},
     "output_type": "execute_result"
    }
   ],
   "source": [
    "labelencoder = LabelEncoder()\n",
    "df_encode = data[['bus_route_id','station_code', 'route_station_weekday', 'route_station']]\n",
    "df_encoded = df_encode.apply(labelencoder.fit_transform)\n",
    "\n",
    "data['bus_route_id2']=df_encoded['bus_route_id']\n",
    "data['station_code2']=df_encoded['station_code']\n",
    "data['route_station_weekday2']=df_encoded['route_station_weekday']\n",
    "data['route_station2']=df_encoded['route_station']\n",
    "\n",
    "data.shape"
   ]
  },
  {
   "cell_type": "markdown",
   "metadata": {},
   "source": [
    "### weekday (data)"
   ]
  },
  {
   "cell_type": "code",
   "execution_count": 27,
   "metadata": {},
   "outputs": [
    {
     "data": {
      "text/plain": [
       "(643593, 57)"
      ]
     },
     "execution_count": 27,
     "metadata": {},
     "output_type": "execute_result"
    }
   ],
   "source": [
    "data['date'] = pd.to_datetime(data['date'])\n",
    "data['weekday'] = data['date'].dt.weekday\n",
    "data = pd.get_dummies(data,columns=['weekday'])\n",
    "data['weekday'] = data['date'].dt.weekday\n",
    "data.shape"
   ]
  },
  {
   "cell_type": "markdown",
   "metadata": {},
   "source": [
    "### in - out"
   ]
  },
  {
   "cell_type": "code",
   "execution_count": 28,
   "metadata": {},
   "outputs": [
    {
     "data": {
      "text/plain": [
       "(643593, 57)"
      ]
     },
     "execution_count": 28,
     "metadata": {},
     "output_type": "execute_result"
    }
   ],
   "source": [
    "data['in_out'].value_counts()\n",
    "data['in_out'] = data['in_out'].map({'시내':0,'시외':1})\n",
    "\n",
    "data.shape"
   ]
  },
  {
   "cell_type": "markdown",
   "metadata": {},
   "source": [
    "### 출근 시간의 총 승객 수"
   ]
  },
  {
   "cell_type": "code",
   "execution_count": 29,
   "metadata": {},
   "outputs": [
    {
     "data": {
      "text/plain": [
       "(643593, 59)"
      ]
     },
     "execution_count": 29,
     "metadata": {},
     "output_type": "execute_result"
    }
   ],
   "source": [
    "data['ride_sum'] = data['6~7_ride'] + data['7~8_ride'] + data['8~9_ride'] + data['9~10_ride'] + data['10~11_ride'] + data['11~12_ride'] \n",
    "data['takeoff_sum'] = data['6~7_takeoff'] + data['7~8_takeoff'] + data['8~9_takeoff'] + data['9~10_takeoff'] + data['10~11_takeoff'] + data['11~12_takeoff'] \n",
    "\n",
    "data.shape"
   ]
  },
  {
   "cell_type": "markdown",
   "metadata": {},
   "source": [
    "### 날짜 및 시간대 별 총 승객수"
   ]
  },
  {
   "cell_type": "code",
   "execution_count": 30,
   "metadata": {},
   "outputs": [
    {
     "data": {
      "text/plain": [
       "(643593, 64)"
      ]
     },
     "execution_count": 30,
     "metadata": {},
     "output_type": "execute_result"
    }
   ],
   "source": [
    "f = data.groupby('date')['6~7_ride'].agg([('6~7_all_ride_number', 'sum')]).reset_index()\n",
    "data = pd.merge(data, f, how='left')\n",
    "\n",
    "f = data.groupby('date')['7~8_ride'].agg([('7~8_all_ride_number', 'sum')]).reset_index()\n",
    "data = pd.merge(data, f, how='left')\n",
    "\n",
    "f = data.groupby('date')['8~9_ride'].agg([('8~9_all_ride_number', 'sum')]).reset_index()\n",
    "data = pd.merge(data, f, how='left')\n",
    "\n",
    "f = data.groupby('date')['9~10_ride'].agg([('9~10_all_ride_number', 'sum')]).reset_index()\n",
    "data = pd.merge(data, f, how='left')\n",
    "\n",
    "f = data.groupby('date')['10~11_ride'].agg([('10~11_all_ride_number', 'sum')]).reset_index()\n",
    "data = pd.merge(data, f, how='left')\n",
    "\n",
    "data.shape"
   ]
  },
  {
   "cell_type": "markdown",
   "metadata": {},
   "source": [
    "### 주말, 주중"
   ]
  },
  {
   "cell_type": "code",
   "execution_count": 31,
   "metadata": {},
   "outputs": [],
   "source": [
    "def h(x):\n",
    "    if x ==5:\n",
    "        return 1\n",
    "    elif x==6:\n",
    "        return 1\n",
    "    else:\n",
    "        return 0"
   ]
  },
  {
   "cell_type": "code",
   "execution_count": 32,
   "metadata": {},
   "outputs": [
    {
     "data": {
      "text/plain": [
       "(643593, 65)"
      ]
     },
     "execution_count": 32,
     "metadata": {},
     "output_type": "execute_result"
    }
   ],
   "source": [
    "data['weekend'] = data['weekday'].apply(h)\n",
    "\n",
    "data.shape"
   ]
  },
  {
   "cell_type": "markdown",
   "metadata": {},
   "source": [
    "### 연휴"
   ]
  },
  {
   "cell_type": "code",
   "execution_count": 33,
   "metadata": {},
   "outputs": [],
   "source": [
    "def g(x):\n",
    "    if x in ['2019-09-12','2019-09-13','2019-09-14','2019-10-03','2019-10-09']:\n",
    "        return 1\n",
    "    else:\n",
    "        return 0"
   ]
  },
  {
   "cell_type": "code",
   "execution_count": 34,
   "metadata": {},
   "outputs": [
    {
     "data": {
      "text/plain": [
       "(643593, 66)"
      ]
     },
     "execution_count": 34,
     "metadata": {},
     "output_type": "execute_result"
    }
   ],
   "source": [
    "data['holiday'] = data['date'].apply(g) \n",
    "\n",
    "data.shape"
   ]
  },
  {
   "cell_type": "markdown",
   "metadata": {},
   "source": [
    "### 요일 별 평균 승객 수"
   ]
  },
  {
   "cell_type": "code",
   "execution_count": 35,
   "metadata": {},
   "outputs": [],
   "source": [
    "def week_mean() :\n",
    "\n",
    "    df = data.reset_index(drop=True)\n",
    "    df.groupby('weekday')['18~20_ride'].mean()\n",
    "    df['weekdaymean']= 1\n",
    "\n",
    "    index0 = df.query('weekday==0').index\n",
    "    index1 = df.query('weekday==1').index\n",
    "    index2 = df.query('weekday==2').index\n",
    "    index3 = df.query('weekday==3').index\n",
    "    index4 = df.query('weekday==4').index\n",
    "    index5 = df.query('weekday==5').index\n",
    "    index6 = df.query('weekday==6').index\n",
    "\n",
    "    df.iloc[index0,-1] = 1.343710\n",
    "    df.iloc[index1,-1] = 1.375319\n",
    "    df.iloc[index2,-1] = 1.430856\n",
    "    df.iloc[index3,-1] = 1.256710\n",
    "    df.iloc[index4,-1] = 1.067439\n",
    "    df.iloc[index5,-1] = 1.062123\n",
    "    df.iloc[index6,-1] = 1.034282\n",
    "\n",
    "    return df"
   ]
  },
  {
   "cell_type": "code",
   "execution_count": 36,
   "metadata": {},
   "outputs": [
    {
     "data": {
      "text/plain": [
       "(643593, 67)"
      ]
     },
     "execution_count": 36,
     "metadata": {},
     "output_type": "execute_result"
    }
   ],
   "source": [
    "data = week_mean()\n",
    "\n",
    "data.shape"
   ]
  },
  {
   "cell_type": "markdown",
   "metadata": {},
   "source": [
    "### 시내 및 시외버스 별 평균 탑승 승객"
   ]
  },
  {
   "cell_type": "code",
   "execution_count": 37,
   "metadata": {},
   "outputs": [
    {
     "data": {
      "text/plain": [
       "(643593, 68)"
      ]
     },
     "execution_count": 37,
     "metadata": {},
     "output_type": "execute_result"
    }
   ],
   "source": [
    "data['in_out_mean'] = 1\n",
    "inindex = data.query('in_out == \"시내\"').index\n",
    "outindex = data.query('in_out == \"시외\"').index\n",
    "\n",
    "data.iloc[inindex,-1] = 1.228499\n",
    "data.iloc[outindex,-1] = 2.044345\n",
    "data['congestion'] = data['congestion'].astype('int64')\n",
    "\n",
    "data.shape"
   ]
  },
  {
   "cell_type": "markdown",
   "metadata": {},
   "source": [
    "### 카테고리별 승객 수"
   ]
  },
  {
   "cell_type": "code",
   "execution_count": 38,
   "metadata": {},
   "outputs": [],
   "source": [
    "def category_people() :\n",
    "    bts['bus_route_id'] = bts['bus_route_id'].astype(str)\n",
    "\n",
    "    f = bts.groupby(['bus_route_id','user_category'])['user_count'].agg([('승객수', 'sum')]).reset_index()\n",
    "\n",
    "    g = pd.pivot_table(f, values='승객수', index='bus_route_id', columns='user_category',fill_value=0).reset_index()\n",
    "    g.columns = ['bus_route_id', 'adult','kids','teen','elder','jang','jang2','ugong','ugong2']\n",
    "    g = g[['bus_route_id', 'adult','kids','teen','elder']]\n",
    "\n",
    "    # merge\n",
    "    df = pd.merge(data, g, how='left', on='bus_route_id')\n",
    "\n",
    "    # na preprocessing -&gt; mean value\n",
    "    df['adult'] = df['adult'].fillna(2363.077778)\n",
    "    df['kids'] = df['kids'].fillna(60.426984)\n",
    "    df['teen'] = df['teen'].fillna(448.277778)\n",
    "    df['elder'] = df['elder'].fillna(751.309524)\n",
    "                 \n",
    "    return df"
   ]
  },
  {
   "cell_type": "code",
   "execution_count": 39,
   "metadata": {},
   "outputs": [],
   "source": [
    "data['bus_route_id'] = data['bus_route_id'].astype(str)"
   ]
  },
  {
   "cell_type": "code",
   "execution_count": 40,
   "metadata": {},
   "outputs": [
    {
     "data": {
      "text/plain": [
       "(643593, 72)"
      ]
     },
     "execution_count": 40,
     "metadata": {},
     "output_type": "execute_result"
    }
   ],
   "source": [
    "data = category_people()\n",
    "\n",
    "data.shape"
   ]
  },
  {
   "cell_type": "markdown",
   "metadata": {},
   "source": [
    "### 카테고리 별 승객의 비율"
   ]
  },
  {
   "cell_type": "code",
   "execution_count": 41,
   "metadata": {},
   "outputs": [],
   "source": [
    "def category_people_ratio() :\n",
    "    \n",
    "    a = bts.groupby('bus_route_id')['user_count'].agg([('전체', 'sum')]).reset_index()\n",
    "    b = bts.groupby(['bus_route_id','user_category'])['user_count'].agg([('승객수', 'sum')]).reset_index()\n",
    "\n",
    "    c = pd.merge(b, a, on='bus_route_id')\n",
    "    c['비율'] = c['승객수']/c['전체']\n",
    "    c = pd.pivot_table(c, values='비율', index='bus_route_id', columns='user_category',fill_value=0).reset_index()\n",
    "    c.columns = ['bus_route_id', 'adult_prop','kids_prop','teen_prop','elder_prop','jang_prop','jang2_prop','ugong_prop','ugong2_prop']\n",
    "    f = c[['bus_route_id', 'adult_prop','kids_prop','teen_prop','elder_prop']]\n",
    "\n",
    "    df = pd.merge(data, f, how='left', on='bus_route_id')\n",
    "\n",
    "    # na preprocessing -&gt; mean value\n",
    "    df['adult_prop'] = df['adult_prop'].fillna(0.549702)\n",
    "    df['kids_prop'] = df['kids_prop'].fillna(60.426984)\n",
    "    df['teen_prop'] = df['teen_prop'].fillna(0.019902)\n",
    "    df['elder_prop'] = df['elder_prop'].fillna(0.235848)\n",
    "\n",
    "    return df"
   ]
  },
  {
   "cell_type": "code",
   "execution_count": 42,
   "metadata": {},
   "outputs": [
    {
     "data": {
      "text/plain": [
       "(643593, 76)"
      ]
     },
     "execution_count": 42,
     "metadata": {},
     "output_type": "execute_result"
    }
   ],
   "source": [
    "data = category_people_ratio()\n",
    "\n",
    "data.shape"
   ]
  },
  {
   "cell_type": "markdown",
   "metadata": {},
   "source": [
    "### 수요가 많을 것으로 예상되는 정류장"
   ]
  },
  {
   "cell_type": "code",
   "execution_count": 43,
   "metadata": {},
   "outputs": [],
   "source": [
    "g = data[data['station_name'].str.contains('고등학교')]\n",
    "highschool = list(g['station_name'].unique())\n",
    "\n",
    "g = data[data['station_name'].str.contains('대학교')]\n",
    "university = list(g['station_name'].unique())"
   ]
  },
  {
   "cell_type": "code",
   "execution_count": 44,
   "metadata": {},
   "outputs": [],
   "source": [
    "def f(x):\n",
    "    if x in highschool:\n",
    "        return 1\n",
    "    elif x in university:\n",
    "        return 1\n",
    "    else:\n",
    "        return 0"
   ]
  },
  {
   "cell_type": "code",
   "execution_count": 45,
   "metadata": {},
   "outputs": [],
   "source": [
    "data['school'] = data['station_name'].apply(f) "
   ]
  },
  {
   "cell_type": "code",
   "execution_count": 46,
   "metadata": {},
   "outputs": [],
   "source": [
    "g = data[data['station_name'].str.contains('환승')]\n",
    "transfer = list(g['station_name'].unique())\n",
    "\n",
    "g = data[data['station_name'].str.contains('공항')]\n",
    "airport = list(g['station_name'].unique())\n",
    "\n",
    "g = data[data['station_name'].str.contains('터미널')]\n",
    "terminal = list(g['station_name'].unique())"
   ]
  },
  {
   "cell_type": "code",
   "execution_count": 47,
   "metadata": {},
   "outputs": [],
   "source": [
    "def f(x):\n",
    "    if x in transfer:\n",
    "        return 1\n",
    "    elif x in airport:\n",
    "        return 1\n",
    "    elif x in terminal:\n",
    "        return 1\n",
    "    else:\n",
    "        return 0"
   ]
  },
  {
   "cell_type": "code",
   "execution_count": 48,
   "metadata": {},
   "outputs": [
    {
     "data": {
      "text/plain": [
       "(643593, 78)"
      ]
     },
     "execution_count": 48,
     "metadata": {},
     "output_type": "execute_result"
    }
   ],
   "source": [
    "data['transfer'] = data['station_name'].apply(f) \n",
    "\n",
    "data.shape"
   ]
  },
  {
   "cell_type": "markdown",
   "metadata": {},
   "source": [
    "### 측정소와 정류장 사이 거리 계산"
   ]
  },
  {
   "cell_type": "code",
   "execution_count": 49,
   "metadata": {},
   "outputs": [],
   "source": [
    "def dist() :\n",
    "    jeju=(33.51411, 126.52969) # 제주 측정소 근처\n",
    "    gosan=(33.29382, 126.16283) #고산 측정소 근처\n",
    "    seongsan=(33.38677, 126.8802) #성산 측정소 근처\n",
    "    po=(33.24616, 126.5653) #서귀포 측정소 근처\n",
    "\n",
    "    t1 = [geopy.distance.geodesic( (i,j), jeju).km for i,j in list( zip( data['latitude'],data['longitude'] )) ]\n",
    "    t2 = [geopy.distance.geodesic( (i,j), gosan).km for i,j in list( zip( data['latitude'],data['longitude'] )) ]\n",
    "    t3 = [geopy.distance.geodesic( (i,j), seongsan).km for i,j in list( zip( data['latitude'],data['longitude'] )) ]\n",
    "    t4 = [geopy.distance.geodesic( (i,j), po).km for i,j in list( zip( data['latitude'],data['longitude'] )) ]\n",
    "\n",
    "    data['dis_jeju'] = t1\n",
    "    data['dis_gosan']=t2\n",
    "    data['dis_seongsan']=t3\n",
    "    data['dis_po']=t4\n",
    "\n",
    "    total = pd.DataFrame(list(zip(t1,t2,t3,t4)),columns=['jeju','gosan','seongsan','po'])\n",
    "    data['dist_name'] = total.apply(lambda x: x.argmin(), axis=1)\n",
    "    \n",
    "    return data"
   ]
  },
  {
   "cell_type": "code",
   "execution_count": 50,
   "metadata": {},
   "outputs": [
    {
     "data": {
      "text/plain": [
       "(643593, 83)"
      ]
     },
     "execution_count": 50,
     "metadata": {},
     "output_type": "execute_result"
    }
   ],
   "source": [
    "data = dist()\n",
    "\n",
    "data.shape"
   ]
  },
  {
   "cell_type": "code",
   "execution_count": 51,
   "metadata": {},
   "outputs": [
    {
     "data": {
      "text/html": [
       "<div>\n",
       "<style scoped>\n",
       "    .dataframe tbody tr th:only-of-type {\n",
       "        vertical-align: middle;\n",
       "    }\n",
       "\n",
       "    .dataframe tbody tr th {\n",
       "        vertical-align: top;\n",
       "    }\n",
       "\n",
       "    .dataframe thead th {\n",
       "        text-align: right;\n",
       "    }\n",
       "</style>\n",
       "<table border=\"1\" class=\"dataframe\">\n",
       "  <thead>\n",
       "    <tr style=\"text-align: right;\">\n",
       "      <th></th>\n",
       "      <th>1012a</th>\n",
       "      <th>1012b</th>\n",
       "      <th>10~11_ride</th>\n",
       "      <th>10~11_takeoff</th>\n",
       "      <th>11~12_ride</th>\n",
       "      <th>11~12_takeoff</th>\n",
       "      <th>1820_r_mean</th>\n",
       "      <th>1820_r_sum</th>\n",
       "      <th>1820_rs_mean</th>\n",
       "      <th>1820_rs_sum</th>\n",
       "      <th>1820_s_mean</th>\n",
       "      <th>1820_s_sum</th>\n",
       "      <th>1820_w_mean</th>\n",
       "      <th>1820_w_sum</th>\n",
       "      <th>18~20_ride</th>\n",
       "      <th>68a</th>\n",
       "      <th>68b</th>\n",
       "      <th>6~7_ride</th>\n",
       "      <th>6~7_takeoff</th>\n",
       "      <th>7~8_ride</th>\n",
       "      <th>7~8_takeoff</th>\n",
       "      <th>810a</th>\n",
       "      <th>810b</th>\n",
       "      <th>8~9_ride</th>\n",
       "      <th>8~9_takeoff</th>\n",
       "      <th>9~10_ride</th>\n",
       "      <th>9~10_takeoff</th>\n",
       "      <th>bus_route_id</th>\n",
       "      <th>bus_route_id_weekday</th>\n",
       "      <th>congestion</th>\n",
       "      <th>cue</th>\n",
       "      <th>date</th>\n",
       "      <th>id</th>\n",
       "      <th>in_out</th>\n",
       "      <th>latitude</th>\n",
       "      <th>location</th>\n",
       "      <th>longitude</th>\n",
       "      <th>mean_bus_weekday_ride</th>\n",
       "      <th>mean_route_station_weekday_ride</th>\n",
       "      <th>mean_station_weekday_ride</th>\n",
       "      <th>route_station</th>\n",
       "      <th>route_station_weekday</th>\n",
       "      <th>station_code</th>\n",
       "      <th>station_code_weekday</th>\n",
       "      <th>station_name</th>\n",
       "      <th>bus_route_id2</th>\n",
       "      <th>station_code2</th>\n",
       "      <th>route_station_weekday2</th>\n",
       "      <th>route_station2</th>\n",
       "      <th>weekday_0</th>\n",
       "      <th>weekday_1</th>\n",
       "      <th>weekday_2</th>\n",
       "      <th>weekday_3</th>\n",
       "      <th>weekday_4</th>\n",
       "      <th>weekday_5</th>\n",
       "      <th>weekday_6</th>\n",
       "      <th>weekday</th>\n",
       "      <th>ride_sum</th>\n",
       "      <th>takeoff_sum</th>\n",
       "      <th>6~7_all_ride_number</th>\n",
       "      <th>7~8_all_ride_number</th>\n",
       "      <th>8~9_all_ride_number</th>\n",
       "      <th>9~10_all_ride_number</th>\n",
       "      <th>10~11_all_ride_number</th>\n",
       "      <th>weekend</th>\n",
       "      <th>holiday</th>\n",
       "      <th>weekdaymean</th>\n",
       "      <th>in_out_mean</th>\n",
       "      <th>adult</th>\n",
       "      <th>kids</th>\n",
       "      <th>teen</th>\n",
       "      <th>elder</th>\n",
       "      <th>adult_prop</th>\n",
       "      <th>kids_prop</th>\n",
       "      <th>teen_prop</th>\n",
       "      <th>elder_prop</th>\n",
       "      <th>school</th>\n",
       "      <th>transfer</th>\n",
       "      <th>dis_jeju</th>\n",
       "      <th>dis_gosan</th>\n",
       "      <th>dis_seongsan</th>\n",
       "      <th>dis_po</th>\n",
       "      <th>dist_name</th>\n",
       "    </tr>\n",
       "  </thead>\n",
       "  <tbody>\n",
       "    <tr>\n",
       "      <th>0</th>\n",
       "      <td>8.0</td>\n",
       "      <td>0.0</td>\n",
       "      <td>2.0</td>\n",
       "      <td>0.0</td>\n",
       "      <td>6.0</td>\n",
       "      <td>0.0</td>\n",
       "      <td>3.104381</td>\n",
       "      <td>2409.0</td>\n",
       "      <td>1.466667</td>\n",
       "      <td>44.0</td>\n",
       "      <td>1.466667</td>\n",
       "      <td>44.0</td>\n",
       "      <td>1.034282</td>\n",
       "      <td>54306.0</td>\n",
       "      <td>0.0</td>\n",
       "      <td>1.0</td>\n",
       "      <td>0.0</td>\n",
       "      <td>0.0</td>\n",
       "      <td>0.0</td>\n",
       "      <td>1.0</td>\n",
       "      <td>0.0</td>\n",
       "      <td>7.0</td>\n",
       "      <td>0.0</td>\n",
       "      <td>2.0</td>\n",
       "      <td>0.0</td>\n",
       "      <td>5.0</td>\n",
       "      <td>0.0</td>\n",
       "      <td>4270000</td>\n",
       "      <td>4270000,6</td>\n",
       "      <td>5</td>\n",
       "      <td>0</td>\n",
       "      <td>2019-09-01</td>\n",
       "      <td>0</td>\n",
       "      <td>1</td>\n",
       "      <td>33.48990</td>\n",
       "      <td>33.4899,126.49373</td>\n",
       "      <td>126.49373</td>\n",
       "      <td>3.132812</td>\n",
       "      <td>0.2</td>\n",
       "      <td>0.200000</td>\n",
       "      <td>4270000,344</td>\n",
       "      <td>4270000,344,6</td>\n",
       "      <td>344</td>\n",
       "      <td>344,6</td>\n",
       "      <td>제주썬호텔</td>\n",
       "      <td>625</td>\n",
       "      <td>2499</td>\n",
       "      <td>161004</td>\n",
       "      <td>31053</td>\n",
       "      <td>0</td>\n",
       "      <td>0</td>\n",
       "      <td>0</td>\n",
       "      <td>0</td>\n",
       "      <td>0</td>\n",
       "      <td>0</td>\n",
       "      <td>1</td>\n",
       "      <td>6</td>\n",
       "      <td>16.0</td>\n",
       "      <td>0.0</td>\n",
       "      <td>2942.0</td>\n",
       "      <td>4518.0</td>\n",
       "      <td>5682.0</td>\n",
       "      <td>6275.0</td>\n",
       "      <td>6774.0</td>\n",
       "      <td>1</td>\n",
       "      <td>0</td>\n",
       "      <td>1.034282</td>\n",
       "      <td>1.0</td>\n",
       "      <td>8158.0</td>\n",
       "      <td>72.0</td>\n",
       "      <td>38.0</td>\n",
       "      <td>0.0</td>\n",
       "      <td>0.986696</td>\n",
       "      <td>0.008708</td>\n",
       "      <td>0.004596</td>\n",
       "      <td>0.0</td>\n",
       "      <td>0</td>\n",
       "      <td>0</td>\n",
       "      <td>4.286659</td>\n",
       "      <td>37.692766</td>\n",
       "      <td>37.713630</td>\n",
       "      <td>27.841879</td>\n",
       "      <td>jeju</td>\n",
       "    </tr>\n",
       "    <tr>\n",
       "      <th>1</th>\n",
       "      <td>11.0</td>\n",
       "      <td>0.0</td>\n",
       "      <td>5.0</td>\n",
       "      <td>0.0</td>\n",
       "      <td>6.0</td>\n",
       "      <td>0.0</td>\n",
       "      <td>3.104381</td>\n",
       "      <td>2409.0</td>\n",
       "      <td>5.366667</td>\n",
       "      <td>161.0</td>\n",
       "      <td>4.178218</td>\n",
       "      <td>6330.0</td>\n",
       "      <td>1.034282</td>\n",
       "      <td>54306.0</td>\n",
       "      <td>5.0</td>\n",
       "      <td>5.0</td>\n",
       "      <td>0.0</td>\n",
       "      <td>1.0</td>\n",
       "      <td>0.0</td>\n",
       "      <td>4.0</td>\n",
       "      <td>0.0</td>\n",
       "      <td>6.0</td>\n",
       "      <td>0.0</td>\n",
       "      <td>4.0</td>\n",
       "      <td>0.0</td>\n",
       "      <td>2.0</td>\n",
       "      <td>0.0</td>\n",
       "      <td>4270000</td>\n",
       "      <td>4270000,6</td>\n",
       "      <td>5</td>\n",
       "      <td>0</td>\n",
       "      <td>2019-09-01</td>\n",
       "      <td>1</td>\n",
       "      <td>1</td>\n",
       "      <td>33.48944</td>\n",
       "      <td>33.48944,126.48508</td>\n",
       "      <td>126.48508</td>\n",
       "      <td>3.132812</td>\n",
       "      <td>2.2</td>\n",
       "      <td>3.154867</td>\n",
       "      <td>4270000,357</td>\n",
       "      <td>4270000,357,6</td>\n",
       "      <td>357</td>\n",
       "      <td>357,6</td>\n",
       "      <td>한라병원</td>\n",
       "      <td>625</td>\n",
       "      <td>2618</td>\n",
       "      <td>161011</td>\n",
       "      <td>31054</td>\n",
       "      <td>0</td>\n",
       "      <td>0</td>\n",
       "      <td>0</td>\n",
       "      <td>0</td>\n",
       "      <td>0</td>\n",
       "      <td>0</td>\n",
       "      <td>1</td>\n",
       "      <td>6</td>\n",
       "      <td>22.0</td>\n",
       "      <td>0.0</td>\n",
       "      <td>2942.0</td>\n",
       "      <td>4518.0</td>\n",
       "      <td>5682.0</td>\n",
       "      <td>6275.0</td>\n",
       "      <td>6774.0</td>\n",
       "      <td>1</td>\n",
       "      <td>0</td>\n",
       "      <td>1.034282</td>\n",
       "      <td>1.0</td>\n",
       "      <td>8158.0</td>\n",
       "      <td>72.0</td>\n",
       "      <td>38.0</td>\n",
       "      <td>0.0</td>\n",
       "      <td>0.986696</td>\n",
       "      <td>0.008708</td>\n",
       "      <td>0.004596</td>\n",
       "      <td>0.0</td>\n",
       "      <td>0</td>\n",
       "      <td>0</td>\n",
       "      <td>4.966848</td>\n",
       "      <td>37.008492</td>\n",
       "      <td>38.465822</td>\n",
       "      <td>27.996179</td>\n",
       "      <td>jeju</td>\n",
       "    </tr>\n",
       "    <tr>\n",
       "      <th>2</th>\n",
       "      <td>0.0</td>\n",
       "      <td>0.0</td>\n",
       "      <td>0.0</td>\n",
       "      <td>0.0</td>\n",
       "      <td>0.0</td>\n",
       "      <td>0.0</td>\n",
       "      <td>3.104381</td>\n",
       "      <td>2409.0</td>\n",
       "      <td>1.600000</td>\n",
       "      <td>48.0</td>\n",
       "      <td>2.169559</td>\n",
       "      <td>1625.0</td>\n",
       "      <td>1.034282</td>\n",
       "      <td>54306.0</td>\n",
       "      <td>2.0</td>\n",
       "      <td>2.0</td>\n",
       "      <td>0.0</td>\n",
       "      <td>1.0</td>\n",
       "      <td>0.0</td>\n",
       "      <td>1.0</td>\n",
       "      <td>0.0</td>\n",
       "      <td>2.0</td>\n",
       "      <td>0.0</td>\n",
       "      <td>0.0</td>\n",
       "      <td>0.0</td>\n",
       "      <td>2.0</td>\n",
       "      <td>0.0</td>\n",
       "      <td>4270000</td>\n",
       "      <td>4270000,6</td>\n",
       "      <td>5</td>\n",
       "      <td>0</td>\n",
       "      <td>2019-09-01</td>\n",
       "      <td>2</td>\n",
       "      <td>1</td>\n",
       "      <td>33.48181</td>\n",
       "      <td>33.48181,126.47352</td>\n",
       "      <td>126.47352</td>\n",
       "      <td>3.132812</td>\n",
       "      <td>0.8</td>\n",
       "      <td>1.163462</td>\n",
       "      <td>4270000,432</td>\n",
       "      <td>4270000,432,6</td>\n",
       "      <td>432</td>\n",
       "      <td>432,6</td>\n",
       "      <td>정존마을</td>\n",
       "      <td>625</td>\n",
       "      <td>2976</td>\n",
       "      <td>161026</td>\n",
       "      <td>31057</td>\n",
       "      <td>0</td>\n",
       "      <td>0</td>\n",
       "      <td>0</td>\n",
       "      <td>0</td>\n",
       "      <td>0</td>\n",
       "      <td>0</td>\n",
       "      <td>1</td>\n",
       "      <td>6</td>\n",
       "      <td>4.0</td>\n",
       "      <td>0.0</td>\n",
       "      <td>2942.0</td>\n",
       "      <td>4518.0</td>\n",
       "      <td>5682.0</td>\n",
       "      <td>6275.0</td>\n",
       "      <td>6774.0</td>\n",
       "      <td>1</td>\n",
       "      <td>0</td>\n",
       "      <td>1.034282</td>\n",
       "      <td>1.0</td>\n",
       "      <td>8158.0</td>\n",
       "      <td>72.0</td>\n",
       "      <td>38.0</td>\n",
       "      <td>0.0</td>\n",
       "      <td>0.986696</td>\n",
       "      <td>0.008708</td>\n",
       "      <td>0.004596</td>\n",
       "      <td>0.0</td>\n",
       "      <td>0</td>\n",
       "      <td>0</td>\n",
       "      <td>6.330746</td>\n",
       "      <td>35.642126</td>\n",
       "      <td>39.259820</td>\n",
       "      <td>27.496551</td>\n",
       "      <td>jeju</td>\n",
       "    </tr>\n",
       "    <tr>\n",
       "      <th>3</th>\n",
       "      <td>30.0</td>\n",
       "      <td>0.0</td>\n",
       "      <td>14.0</td>\n",
       "      <td>0.0</td>\n",
       "      <td>16.0</td>\n",
       "      <td>0.0</td>\n",
       "      <td>3.104381</td>\n",
       "      <td>2409.0</td>\n",
       "      <td>53.766667</td>\n",
       "      <td>1613.0</td>\n",
       "      <td>52.032258</td>\n",
       "      <td>1613.0</td>\n",
       "      <td>1.034282</td>\n",
       "      <td>54306.0</td>\n",
       "      <td>53.0</td>\n",
       "      <td>17.0</td>\n",
       "      <td>0.0</td>\n",
       "      <td>0.0</td>\n",
       "      <td>0.0</td>\n",
       "      <td>17.0</td>\n",
       "      <td>0.0</td>\n",
       "      <td>32.0</td>\n",
       "      <td>0.0</td>\n",
       "      <td>6.0</td>\n",
       "      <td>0.0</td>\n",
       "      <td>26.0</td>\n",
       "      <td>0.0</td>\n",
       "      <td>4270000</td>\n",
       "      <td>4270000,6</td>\n",
       "      <td>5</td>\n",
       "      <td>0</td>\n",
       "      <td>2019-09-01</td>\n",
       "      <td>3</td>\n",
       "      <td>0</td>\n",
       "      <td>33.50577</td>\n",
       "      <td>33.50577,126.49252</td>\n",
       "      <td>126.49252</td>\n",
       "      <td>3.132812</td>\n",
       "      <td>56.0</td>\n",
       "      <td>56.000000</td>\n",
       "      <td>4270000,1579</td>\n",
       "      <td>4270000,1579,6</td>\n",
       "      <td>1579</td>\n",
       "      <td>1579,6</td>\n",
       "      <td>제주국제공항(600번)</td>\n",
       "      <td>625</td>\n",
       "      <td>587</td>\n",
       "      <td>160799</td>\n",
       "      <td>31020</td>\n",
       "      <td>0</td>\n",
       "      <td>0</td>\n",
       "      <td>0</td>\n",
       "      <td>0</td>\n",
       "      <td>0</td>\n",
       "      <td>0</td>\n",
       "      <td>1</td>\n",
       "      <td>6</td>\n",
       "      <td>79.0</td>\n",
       "      <td>0.0</td>\n",
       "      <td>2942.0</td>\n",
       "      <td>4518.0</td>\n",
       "      <td>5682.0</td>\n",
       "      <td>6275.0</td>\n",
       "      <td>6774.0</td>\n",
       "      <td>1</td>\n",
       "      <td>0</td>\n",
       "      <td>1.034282</td>\n",
       "      <td>1.0</td>\n",
       "      <td>8158.0</td>\n",
       "      <td>72.0</td>\n",
       "      <td>38.0</td>\n",
       "      <td>0.0</td>\n",
       "      <td>0.986696</td>\n",
       "      <td>0.008708</td>\n",
       "      <td>0.004596</td>\n",
       "      <td>0.0</td>\n",
       "      <td>0</td>\n",
       "      <td>1</td>\n",
       "      <td>3.575272</td>\n",
       "      <td>38.643401</td>\n",
       "      <td>38.386802</td>\n",
       "      <td>29.579404</td>\n",
       "      <td>jeju</td>\n",
       "    </tr>\n",
       "    <tr>\n",
       "      <th>4</th>\n",
       "      <td>0.0</td>\n",
       "      <td>0.0</td>\n",
       "      <td>0.0</td>\n",
       "      <td>0.0</td>\n",
       "      <td>0.0</td>\n",
       "      <td>0.0</td>\n",
       "      <td>3.104381</td>\n",
       "      <td>2409.0</td>\n",
       "      <td>0.153846</td>\n",
       "      <td>4.0</td>\n",
       "      <td>0.732794</td>\n",
       "      <td>181.0</td>\n",
       "      <td>1.034282</td>\n",
       "      <td>54306.0</td>\n",
       "      <td>0.0</td>\n",
       "      <td>0.0</td>\n",
       "      <td>0.0</td>\n",
       "      <td>0.0</td>\n",
       "      <td>0.0</td>\n",
       "      <td>0.0</td>\n",
       "      <td>0.0</td>\n",
       "      <td>0.0</td>\n",
       "      <td>1.0</td>\n",
       "      <td>0.0</td>\n",
       "      <td>0.0</td>\n",
       "      <td>0.0</td>\n",
       "      <td>1.0</td>\n",
       "      <td>4270000</td>\n",
       "      <td>4270000,6</td>\n",
       "      <td>5</td>\n",
       "      <td>0</td>\n",
       "      <td>2019-09-01</td>\n",
       "      <td>4</td>\n",
       "      <td>0</td>\n",
       "      <td>33.25579</td>\n",
       "      <td>33.255790000000005,126.4126</td>\n",
       "      <td>126.41260</td>\n",
       "      <td>3.132812</td>\n",
       "      <td>0.4</td>\n",
       "      <td>1.108108</td>\n",
       "      <td>4270000,1646</td>\n",
       "      <td>4270000,1646,6</td>\n",
       "      <td>1646</td>\n",
       "      <td>1646,6</td>\n",
       "      <td>중문관광단지입구</td>\n",
       "      <td>625</td>\n",
       "      <td>652</td>\n",
       "      <td>160813</td>\n",
       "      <td>31022</td>\n",
       "      <td>0</td>\n",
       "      <td>0</td>\n",
       "      <td>0</td>\n",
       "      <td>0</td>\n",
       "      <td>0</td>\n",
       "      <td>0</td>\n",
       "      <td>1</td>\n",
       "      <td>6</td>\n",
       "      <td>0.0</td>\n",
       "      <td>1.0</td>\n",
       "      <td>2942.0</td>\n",
       "      <td>4518.0</td>\n",
       "      <td>5682.0</td>\n",
       "      <td>6275.0</td>\n",
       "      <td>6774.0</td>\n",
       "      <td>1</td>\n",
       "      <td>0</td>\n",
       "      <td>1.034282</td>\n",
       "      <td>1.0</td>\n",
       "      <td>8158.0</td>\n",
       "      <td>72.0</td>\n",
       "      <td>38.0</td>\n",
       "      <td>0.0</td>\n",
       "      <td>0.986696</td>\n",
       "      <td>0.008708</td>\n",
       "      <td>0.004596</td>\n",
       "      <td>0.0</td>\n",
       "      <td>0</td>\n",
       "      <td>0</td>\n",
       "      <td>30.652098</td>\n",
       "      <td>23.648361</td>\n",
       "      <td>45.899140</td>\n",
       "      <td>14.269792</td>\n",
       "      <td>po</td>\n",
       "    </tr>\n",
       "  </tbody>\n",
       "</table>\n",
       "</div>"
      ],
      "text/plain": [
       "   1012a  1012b  10~11_ride  10~11_takeoff  11~12_ride  11~12_takeoff  \\\n",
       "0    8.0    0.0         2.0            0.0         6.0            0.0   \n",
       "1   11.0    0.0         5.0            0.0         6.0            0.0   \n",
       "2    0.0    0.0         0.0            0.0         0.0            0.0   \n",
       "3   30.0    0.0        14.0            0.0        16.0            0.0   \n",
       "4    0.0    0.0         0.0            0.0         0.0            0.0   \n",
       "\n",
       "   1820_r_mean  1820_r_sum  1820_rs_mean  1820_rs_sum  1820_s_mean  \\\n",
       "0     3.104381      2409.0      1.466667         44.0     1.466667   \n",
       "1     3.104381      2409.0      5.366667        161.0     4.178218   \n",
       "2     3.104381      2409.0      1.600000         48.0     2.169559   \n",
       "3     3.104381      2409.0     53.766667       1613.0    52.032258   \n",
       "4     3.104381      2409.0      0.153846          4.0     0.732794   \n",
       "\n",
       "   1820_s_sum  1820_w_mean  1820_w_sum  18~20_ride   68a  68b  6~7_ride  \\\n",
       "0        44.0     1.034282     54306.0         0.0   1.0  0.0       0.0   \n",
       "1      6330.0     1.034282     54306.0         5.0   5.0  0.0       1.0   \n",
       "2      1625.0     1.034282     54306.0         2.0   2.0  0.0       1.0   \n",
       "3      1613.0     1.034282     54306.0        53.0  17.0  0.0       0.0   \n",
       "4       181.0     1.034282     54306.0         0.0   0.0  0.0       0.0   \n",
       "\n",
       "   6~7_takeoff  7~8_ride  7~8_takeoff  810a  810b  8~9_ride  8~9_takeoff  \\\n",
       "0          0.0       1.0          0.0   7.0   0.0       2.0          0.0   \n",
       "1          0.0       4.0          0.0   6.0   0.0       4.0          0.0   \n",
       "2          0.0       1.0          0.0   2.0   0.0       0.0          0.0   \n",
       "3          0.0      17.0          0.0  32.0   0.0       6.0          0.0   \n",
       "4          0.0       0.0          0.0   0.0   1.0       0.0          0.0   \n",
       "\n",
       "   9~10_ride  9~10_takeoff bus_route_id bus_route_id_weekday  congestion  cue  \\\n",
       "0        5.0           0.0      4270000            4270000,6           5    0   \n",
       "1        2.0           0.0      4270000            4270000,6           5    0   \n",
       "2        2.0           0.0      4270000            4270000,6           5    0   \n",
       "3       26.0           0.0      4270000            4270000,6           5    0   \n",
       "4        0.0           1.0      4270000            4270000,6           5    0   \n",
       "\n",
       "        date  id  in_out  latitude                     location  longitude  \\\n",
       "0 2019-09-01   0       1  33.48990            33.4899,126.49373  126.49373   \n",
       "1 2019-09-01   1       1  33.48944           33.48944,126.48508  126.48508   \n",
       "2 2019-09-01   2       1  33.48181           33.48181,126.47352  126.47352   \n",
       "3 2019-09-01   3       0  33.50577           33.50577,126.49252  126.49252   \n",
       "4 2019-09-01   4       0  33.25579  33.255790000000005,126.4126  126.41260   \n",
       "\n",
       "   mean_bus_weekday_ride  mean_route_station_weekday_ride  \\\n",
       "0               3.132812                              0.2   \n",
       "1               3.132812                              2.2   \n",
       "2               3.132812                              0.8   \n",
       "3               3.132812                             56.0   \n",
       "4               3.132812                              0.4   \n",
       "\n",
       "   mean_station_weekday_ride route_station route_station_weekday station_code  \\\n",
       "0                   0.200000   4270000,344         4270000,344,6          344   \n",
       "1                   3.154867   4270000,357         4270000,357,6          357   \n",
       "2                   1.163462   4270000,432         4270000,432,6          432   \n",
       "3                  56.000000  4270000,1579        4270000,1579,6         1579   \n",
       "4                   1.108108  4270000,1646        4270000,1646,6         1646   \n",
       "\n",
       "  station_code_weekday  station_name  bus_route_id2  station_code2  \\\n",
       "0                344,6         제주썬호텔            625           2499   \n",
       "1                357,6          한라병원            625           2618   \n",
       "2                432,6          정존마을            625           2976   \n",
       "3               1579,6  제주국제공항(600번)            625            587   \n",
       "4               1646,6      중문관광단지입구            625            652   \n",
       "\n",
       "   route_station_weekday2  route_station2  weekday_0  weekday_1  weekday_2  \\\n",
       "0                  161004           31053          0          0          0   \n",
       "1                  161011           31054          0          0          0   \n",
       "2                  161026           31057          0          0          0   \n",
       "3                  160799           31020          0          0          0   \n",
       "4                  160813           31022          0          0          0   \n",
       "\n",
       "   weekday_3  weekday_4  weekday_5  weekday_6  weekday  ride_sum  takeoff_sum  \\\n",
       "0          0          0          0          1        6      16.0          0.0   \n",
       "1          0          0          0          1        6      22.0          0.0   \n",
       "2          0          0          0          1        6       4.0          0.0   \n",
       "3          0          0          0          1        6      79.0          0.0   \n",
       "4          0          0          0          1        6       0.0          1.0   \n",
       "\n",
       "   6~7_all_ride_number  7~8_all_ride_number  8~9_all_ride_number  \\\n",
       "0               2942.0               4518.0               5682.0   \n",
       "1               2942.0               4518.0               5682.0   \n",
       "2               2942.0               4518.0               5682.0   \n",
       "3               2942.0               4518.0               5682.0   \n",
       "4               2942.0               4518.0               5682.0   \n",
       "\n",
       "   9~10_all_ride_number  10~11_all_ride_number  weekend  holiday  weekdaymean  \\\n",
       "0                6275.0                 6774.0        1        0     1.034282   \n",
       "1                6275.0                 6774.0        1        0     1.034282   \n",
       "2                6275.0                 6774.0        1        0     1.034282   \n",
       "3                6275.0                 6774.0        1        0     1.034282   \n",
       "4                6275.0                 6774.0        1        0     1.034282   \n",
       "\n",
       "   in_out_mean   adult  kids  teen  elder  adult_prop  kids_prop  teen_prop  \\\n",
       "0          1.0  8158.0  72.0  38.0    0.0    0.986696   0.008708   0.004596   \n",
       "1          1.0  8158.0  72.0  38.0    0.0    0.986696   0.008708   0.004596   \n",
       "2          1.0  8158.0  72.0  38.0    0.0    0.986696   0.008708   0.004596   \n",
       "3          1.0  8158.0  72.0  38.0    0.0    0.986696   0.008708   0.004596   \n",
       "4          1.0  8158.0  72.0  38.0    0.0    0.986696   0.008708   0.004596   \n",
       "\n",
       "   elder_prop  school  transfer   dis_jeju  dis_gosan  dis_seongsan  \\\n",
       "0         0.0       0         0   4.286659  37.692766     37.713630   \n",
       "1         0.0       0         0   4.966848  37.008492     38.465822   \n",
       "2         0.0       0         0   6.330746  35.642126     39.259820   \n",
       "3         0.0       0         1   3.575272  38.643401     38.386802   \n",
       "4         0.0       0         0  30.652098  23.648361     45.899140   \n",
       "\n",
       "      dis_po dist_name  \n",
       "0  27.841879      jeju  \n",
       "1  27.996179      jeju  \n",
       "2  27.496551      jeju  \n",
       "3  29.579404      jeju  \n",
       "4  14.269792        po  "
      ]
     },
     "execution_count": 51,
     "metadata": {},
     "output_type": "execute_result"
    }
   ],
   "source": [
    "# dist_name 변수 생성된것 확인\n",
    "data.head()"
   ]
  },
  {
   "cell_type": "markdown",
   "metadata": {},
   "source": [
    "### 날씨 관련 변수"
   ]
  },
  {
   "cell_type": "markdown",
   "metadata": {},
   "source": [
    "중급자코드를 참고하면 rain3.csv를 만들 수 있다."
   ]
  },
  {
   "cell_type": "code",
   "execution_count": 52,
   "metadata": {},
   "outputs": [
    {
     "data": {
      "text/plain": [
       "'\\nraining = pd.read_csv(\"./data/bus/weather.csv\")\\n\\n#외부데이터에서 나오는 지점명들을 변경\\nraining[\\'지점\\'] = [ str(i) for i in raining[\\'지점\\'] ]\\n\\nraining[\\'지점\\'] = [\\'jeju\\' if i==\\'184\\' else i for i in raining[\\'지점\\'] ]  # 위도 : 33.51411 경도 : 126.52969\\nraining[\\'지점\\'] = [\\'gosan\\' if i==\\'185\\' else i for i in raining[\\'지점\\'] ]  # 위도 : 33.29382 경도 : 126.16283\\nraining[\\'지점\\'] = [\\'seongsan\\' if i==\\'188\\' else i for i in raining[\\'지점\\'] ]  # 위도 : 33.38677 경도 : 126.8802\\nraining[\\'지점\\'] = [\\'po\\' if i==\\'189\\' else i for i in raining[\\'지점\\'] ]  # 위도 : 33.24616 경도 : 126.5653\\n\\nraining.head()\\n\\n# data merge를 위하여, 일시와 시간대를 분리\\nraining[\\'time\\'] = [ int( i.split(\\' \\')[1].split(\\':\\')[0] ) for i in raining[\\'일시\\']] \\n\\nraining[\\'일시\\'] = [ i.split(\\' \\')[0] for i in raining[\\'일시\\'] ] \\n\\n# 실제 측정 데이터이기 때문에, 12시 이전의 시간대만 사용\\nrain2 = raining[ (raining[\\'time\\']>12)  ]\\n\\n# 해당 시간대의 평균 기온 및 강수량을 변수로 사용할 예정이기 때문에, groupby를 실행\\nrain3 = rain2.groupby([\\'지점\\',\\'일시\\'])[[\\'기온(°C)\\',\\'강수량(mm)\\']].mean()\\n\\nrain3.to_csv(\"./data/bus/rain3.csv\")\\n\\nrain3=pd.read_csv(\"./data/bus/rain3.csv\")\\n\\n# train, test의 변수명과 통일시키고, NaN의 값은 0.0000으로 변경\\nrain3 = rain3.rename(columns={\"일시\":\"date\",\"지점\":\"dist_name\"})\\nrain3 = rain3.fillna(0.00000)\\nrain3[\\'date\\'] = pd.to_datetime(rain3[\\'date\\'])\\n\\nrain3.shape\\n'"
      ]
     },
     "execution_count": 52,
     "metadata": {},
     "output_type": "execute_result"
    }
   ],
   "source": [
    "# 이미 이 과정을 통해 rain3.csv를 생성했으니 이 과정은 다시 반복 안해도 됨.\n",
    "\"\"\"\n",
    "raining = pd.read_csv(\"./data/bus/weather.csv\")\n",
    "\n",
    "#외부데이터에서 나오는 지점명들을 변경\n",
    "raining['지점'] = [ str(i) for i in raining['지점'] ]\n",
    "\n",
    "raining['지점'] = ['jeju' if i=='184' else i for i in raining['지점'] ]  # 위도 : 33.51411 경도 : 126.52969\n",
    "raining['지점'] = ['gosan' if i=='185' else i for i in raining['지점'] ]  # 위도 : 33.29382 경도 : 126.16283\n",
    "raining['지점'] = ['seongsan' if i=='188' else i for i in raining['지점'] ]  # 위도 : 33.38677 경도 : 126.8802\n",
    "raining['지점'] = ['po' if i=='189' else i for i in raining['지점'] ]  # 위도 : 33.24616 경도 : 126.5653\n",
    "\n",
    "raining.head()\n",
    "\n",
    "# data merge를 위하여, 일시와 시간대를 분리\n",
    "raining['time'] = [ int( i.split(' ')[1].split(':')[0] ) for i in raining['일시']] \n",
    "\n",
    "raining['일시'] = [ i.split(' ')[0] for i in raining['일시'] ] \n",
    "\n",
    "# 실제 측정 데이터이기 때문에, 12시 이전의 시간대만 사용\n",
    "rain2 = raining[ (raining['time']>12)  ]\n",
    "\n",
    "# 해당 시간대의 평균 기온 및 강수량을 변수로 사용할 예정이기 때문에, groupby를 실행\n",
    "rain3 = rain2.groupby(['지점','일시'])[['기온(°C)','강수량(mm)']].mean()\n",
    "\n",
    "rain3.to_csv(\"./data/bus/rain3.csv\")\n",
    "\n",
    "rain3=pd.read_csv(\"./data/bus/rain3.csv\")\n",
    "\n",
    "# train, test의 변수명과 통일시키고, NaN의 값은 0.0000으로 변경\n",
    "rain3 = rain3.rename(columns={\"일시\":\"date\",\"지점\":\"dist_name\"})\n",
    "rain3 = rain3.fillna(0.00000)\n",
    "rain3['date'] = pd.to_datetime(rain3['date'])\n",
    "\n",
    "rain3.shape\n",
    "\"\"\""
   ]
  },
  {
   "cell_type": "code",
   "execution_count": 53,
   "metadata": {},
   "outputs": [
    {
     "data": {
      "text/plain": [
       "(1, 4)"
      ]
     },
     "execution_count": 53,
     "metadata": {},
     "output_type": "execute_result"
    }
   ],
   "source": [
    "rain3=pd.read_csv(\"./data/bus/rain3.csv\")\n",
    "\n",
    "# train, test의 변수명과 통일시키고, NaN의 값은 0.0000으로 변경\n",
    "rain3 = rain3.rename(columns={\"일시\":\"date\",\"지점\":\"dist_name\"})\n",
    "rain3 = rain3.fillna(0.00000)\n",
    "rain3['date'] = pd.to_datetime(rain3['date'])\n",
    "\n",
    "rain3.shape"
   ]
  },
  {
   "cell_type": "code",
   "execution_count": 54,
   "metadata": {},
   "outputs": [
    {
     "data": {
      "text/plain": [
       "(643593, 88)"
      ]
     },
     "execution_count": 54,
     "metadata": {},
     "output_type": "execute_result"
    }
   ],
   "source": [
    "# 최종적으로 완성이 된 외부데이터와 현재 만들어진 train, test data에 각각 merge\n",
    "data = pd.merge(data, rain3, how='left',on=['dist_name','date'])\n",
    "\n",
    "# 외부데이터와 결합 이후에, 기존에 만들어 놓은, dist name 변수에 one hot encoding을 실행한다.\n",
    "data = pd.get_dummies(data,columns=['dist_name'])\n",
    "#data = pd.get_dummies(data,columns=['si'])\n",
    "\n",
    "data.shape"
   ]
  },
  {
   "cell_type": "markdown",
   "metadata": {},
   "source": [
    "### rainy_day"
   ]
  },
  {
   "cell_type": "markdown",
   "metadata": {},
   "source": [
    "비 오는날=1, 비 안오는 날=0"
   ]
  },
  {
   "cell_type": "code",
   "execution_count": 55,
   "metadata": {},
   "outputs": [],
   "source": [
    "def f(x):\n",
    "    if x == 0:\n",
    "        return 0\n",
    "    else:\n",
    "        return 1"
   ]
  },
  {
   "cell_type": "code",
   "execution_count": 56,
   "metadata": {},
   "outputs": [
    {
     "data": {
      "text/plain": [
       "(643593, 89)"
      ]
     },
     "execution_count": 56,
     "metadata": {},
     "output_type": "execute_result"
    }
   ],
   "source": [
    "data['rainy_day'] = data['강수량(mm)'].apply(f)\n",
    "\n",
    "data.shape"
   ]
  },
  {
   "cell_type": "markdown",
   "metadata": {},
   "source": [
    "### 승 하차 시간대 통합 변수 (t ~ t+3)"
   ]
  },
  {
   "cell_type": "markdown",
   "metadata": {},
   "source": [
    "t~t+1, t+1~t+2, t+2~t+3 시간대 승하차인원을 합하여 t~t+3 시간대 승하차인원 변수를 만듬"
   ]
  },
  {
   "cell_type": "code",
   "execution_count": 57,
   "metadata": {},
   "outputs": [
    {
     "data": {
      "text/plain": [
       "(643593, 93)"
      ]
     },
     "execution_count": 57,
     "metadata": {},
     "output_type": "execute_result"
    }
   ],
   "source": [
    "data['69a'] = data['6~7_ride']+data['7~8_ride']+data['8~9_ride']\n",
    "data['912a']=data['9~10_ride']+data['10~11_ride']+data['11~12_ride']\n",
    "\n",
    "data['69b'] = data['6~7_takeoff']+data['7~8_takeoff']+data['8~9_takeoff']\n",
    "data['912b'] = data['9~10_takeoff']+data['10~11_takeoff']+data['11~12_takeoff']\n",
    "\n",
    "data.shape"
   ]
  },
  {
   "cell_type": "markdown",
   "metadata": {},
   "source": [
    "## train, test 데이터 분리"
   ]
  },
  {
   "cell_type": "markdown",
   "metadata": {},
   "source": [
    "train, test 데이터를 만들어준다."
   ]
  },
  {
   "cell_type": "code",
   "execution_count": 58,
   "metadata": {},
   "outputs": [
    {
     "data": {
      "text/plain": [
       "'\\n훈련용\\nx_train: data 값\\ny_train: target 값(Survived)\\n검증용\\nx_valid: data 값\\ny_valid: target 값(Survived)\\n'"
      ]
     },
     "execution_count": 58,
     "metadata": {},
     "output_type": "execute_result"
    }
   ],
   "source": [
    "\"\"\"\n",
    "from sklearn.model_selection import train_test_split\n",
    "\n",
    "# 타겟 변수만 제외한 변수 모음\n",
    "info = data.drop('18~20_ride', axis=1).values\n",
    "\n",
    "# target variable을 분리한 후 데이터를 저장한다\n",
    "target = data[['18~20_ride']].values\n",
    "\n",
    "x_train, x_valid, y_train, y_valid = train_test_split(info, target, test_size=0.4, stratify=target, random_state=0)\n",
    "\n",
    "\"\"\"\n",
    "\"\"\"\n",
    "훈련용\n",
    "x_train: data 값\n",
    "y_train: target 값(Survived)\n",
    "검증용\n",
    "x_valid: data 값\n",
    "y_valid: target 값(Survived)\n",
    "\"\"\""
   ]
  },
  {
   "cell_type": "code",
   "execution_count": 59,
   "metadata": {},
   "outputs": [
    {
     "name": "stdout",
     "output_type": "stream",
     "text": [
      "<class 'pandas.core.frame.DataFrame'>\n",
      "Int64Index: 643593 entries, 0 to 643592\n",
      "Data columns (total 93 columns):\n",
      "1012a                              643593 non-null float64\n",
      "1012b                              643593 non-null float64\n",
      "10~11_ride                         643593 non-null float64\n",
      "10~11_takeoff                      643593 non-null float64\n",
      "11~12_ride                         643593 non-null float64\n",
      "11~12_takeoff                      643593 non-null float64\n",
      "1820_r_mean                        643593 non-null float64\n",
      "1820_r_sum                         643593 non-null float64\n",
      "1820_rs_mean                       643593 non-null float64\n",
      "1820_rs_sum                        643593 non-null float64\n",
      "1820_s_mean                        643593 non-null float64\n",
      "1820_s_sum                         643593 non-null float64\n",
      "1820_w_mean                        643593 non-null float64\n",
      "1820_w_sum                         643593 non-null float64\n",
      "18~20_ride                         415423 non-null float64\n",
      "68a                                643593 non-null float64\n",
      "68b                                643593 non-null float64\n",
      "6~7_ride                           643593 non-null float64\n",
      "6~7_takeoff                        643593 non-null float64\n",
      "7~8_ride                           643593 non-null float64\n",
      "7~8_takeoff                        643593 non-null float64\n",
      "810a                               643593 non-null float64\n",
      "810b                               643593 non-null float64\n",
      "8~9_ride                           643593 non-null float64\n",
      "8~9_takeoff                        643593 non-null float64\n",
      "9~10_ride                          643593 non-null float64\n",
      "9~10_takeoff                       643593 non-null float64\n",
      "bus_route_id                       643593 non-null object\n",
      "bus_route_id_weekday               643593 non-null object\n",
      "congestion                         643593 non-null int64\n",
      "cue                                643593 non-null int64\n",
      "date                               643593 non-null datetime64[ns]\n",
      "id                                 643593 non-null int64\n",
      "in_out                             643593 non-null int64\n",
      "latitude                           643593 non-null float64\n",
      "location                           643593 non-null object\n",
      "longitude                          643593 non-null float64\n",
      "mean_bus_weekday_ride              643593 non-null float64\n",
      "mean_route_station_weekday_ride    643593 non-null float64\n",
      "mean_station_weekday_ride          643593 non-null float64\n",
      "route_station                      643593 non-null object\n",
      "route_station_weekday              643593 non-null object\n",
      "station_code                       643593 non-null object\n",
      "station_code_weekday               643593 non-null object\n",
      "station_name                       643593 non-null object\n",
      "bus_route_id2                      643593 non-null int64\n",
      "station_code2                      643593 non-null int64\n",
      "route_station_weekday2             643593 non-null int64\n",
      "route_station2                     643593 non-null int64\n",
      "weekday_0                          643593 non-null uint8\n",
      "weekday_1                          643593 non-null uint8\n",
      "weekday_2                          643593 non-null uint8\n",
      "weekday_3                          643593 non-null uint8\n",
      "weekday_4                          643593 non-null uint8\n",
      "weekday_5                          643593 non-null uint8\n",
      "weekday_6                          643593 non-null uint8\n",
      "weekday                            643593 non-null int64\n",
      "ride_sum                           643593 non-null float64\n",
      "takeoff_sum                        643593 non-null float64\n",
      "6~7_all_ride_number                643593 non-null float64\n",
      "7~8_all_ride_number                643593 non-null float64\n",
      "8~9_all_ride_number                643593 non-null float64\n",
      "9~10_all_ride_number               643593 non-null float64\n",
      "10~11_all_ride_number              643593 non-null float64\n",
      "weekend                            643593 non-null int64\n",
      "holiday                            643593 non-null int64\n",
      "weekdaymean                        643593 non-null float64\n",
      "in_out_mean                        643593 non-null float64\n",
      "adult                              643593 non-null float64\n",
      "kids                               643593 non-null float64\n",
      "teen                               643593 non-null float64\n",
      "elder                              643593 non-null float64\n",
      "adult_prop                         643593 non-null float64\n",
      "kids_prop                          643593 non-null float64\n",
      "teen_prop                          643593 non-null float64\n",
      "elder_prop                         643593 non-null float64\n",
      "school                             643593 non-null int64\n",
      "transfer                           643593 non-null int64\n",
      "dis_jeju                           643593 non-null float64\n",
      "dis_gosan                          643593 non-null float64\n",
      "dis_seongsan                       643593 non-null float64\n",
      "dis_po                             643593 non-null float64\n",
      "기온(°C)                             0 non-null float64\n",
      "강수량(mm)                            0 non-null float64\n",
      "dist_name_gosan                    643593 non-null uint8\n",
      "dist_name_jeju                     643593 non-null uint8\n",
      "dist_name_po                       643593 non-null uint8\n",
      "dist_name_seongsan                 643593 non-null uint8\n",
      "rainy_day                          643593 non-null int64\n",
      "69a                                643593 non-null float64\n",
      "912a                               643593 non-null float64\n",
      "69b                                643593 non-null float64\n",
      "912b                               643593 non-null float64\n",
      "dtypes: datetime64[ns](1), float64(59), int64(14), object(8), uint8(11)\n",
      "memory usage: 414.3+ MB\n"
     ]
    }
   ],
   "source": [
    "data.info()"
   ]
  },
  {
   "cell_type": "code",
   "execution_count": 70,
   "metadata": {},
   "outputs": [
    {
     "data": {
      "text/plain": [
       "((415423, 94), (228170, 94))"
      ]
     },
     "execution_count": 70,
     "metadata": {},
     "output_type": "execute_result"
    }
   ],
   "source": [
    "train_data = data.query('cue==\"0\"').reset_index() # train\n",
    "test_data = data.query('cue==\"1\"').reset_index() # test\n",
    "\n",
    "train_data.shape, test_data.shape"
   ]
  },
  {
   "cell_type": "code",
   "execution_count": 69,
   "metadata": {},
   "outputs": [],
   "source": [
    "#train_data.drop('cue', axis=1)\n",
    "#test_data.drop('cue', axis=1)"
   ]
  },
  {
   "cell_type": "markdown",
   "metadata": {},
   "source": [
    "## Random Forest"
   ]
  },
  {
   "cell_type": "code",
   "execution_count": 80,
   "metadata": {},
   "outputs": [
    {
     "data": {
      "text/plain": [
       "((290796, 56), (124627, 56), (290796,), (124627,))"
      ]
     },
     "execution_count": 80,
     "metadata": {},
     "output_type": "execute_result"
    }
   ],
   "source": [
    "# 변수1\n",
    "input_var1=['in_out','latitude','longitude','6~7_ride', '7~8_ride', '8~9_ride', '9~10_ride', '10~11_ride', '11~12_ride',\n",
    "           '6~7_takeoff', '7~8_takeoff', '8~9_takeoff', '9~10_takeoff', '10~11_takeoff', '11~12_takeoff',\n",
    "           'weekday_0', 'weekday_1', 'weekday_2', 'weekday_3', 'weekday_4', 'weekday_5', 'weekday_6', \n",
    "           'weekend', 'holiday', 'ride_sum', 'takeoff_sum', '1820_rs_mean', '1820_r_mean', '1820_s_mean', 'congestion',\n",
    "           'station_code2', 'bus_route_id2',\n",
    "           '6~7_all_ride_number', '7~8_all_ride_number', '8~9_all_ride_number', '9~10_all_ride_number', '10~11_all_ride_number',\n",
    "           '1820_w_mean','in_out_mean','weekdaymean','adult','kids','teen','elder','adult_prop', 'kids_prop', 'teen_prop', 'elder_prop',\n",
    "           '68a', '810a', '1012a', '68b', '810b', '1012b',\n",
    "           'school', 'transfer']\n",
    "\n",
    "from sklearn.model_selection import train_test_split\n",
    "\n",
    "info = train_data[input_var1] # target variable 제외한 다른 정보변수들\n",
    "target = train_data['18~20_ride'] # target variable\n",
    "\n",
    "# train_test_split\n",
    "x_train, x_valid, y_train, y_valid = train_test_split(info, target, test_size=0.3, shuffle=True, random_state=123)\n",
    "\n",
    "# 여기서 계속 뜨던 오류 : scikit-learn error: The least populated class in y has only 1 member\n",
    "# 오류 해결 : https://stackoverflow.com/questions/43179429/scikit-learn-error-the-least-populated-class-in-y-has-only-1-member\n",
    "# stratify=target 구문을 지운후 돌렸더니 에러 안뜸.\n",
    "\n",
    "x_train.shape, x_valid.shape, y_train.shape, y_valid.shape"
   ]
  },
  {
   "cell_type": "code",
   "execution_count": 81,
   "metadata": {},
   "outputs": [
    {
     "name": "stdout",
     "output_type": "stream",
     "text": [
      "랜덤 포레스트 정확도:  0.7094\n"
     ]
    }
   ],
   "source": [
    "# 변수1\n",
    "from sklearn.ensemble import RandomForestClassifier \n",
    "from sklearn.metrics import accuracy_score\n",
    "\n",
    "rf_clf = RandomForestClassifier(random_state=0)\n",
    "rf_clf.fit(x_train, y_train)\n",
    "rf_pred = rf.predict(x_valid)\n",
    "accuracy = accuracy_score(y_valid, rf_pred)\n",
    "print('랜덤 포레스트 정확도: {0: .4f}' .format(accuracy))"
   ]
  },
  {
   "cell_type": "code",
   "execution_count": 82,
   "metadata": {},
   "outputs": [
    {
     "data": {
      "text/plain": [
       "RandomForestClassifier(bootstrap=True, class_weight=None, criterion='gini',\n",
       "                       max_depth=None, max_features='auto', max_leaf_nodes=None,\n",
       "                       min_impurity_decrease=0.0, min_impurity_split=None,\n",
       "                       min_samples_leaf=1, min_samples_split=2,\n",
       "                       min_weight_fraction_leaf=0.0, n_estimators='warn',\n",
       "                       n_jobs=None, oob_score=False, random_state=None,\n",
       "                       verbose=0, warm_start=False)"
      ]
     },
     "execution_count": 82,
     "metadata": {},
     "output_type": "execute_result"
    }
   ],
   "source": [
    "# RandomForest의 하이퍼 파라미터 default 상태\n",
    "model = RandomForestClassifier()\n",
    "model"
   ]
  },
  {
   "cell_type": "code",
   "execution_count": 83,
   "metadata": {},
   "outputs": [
    {
     "name": "stdout",
     "output_type": "stream",
     "text": [
      "최적 하이퍼 파라미터:  {'max_depth': 12, 'min_samples_leaf': 18, 'min_samples_split': 8, 'n_estimators': 100}\n",
      "최고 예측 정확도: 0.7214\n"
     ]
    }
   ],
   "source": [
    "# GridSearchCV를 통한 랜덤포레스트의 하이퍼 파라미터 튜닝\n",
    "from sklearn.model_selection import GridSearchCV\n",
    "\n",
    "params = { 'n_estimators' : [10, 100],\n",
    "           'max_depth' : [6, 8, 10, 12],\n",
    "           'min_samples_leaf' : [8, 12, 18],\n",
    "           'min_samples_split' : [8, 16, 20]\n",
    "            }\n",
    "\n",
    "# RandomForestClassifier 객체 생성 후 GridSearchCV 수행\n",
    "rf_clf = RandomForestClassifier(random_state = 0, n_jobs = -1)\n",
    "grid_cv = GridSearchCV(rf_clf, param_grid = params, cv = 3, n_jobs = -1)\n",
    "grid_cv.fit(x_train, y_train)\n",
    "\n",
    "print('최적 하이퍼 파라미터: ', grid_cv.best_params_)\n",
    "print('최고 예측 정확도: {:.4f}'.format(grid_cv.best_score_))"
   ]
  },
  {
   "cell_type": "code",
   "execution_count": 84,
   "metadata": {},
   "outputs": [
    {
     "name": "stdout",
     "output_type": "stream",
     "text": [
      "예측 정확도: 0.7198\n"
     ]
    }
   ],
   "source": [
    "#위의 결과로 나온 최적 하이퍼 파라미터로 다시 모델을 학습하여 테스트 세트 데이터에서 예측 성능을 측정\n",
    "rf_clf1 = RandomForestClassifier(n_estimators = 100, \n",
    "                                max_depth = 12,\n",
    "                                min_samples_leaf = 18,\n",
    "                                min_samples_split = 8,\n",
    "                                random_state = 0,\n",
    "                                n_jobs = -1)\n",
    "rf_clf1.fit(x_train, y_train)\n",
    "pred = rf_clf1.predict(x_valid)\n",
    "print('예측 정확도: {:.4f}'.format(accuracy_score(y_valid, pred)))"
   ]
  },
  {
   "cell_type": "markdown",
   "metadata": {},
   "source": [
    "최적 하이퍼 파라미터로 적용한 모델 예측도가 전보다 0.01 향상되었음. (큰 향상은 아님)"
   ]
  },
  {
   "cell_type": "markdown",
   "metadata": {},
   "source": [
    "그럼 각 변수의 중요도 시각화를 통해 중요도를 비교한 후 그 중 중요도 높은 변수만 따로 선택하여 랜덤포레스트를 돌려볼 예정."
   ]
  },
  {
   "cell_type": "code",
   "execution_count": 85,
   "metadata": {},
   "outputs": [
    {
     "data": {
      "image/png": "[encoded data removed]",
      "text/plain": [
       "<Figure size 576x432 with 1 Axes>"
      ]
     },
     "metadata": {
      "needs_background": "light"
     },
     "output_type": "display_data"
    }
   ],
   "source": [
    "# 93개 변수 중에서 top 20개만 추출해보기\n",
    "# Random Forest의 각 피처의 중요도 시각화 : featureimportances\n",
    "import matplotlib.pyplot as plt\n",
    "import seaborn as sns\n",
    "%matplotlib inline\n",
    "\n",
    "ftr_importances_values = rf_clf1.feature_importances_\n",
    "ftr_importances = pd.Series(ftr_importances_values, index = x_train.columns)\n",
    "ftr_top20 = ftr_importances.sort_values(ascending=False)[:20]\n",
    "\n",
    "plt.figure(figsize=(8,6))\n",
    "plt.title('Top 20 Feature Importances')\n",
    "sns.barplot(x=ftr_top20, y=ftr_top20.index)\n",
    "plt.show()"
   ]
  },
  {
   "cell_type": "code",
   "execution_count": 86,
   "metadata": {},
   "outputs": [
    {
     "data": {
      "text/plain": [
       "((290796, 20), (124627, 20), (290796,), (124627,))"
      ]
     },
     "execution_count": 86,
     "metadata": {},
     "output_type": "execute_result"
    }
   ],
   "source": [
    "# 피처의 중요도 시각화에서 나온 top 20개 변수로만 구성하여 새로운 input_var2 생성\n",
    "# 변수2\n",
    "input_var2=['1820_rs_mean','1820_s_mean','ride_sum','1820_r_mean','congestion','adult','1012a','810a','10~11_ride',\n",
    "           '9~10_ride','11~12_ride','8~9_ride','bus_route_id2','kids','elder','68a','teen','latitude','longitude',\n",
    "           '7~8_ride']\n",
    "\n",
    "from sklearn.model_selection import train_test_split\n",
    "\n",
    "info2 = train_data[input_var2] # target variable 제외한 다른 정보변수들\n",
    "target = train_data['18~20_ride'] # target variable\n",
    "\n",
    "# train_test_split\n",
    "x2_train, x2_valid, y2_train, y2_valid = train_test_split(info2, target, test_size=0.3, shuffle=True, random_state=123)\n",
    "\n",
    "# 여기서 계속 뜨던 오류 : scikit-learn error: The least populated class in y has only 1 member\n",
    "# 오류 해결 : https://stackoverflow.com/questions/43179429/scikit-learn-error-the-least-populated-class-in-y-has-only-1-member\n",
    "# stratify=target 구문을 지운후 돌렸더니 에러 안뜸.\n",
    "\n",
    "x2_train.shape, x2_valid.shape, y2_train.shape, y2_valid.shape"
   ]
  },
  {
   "cell_type": "code",
   "execution_count": 88,
   "metadata": {},
   "outputs": [
    {
     "name": "stdout",
     "output_type": "stream",
     "text": [
      "예측 정확도: 0.7195\n"
     ]
    }
   ],
   "source": [
    "#위의 결과로 나온 최적 하이퍼 파라미터로 다시 모델을 학습하여 테스트 세트 데이터에서 예측 성능을 측정\n",
    "rf_clf2 = RandomForestClassifier(n_estimators = 100, \n",
    "                                max_depth = 12,\n",
    "                                min_samples_leaf = 18,\n",
    "                                min_samples_split = 8,\n",
    "                                random_state = 0,\n",
    "                                n_jobs = -1)\n",
    "rf_clf2.fit(x2_train, y2_train)\n",
    "pred2 = rf_clf2.predict(x2_valid)\n",
    "print('예측 정확도: {:.4f}'.format(accuracy_score(y2_valid, pred2)))"
   ]
  },
  {
   "cell_type": "markdown",
   "metadata": {},
   "source": [
    "rf_clf1 (0.7198) 보다 변수 20개로만 학습한 rf_clf2 (0.7195)의 예측도가 0.0003 떨어짐."
   ]
  },
  {
   "cell_type": "markdown",
   "metadata": {},
   "source": [
    "그냥 전처리 한 후 얻어진 모든 93개의 변수 모음으로 학습한 것이 조금 더 나은듯 함."
   ]
  },
  {
   "cell_type": "code",
   "execution_count": 103,
   "metadata": {},
   "outputs": [
    {
     "data": {
      "text/plain": [
       "((290796, 10), (124627, 10), (290796,), (124627,))"
      ]
     },
     "execution_count": 103,
     "metadata": {},
     "output_type": "execute_result"
    }
   ],
   "source": [
    "# 밑에 Linear Regression 결과로 얻어진 회귀계수도가 높은 변수들 모음\n",
    "\n",
    "# 변수3\n",
    "input_var3=['1820_rs_mean','1820_w_mean', 'school','adult_prop','weekdaymean','1012a',\n",
    "            '11~12_ride', 'weekday_3','weekday_2','weekday_1']\n",
    "\n",
    "from sklearn.model_selection import train_test_split\n",
    "\n",
    "info3 = train_data[input_var3] # target variable 제외한 다른 정보변수들\n",
    "target = train_data['18~20_ride'] # target variable\n",
    "\n",
    "# train_test_split\n",
    "x3_train, x3_valid, y3_train, y3_valid = train_test_split(info3, target, test_size=0.3, shuffle=True, random_state=123)\n",
    "\n",
    "# 여기서 계속 뜨던 오류 : scikit-learn error: The least populated class in y has only 1 member\n",
    "# 오류 해결 : https://stackoverflow.com/questions/43179429/scikit-learn-error-the-least-populated-class-in-y-has-only-1-member\n",
    "# stratify=target 구문을 지운후 돌렸더니 에러 안뜸.\n",
    "\n",
    "x3_train.shape, x3_valid.shape, y3_train.shape, y3_valid.shape"
   ]
  },
  {
   "cell_type": "code",
   "execution_count": 105,
   "metadata": {},
   "outputs": [
    {
     "name": "stdout",
     "output_type": "stream",
     "text": [
      "예측 정확도: 0.7203\n"
     ]
    }
   ],
   "source": [
    "#위의 결과로 나온 최적 하이퍼 파라미터로 다시 모델을 학습하여 테스트 세트 데이터에서 예측 성능을 측정\n",
    "rf_clf3 = RandomForestClassifier(n_estimators = 100, \n",
    "                                max_depth = 12,\n",
    "                                min_samples_leaf = 18,\n",
    "                                min_samples_split = 8,\n",
    "                                random_state = 0,\n",
    "                                n_jobs = -1)\n",
    "rf_clf3.fit(x3_train, y3_train)\n",
    "pred3 = rf_clf3.predict(x3_valid)\n",
    "print('예측 정확도: {:.4f}'.format(accuracy_score(y3_valid, pred3)))"
   ]
  },
  {
   "cell_type": "markdown",
   "metadata": {},
   "source": [
    "rf_clf3 으로 돌린 결과가 rf_clf1, rf_clf2 보다 더 예측 정확도가 높음.\n",
    "\n",
    "우리의 변수는 input_var3로 가져가는 것이 좋을듯."
   ]
  },
  {
   "cell_type": "markdown",
   "metadata": {},
   "source": [
    "## LinearRegression"
   ]
  },
  {
   "cell_type": "code",
   "execution_count": 95,
   "metadata": {},
   "outputs": [
    {
     "data": {
      "text/plain": [
       "((290796, 56), (124627, 56), (290796,), (124627,))"
      ]
     },
     "execution_count": 95,
     "metadata": {},
     "output_type": "execute_result"
    }
   ],
   "source": [
    "# 변수1\n",
    "input_var1=['in_out','latitude','longitude','6~7_ride', '7~8_ride', '8~9_ride', '9~10_ride', '10~11_ride', '11~12_ride',\n",
    "           '6~7_takeoff', '7~8_takeoff', '8~9_takeoff', '9~10_takeoff', '10~11_takeoff', '11~12_takeoff',\n",
    "           'weekday_0', 'weekday_1', 'weekday_2', 'weekday_3', 'weekday_4', 'weekday_5', 'weekday_6', \n",
    "           'weekend', 'holiday', 'ride_sum', 'takeoff_sum', '1820_rs_mean', '1820_r_mean', '1820_s_mean', 'congestion',\n",
    "           'station_code2', 'bus_route_id2',\n",
    "           '6~7_all_ride_number', '7~8_all_ride_number', '8~9_all_ride_number', '9~10_all_ride_number', '10~11_all_ride_number',\n",
    "           '1820_w_mean','in_out_mean','weekdaymean','adult','kids','teen','elder','adult_prop', 'kids_prop', 'teen_prop', 'elder_prop',\n",
    "           '68a', '810a', '1012a', '68b', '810b', '1012b',\n",
    "           'school', 'transfer']\n",
    "\n",
    "from sklearn.model_selection import train_test_split\n",
    "\n",
    "info = train_data[input_var1] # target variable 제외한 다른 정보변수들\n",
    "target = train_data['18~20_ride'] # target variable\n",
    "\n",
    "# train_test_split\n",
    "x_train, x_valid, y_train, y_valid = train_test_split(info, target, test_size=0.3, shuffle=True, random_state=123)\n",
    "\n",
    "# 여기서 계속 뜨던 오류 : scikit-learn error: The least populated class in y has only 1 member\n",
    "# 오류 해결 : https://stackoverflow.com/questions/43179429/scikit-learn-error-the-least-populated-class-in-y-has-only-1-member\n",
    "# stratify=target 구문을 지운후 돌렸더니 에러 안뜸.\n",
    "\n",
    "x_train.shape, x_valid.shape, y_train.shape, y_valid.shape"
   ]
  },
  {
   "cell_type": "code",
   "execution_count": 99,
   "metadata": {},
   "outputs": [
    {
     "name": "stdout",
     "output_type": "stream",
     "text": [
      "MSE : 5.695, RMSE : 2.386\n",
      "Variance score : 0.738\n"
     ]
    }
   ],
   "source": [
    "from sklearn.linear_model import LinearRegression\n",
    "from sklearn.metrics import mean_squared_error, r2_score\n",
    "\n",
    "# 선형 회귀 OLS로 학습/예측/평가 수행.\n",
    "lr = LinearRegression()\n",
    "lr.fit(x_train, y_train)\n",
    "\n",
    "y_preds = lr.predict(x_valid)\n",
    "mse = mean_squared_error(y_valid, y_preds)\n",
    "rmse = np.sqrt(mse)\n",
    "print('MSE : {0:.3f}, RMSE : {1:.3F}'.format(mse, rmse))\n",
    "print('Variance score : {0:.3f}'.format(r2_score(y_valid, y_preds)))"
   ]
  },
  {
   "cell_type": "code",
   "execution_count": 100,
   "metadata": {},
   "outputs": [
    {
     "name": "stdout",
     "output_type": "stream",
     "text": [
      "절편 값: 6.970634790404073\n",
      "회귀 계수값: [-0.1 -0.1 -0.  -0.  -0.   0.   0.  -0.   0.1  0.   0.   0.   0.  -0.\n",
      "  0.  -0.1  0.1  0.1  0.1 -0.2  0.  -0.   0.   0.   0.   0.   0.9 -0.\n",
      "  0.   0.  -0.   0.  -0.   0.  -0.  -0.   0.   0.1  0.   0.1 -0.  -0.\n",
      "  0.   0.   0.1 -0.  -0.1  0.  -0.   0.   0.1  0.   0.  -0.   0.1 -0.2]\n"
     ]
    }
   ],
   "source": [
    "print('절편 값:', lr.intercept_)\n",
    "print('회귀 계수값:', np.round(lr.coef_, 1))"
   ]
  },
  {
   "cell_type": "code",
   "execution_count": 101,
   "metadata": {},
   "outputs": [
    {
     "data": {
      "text/plain": [
       "1820_rs_mean             0.9\n",
       "weekday_3                0.1\n",
       "weekday_2                0.1\n",
       "weekday_1                0.1\n",
       "school                   0.1\n",
       "1820_w_mean              0.1\n",
       "adult_prop               0.1\n",
       "weekdaymean              0.1\n",
       "1012a                    0.1\n",
       "11~12_ride               0.1\n",
       "weekend                  0.0\n",
       "weekday_5                0.0\n",
       "longitude               -0.0\n",
       "holiday                  0.0\n",
       "ride_sum                 0.0\n",
       "                        ... \n",
       "in_out_mean              0.0\n",
       "10~11_all_ride_number    0.0\n",
       "9~10_all_ride_number    -0.0\n",
       "8~9_all_ride_number     -0.0\n",
       "7~8_all_ride_number      0.0\n",
       "6~7_all_ride_number     -0.0\n",
       "bus_route_id2            0.0\n",
       "7~8_ride                -0.0\n",
       "8~9_ride                 0.0\n",
       "latitude                -0.1\n",
       "in_out                  -0.1\n",
       "weekday_0               -0.1\n",
       "teen_prop               -0.1\n",
       "weekday_4               -0.2\n",
       "transfer                -0.2\n",
       "Length: 56, dtype: float64"
      ]
     },
     "execution_count": 101,
     "metadata": {},
     "output_type": "execute_result"
    }
   ],
   "source": [
    "# 회귀 계수를 큰 값 순으로 정렬하기 위해 Series로 생성. 인덱스 칼럼명에 유의\n",
    "coeff = pd.Series(data=np.round(lr.coef_, 1), index=x_train.columns)\n",
    "coeff.sort_values(ascending=False)"
   ]
  },
  {
   "cell_type": "markdown",
   "metadata": {},
   "source": [
    "## LightGBM"
   ]
  },
  {
   "cell_type": "code",
   "execution_count": 92,
   "metadata": {},
   "outputs": [
    {
     "data": {
      "text/plain": [
       "((290796, 56), (124627, 56), (290796,), (124627,))"
      ]
     },
     "execution_count": 92,
     "metadata": {},
     "output_type": "execute_result"
    }
   ],
   "source": [
    "# 변수1\n",
    "input_var1=['in_out','latitude','longitude','6~7_ride', '7~8_ride', '8~9_ride', '9~10_ride', '10~11_ride', '11~12_ride',\n",
    "           '6~7_takeoff', '7~8_takeoff', '8~9_takeoff', '9~10_takeoff', '10~11_takeoff', '11~12_takeoff',\n",
    "           'weekday_0', 'weekday_1', 'weekday_2', 'weekday_3', 'weekday_4', 'weekday_5', 'weekday_6', \n",
    "           'weekend', 'holiday', 'ride_sum', 'takeoff_sum', '1820_rs_mean', '1820_r_mean', '1820_s_mean', 'congestion',\n",
    "           'station_code2', 'bus_route_id2',\n",
    "           '6~7_all_ride_number', '7~8_all_ride_number', '8~9_all_ride_number', '9~10_all_ride_number', '10~11_all_ride_number',\n",
    "           '1820_w_mean','in_out_mean','weekdaymean','adult','kids','teen','elder','adult_prop', 'kids_prop', 'teen_prop', 'elder_prop',\n",
    "           '68a', '810a', '1012a', '68b', '810b', '1012b',\n",
    "           'school', 'transfer']\n",
    "\n",
    "from sklearn.model_selection import train_test_split\n",
    "\n",
    "info = train_data[input_var1] # target variable 제외한 다른 정보변수들\n",
    "target = train_data['18~20_ride'] # target variable\n",
    "\n",
    "# train_test_split\n",
    "x_train, x_valid, y_train, y_valid = train_test_split(info, target, test_size=0.3, shuffle=True, random_state=123)\n",
    "\n",
    "# 여기서 계속 뜨던 오류 : scikit-learn error: The least populated class in y has only 1 member\n",
    "# 오류 해결 : https://stackoverflow.com/questions/43179429/scikit-learn-error-the-least-populated-class-in-y-has-only-1-member\n",
    "# stratify=target 구문을 지운후 돌렸더니 에러 안뜸.\n",
    "\n",
    "x_train.shape, x_valid.shape, y_train.shape, y_valid.shape"
   ]
  },
  {
   "cell_type": "code",
   "execution_count": 94,
   "metadata": {},
   "outputs": [
    {
     "ename": "ValueError",
     "evalue": "y contains previously unseen labels: [90.0, 98.0, 113.0, 114.0, 131.0, 136.0, 143.0, 155.0, 167.0, 168.0, 170.0, 180.0, 185.0, 202.0, 229.0]",
     "output_type": "error",
     "traceback": [
      "\u001b[0;31m---------------------------------------------------------------------------\u001b[0m",
      "\u001b[0;31mValueError\u001b[0m                                Traceback (most recent call last)",
      "\u001b[0;32m<ipython-input-94-8f418f568d3d>\u001b[0m in \u001b[0;36m<module>\u001b[0;34m\u001b[0m\n\u001b[1;32m      7\u001b[0m \u001b[0;34m\u001b[0m\u001b[0m\n\u001b[1;32m      8\u001b[0m \u001b[0mevals\u001b[0m \u001b[0;34m=\u001b[0m \u001b[0;34m[\u001b[0m\u001b[0;34m(\u001b[0m\u001b[0mx_valid\u001b[0m\u001b[0;34m,\u001b[0m \u001b[0my_valid\u001b[0m\u001b[0;34m)\u001b[0m\u001b[0;34m]\u001b[0m\u001b[0;34m\u001b[0m\u001b[0;34m\u001b[0m\u001b[0m\n\u001b[0;32m----> 9\u001b[0;31m \u001b[0mlgbm_wrapper\u001b[0m\u001b[0;34m.\u001b[0m\u001b[0mfit\u001b[0m\u001b[0;34m(\u001b[0m\u001b[0mx_train\u001b[0m\u001b[0;34m,\u001b[0m \u001b[0my_train\u001b[0m\u001b[0;34m,\u001b[0m \u001b[0mearly_stopping_rounds\u001b[0m\u001b[0;34m=\u001b[0m\u001b[0;36m100\u001b[0m\u001b[0;34m,\u001b[0m \u001b[0meval_metric\u001b[0m\u001b[0;34m=\u001b[0m\u001b[0;34m\"logloss\"\u001b[0m\u001b[0;34m,\u001b[0m \u001b[0meval_set\u001b[0m\u001b[0;34m=\u001b[0m\u001b[0mevals\u001b[0m\u001b[0;34m,\u001b[0m \u001b[0mverbose\u001b[0m\u001b[0;34m=\u001b[0m\u001b[0;32mTrue\u001b[0m\u001b[0;34m)\u001b[0m\u001b[0;34m\u001b[0m\u001b[0;34m\u001b[0m\u001b[0m\n\u001b[0m\u001b[1;32m     10\u001b[0m \u001b[0mpreds\u001b[0m \u001b[0;34m=\u001b[0m \u001b[0mlgbm_wrapper\u001b[0m\u001b[0;34m.\u001b[0m\u001b[0mpredict\u001b[0m\u001b[0;34m(\u001b[0m\u001b[0mx_valid\u001b[0m\u001b[0;34m)\u001b[0m\u001b[0;34m\u001b[0m\u001b[0;34m\u001b[0m\u001b[0m\n\u001b[1;32m     11\u001b[0m \u001b[0mpred_proba\u001b[0m \u001b[0;34m=\u001b[0m \u001b[0mlgbm_wrapper\u001b[0m\u001b[0;34m.\u001b[0m\u001b[0mpredict_proba\u001b[0m\u001b[0;34m(\u001b[0m\u001b[0mx_valid\u001b[0m\u001b[0;34m)\u001b[0m\u001b[0;34m[\u001b[0m\u001b[0;34m:\u001b[0m\u001b[0;34m,\u001b[0m \u001b[0;36m1\u001b[0m\u001b[0;34m]\u001b[0m\u001b[0;34m\u001b[0m\u001b[0;34m\u001b[0m\u001b[0m\n",
      "\u001b[0;32m~/anaconda3/lib/python3.7/site-packages/lightgbm/sklearn.py\u001b[0m in \u001b[0;36mfit\u001b[0;34m(self, X, y, sample_weight, init_score, eval_set, eval_names, eval_sample_weight, eval_class_weight, eval_init_score, eval_metric, early_stopping_rounds, verbose, feature_name, categorical_feature, callbacks)\u001b[0m\n\u001b[1;32m    786\u001b[0m                     \u001b[0meval_set\u001b[0m\u001b[0;34m[\u001b[0m\u001b[0mi\u001b[0m\u001b[0;34m]\u001b[0m \u001b[0;34m=\u001b[0m \u001b[0;34m(\u001b[0m\u001b[0mvalid_x\u001b[0m\u001b[0;34m,\u001b[0m \u001b[0m_y\u001b[0m\u001b[0;34m)\u001b[0m\u001b[0;34m\u001b[0m\u001b[0;34m\u001b[0m\u001b[0m\n\u001b[1;32m    787\u001b[0m                 \u001b[0;32melse\u001b[0m\u001b[0;34m:\u001b[0m\u001b[0;34m\u001b[0m\u001b[0;34m\u001b[0m\u001b[0m\n\u001b[0;32m--> 788\u001b[0;31m                     \u001b[0meval_set\u001b[0m\u001b[0;34m[\u001b[0m\u001b[0mi\u001b[0m\u001b[0;34m]\u001b[0m \u001b[0;34m=\u001b[0m \u001b[0;34m(\u001b[0m\u001b[0mvalid_x\u001b[0m\u001b[0;34m,\u001b[0m \u001b[0mself\u001b[0m\u001b[0;34m.\u001b[0m\u001b[0m_le\u001b[0m\u001b[0;34m.\u001b[0m\u001b[0mtransform\u001b[0m\u001b[0;34m(\u001b[0m\u001b[0mvalid_y\u001b[0m\u001b[0;34m)\u001b[0m\u001b[0;34m)\u001b[0m\u001b[0;34m\u001b[0m\u001b[0;34m\u001b[0m\u001b[0m\n\u001b[0m\u001b[1;32m    789\u001b[0m \u001b[0;34m\u001b[0m\u001b[0m\n\u001b[1;32m    790\u001b[0m         super(LGBMClassifier, self).fit(X, _y, sample_weight=sample_weight,\n",
      "\u001b[0;32m~/anaconda3/lib/python3.7/site-packages/sklearn/preprocessing/label.py\u001b[0m in \u001b[0;36mtransform\u001b[0;34m(self, y)\u001b[0m\n\u001b[1;32m    255\u001b[0m             \u001b[0;32mreturn\u001b[0m \u001b[0mnp\u001b[0m\u001b[0;34m.\u001b[0m\u001b[0marray\u001b[0m\u001b[0;34m(\u001b[0m\u001b[0;34m[\u001b[0m\u001b[0;34m]\u001b[0m\u001b[0;34m)\u001b[0m\u001b[0;34m\u001b[0m\u001b[0;34m\u001b[0m\u001b[0m\n\u001b[1;32m    256\u001b[0m \u001b[0;34m\u001b[0m\u001b[0m\n\u001b[0;32m--> 257\u001b[0;31m         \u001b[0m_\u001b[0m\u001b[0;34m,\u001b[0m \u001b[0my\u001b[0m \u001b[0;34m=\u001b[0m \u001b[0m_encode\u001b[0m\u001b[0;34m(\u001b[0m\u001b[0my\u001b[0m\u001b[0;34m,\u001b[0m \u001b[0muniques\u001b[0m\u001b[0;34m=\u001b[0m\u001b[0mself\u001b[0m\u001b[0;34m.\u001b[0m\u001b[0mclasses_\u001b[0m\u001b[0;34m,\u001b[0m \u001b[0mencode\u001b[0m\u001b[0;34m=\u001b[0m\u001b[0;32mTrue\u001b[0m\u001b[0;34m)\u001b[0m\u001b[0;34m\u001b[0m\u001b[0;34m\u001b[0m\u001b[0m\n\u001b[0m\u001b[1;32m    258\u001b[0m         \u001b[0;32mreturn\u001b[0m \u001b[0my\u001b[0m\u001b[0;34m\u001b[0m\u001b[0;34m\u001b[0m\u001b[0m\n\u001b[1;32m    259\u001b[0m \u001b[0;34m\u001b[0m\u001b[0m\n",
      "\u001b[0;32m~/anaconda3/lib/python3.7/site-packages/sklearn/preprocessing/label.py\u001b[0m in \u001b[0;36m_encode\u001b[0;34m(values, uniques, encode)\u001b[0m\n\u001b[1;32m    108\u001b[0m         \u001b[0;32mreturn\u001b[0m \u001b[0mres\u001b[0m\u001b[0;34m\u001b[0m\u001b[0;34m\u001b[0m\u001b[0m\n\u001b[1;32m    109\u001b[0m     \u001b[0;32melse\u001b[0m\u001b[0;34m:\u001b[0m\u001b[0;34m\u001b[0m\u001b[0;34m\u001b[0m\u001b[0m\n\u001b[0;32m--> 110\u001b[0;31m         \u001b[0;32mreturn\u001b[0m \u001b[0m_encode_numpy\u001b[0m\u001b[0;34m(\u001b[0m\u001b[0mvalues\u001b[0m\u001b[0;34m,\u001b[0m \u001b[0muniques\u001b[0m\u001b[0;34m,\u001b[0m \u001b[0mencode\u001b[0m\u001b[0;34m)\u001b[0m\u001b[0;34m\u001b[0m\u001b[0;34m\u001b[0m\u001b[0m\n\u001b[0m\u001b[1;32m    111\u001b[0m \u001b[0;34m\u001b[0m\u001b[0m\n\u001b[1;32m    112\u001b[0m \u001b[0;34m\u001b[0m\u001b[0m\n",
      "\u001b[0;32m~/anaconda3/lib/python3.7/site-packages/sklearn/preprocessing/label.py\u001b[0m in \u001b[0;36m_encode_numpy\u001b[0;34m(values, uniques, encode)\u001b[0m\n\u001b[1;32m     47\u001b[0m         \u001b[0;32mif\u001b[0m \u001b[0mdiff\u001b[0m\u001b[0;34m:\u001b[0m\u001b[0;34m\u001b[0m\u001b[0;34m\u001b[0m\u001b[0m\n\u001b[1;32m     48\u001b[0m             raise ValueError(\"y contains previously unseen labels: %s\"\n\u001b[0;32m---> 49\u001b[0;31m                              % str(diff))\n\u001b[0m\u001b[1;32m     50\u001b[0m         \u001b[0mencoded\u001b[0m \u001b[0;34m=\u001b[0m \u001b[0mnp\u001b[0m\u001b[0;34m.\u001b[0m\u001b[0msearchsorted\u001b[0m\u001b[0;34m(\u001b[0m\u001b[0muniques\u001b[0m\u001b[0;34m,\u001b[0m \u001b[0mvalues\u001b[0m\u001b[0;34m)\u001b[0m\u001b[0;34m\u001b[0m\u001b[0;34m\u001b[0m\u001b[0m\n\u001b[1;32m     51\u001b[0m         \u001b[0;32mreturn\u001b[0m \u001b[0muniques\u001b[0m\u001b[0;34m,\u001b[0m \u001b[0mencoded\u001b[0m\u001b[0;34m\u001b[0m\u001b[0;34m\u001b[0m\u001b[0m\n",
      "\u001b[0;31mValueError\u001b[0m: y contains previously unseen labels: [90.0, 98.0, 113.0, 114.0, 131.0, 136.0, 143.0, 155.0, 167.0, 168.0, 170.0, 180.0, 185.0, 202.0, 229.0]"
     ]
    }
   ],
   "source": [
    "# LightGBM의 파이썬 패키지인 lightgbm에서 LGBMClassifier 임포트 from lightgbm import LGBMClassifier\n",
    "from lightgbm import LGBMClassifier\n",
    "import warnings\n",
    "warnings.filterwarnings('ignore')\n",
    "\n",
    "lgbm_wrapper = LGBMClassifier(n_estimators=400)\n",
    "\n",
    "evals = [(x_valid, y_valid)]\n",
    "lgbm_wrapper.fit(x_train, y_train, early_stopping_rounds=100, eval_metric=\"logloss\", eval_set=evals, verbose=True)\n",
    "preds = lgbm_wrapper.predict(x_valid)\n",
    "pred_proba = lgbm_wrapper.predict_proba(x_valid)[:, 1]"
   ]
  },
  {
   "cell_type": "markdown",
   "metadata": {},
   "source": [
    "## XGBoost"
   ]
  },
  {
   "cell_type": "code",
   "execution_count": 106,
   "metadata": {},
   "outputs": [
    {
     "data": {
      "text/plain": [
       "((290796, 10), (124627, 10), (290796,), (124627,))"
      ]
     },
     "execution_count": 106,
     "metadata": {},
     "output_type": "execute_result"
    }
   ],
   "source": [
    "# 변수3\n",
    "input_var3=['1820_rs_mean','1820_w_mean', 'school','adult_prop','weekdaymean','1012a',\n",
    "            '11~12_ride', 'weekday_3','weekday_2','weekday_1']\n",
    "\n",
    "from sklearn.model_selection import train_test_split\n",
    "\n",
    "info3 = train_data[input_var3] # target variable 제외한 다른 정보변수들\n",
    "target = train_data['18~20_ride'] # target variable\n",
    "\n",
    "# train_test_split\n",
    "x3_train, x3_valid, y3_train, y3_valid = train_test_split(info3, target, test_size=0.3, shuffle=True, random_state=123)\n",
    "\n",
    "# 여기서 계속 뜨던 오류 : scikit-learn error: The least populated class in y has only 1 member\n",
    "# 오류 해결 : https://stackoverflow.com/questions/43179429/scikit-learn-error-the-least-populated-class-in-y-has-only-1-member\n",
    "# stratify=target 구문을 지운후 돌렸더니 에러 안뜸.\n",
    "\n",
    "x3_train.shape, x3_valid.shape, y3_train.shape, y3_valid.shape"
   ]
  },
  {
   "cell_type": "code",
   "execution_count": 109,
   "metadata": {},
   "outputs": [
    {
     "ename": "XGBoostError",
     "evalue": "[21:30:07] src/objective/regression_obj.cu:101: label must be in [0,1] for logistic regression\nStack trace:\n  [bt] (0) 1   libxgboost.dylib                    0x0000001b11192e19 dmlc::LogMessageFatal::~LogMessageFatal() + 57\n  [bt] (1) 2   libxgboost.dylib                    0x0000001b11219c1d xgboost::obj::RegLossObj<xgboost::obj::LogisticClassification>::GetGradient(xgboost::HostDeviceVector<float> const&, xgboost::MetaInfo const&, int, xgboost::HostDeviceVector<xgboost::detail::GradientPairInternal<float> >*) + 1133\n  [bt] (2) 3   libxgboost.dylib                    0x0000001b1118ea9e xgboost::LearnerImpl::UpdateOneIter(int, xgboost::DMatrix*) + 1278\n  [bt] (3) 4   libxgboost.dylib                    0x0000001b111af34c XGBoosterUpdateOneIter + 172\n  [bt] (4) 5   libffi.6.dylib                      0x000000010320e884 ffi_call_unix64 + 76\n  [bt] (5) 6   ???                                 0x00007ffeee90caa0 0x0 + 140732900887200\n\n",
     "output_type": "error",
     "traceback": [
      "\u001b[0;31m---------------------------------------------------------------------------\u001b[0m",
      "\u001b[0;31mXGBoostError\u001b[0m                              Traceback (most recent call last)",
      "\u001b[0;32m<ipython-input-109-4ba80972ed9d>\u001b[0m in \u001b[0;36m<module>\u001b[0;34m\u001b[0m\n\u001b[1;32m     19\u001b[0m \u001b[0;31m# 하이퍼 파라미터와 early stopping 파라미터를 train() 함수의 파라미터로 전달\u001b[0m\u001b[0;34m\u001b[0m\u001b[0;34m\u001b[0m\u001b[0;34m\u001b[0m\u001b[0m\n\u001b[1;32m     20\u001b[0m xgb_model = xgb.train(params = params, dtrain=dtrain, num_boost_round=num_rounds, \\\n\u001b[0;32m---> 21\u001b[0;31m early_stopping_rounds=100, evals=wlist )\n\u001b[0m\u001b[1;32m     22\u001b[0m \u001b[0;34m\u001b[0m\u001b[0m\n\u001b[1;32m     23\u001b[0m \u001b[0mpred_probs\u001b[0m \u001b[0;34m=\u001b[0m \u001b[0mxgb_model\u001b[0m\u001b[0;34m.\u001b[0m\u001b[0mpredict\u001b[0m\u001b[0;34m(\u001b[0m\u001b[0mdtest\u001b[0m\u001b[0;34m)\u001b[0m\u001b[0;34m\u001b[0m\u001b[0;34m\u001b[0m\u001b[0m\n",
      "\u001b[0;32m~/anaconda3/lib/python3.7/site-packages/xgboost/training.py\u001b[0m in \u001b[0;36mtrain\u001b[0;34m(params, dtrain, num_boost_round, evals, obj, feval, maximize, early_stopping_rounds, evals_result, verbose_eval, xgb_model, callbacks, learning_rates)\u001b[0m\n\u001b[1;32m    214\u001b[0m                            \u001b[0mevals\u001b[0m\u001b[0;34m=\u001b[0m\u001b[0mevals\u001b[0m\u001b[0;34m,\u001b[0m\u001b[0;34m\u001b[0m\u001b[0;34m\u001b[0m\u001b[0m\n\u001b[1;32m    215\u001b[0m                            \u001b[0mobj\u001b[0m\u001b[0;34m=\u001b[0m\u001b[0mobj\u001b[0m\u001b[0;34m,\u001b[0m \u001b[0mfeval\u001b[0m\u001b[0;34m=\u001b[0m\u001b[0mfeval\u001b[0m\u001b[0;34m,\u001b[0m\u001b[0;34m\u001b[0m\u001b[0;34m\u001b[0m\u001b[0m\n\u001b[0;32m--> 216\u001b[0;31m                            xgb_model=xgb_model, callbacks=callbacks)\n\u001b[0m\u001b[1;32m    217\u001b[0m \u001b[0;34m\u001b[0m\u001b[0m\n\u001b[1;32m    218\u001b[0m \u001b[0;34m\u001b[0m\u001b[0m\n",
      "\u001b[0;32m~/anaconda3/lib/python3.7/site-packages/xgboost/training.py\u001b[0m in \u001b[0;36m_train_internal\u001b[0;34m(params, dtrain, num_boost_round, evals, obj, feval, xgb_model, callbacks)\u001b[0m\n\u001b[1;32m     72\u001b[0m         \u001b[0;31m# Skip the first update if it is a recovery step.\u001b[0m\u001b[0;34m\u001b[0m\u001b[0;34m\u001b[0m\u001b[0;34m\u001b[0m\u001b[0m\n\u001b[1;32m     73\u001b[0m         \u001b[0;32mif\u001b[0m \u001b[0mversion\u001b[0m \u001b[0;34m%\u001b[0m \u001b[0;36m2\u001b[0m \u001b[0;34m==\u001b[0m \u001b[0;36m0\u001b[0m\u001b[0;34m:\u001b[0m\u001b[0;34m\u001b[0m\u001b[0;34m\u001b[0m\u001b[0m\n\u001b[0;32m---> 74\u001b[0;31m             \u001b[0mbst\u001b[0m\u001b[0;34m.\u001b[0m\u001b[0mupdate\u001b[0m\u001b[0;34m(\u001b[0m\u001b[0mdtrain\u001b[0m\u001b[0;34m,\u001b[0m \u001b[0mi\u001b[0m\u001b[0;34m,\u001b[0m \u001b[0mobj\u001b[0m\u001b[0;34m)\u001b[0m\u001b[0;34m\u001b[0m\u001b[0;34m\u001b[0m\u001b[0m\n\u001b[0m\u001b[1;32m     75\u001b[0m             \u001b[0mbst\u001b[0m\u001b[0;34m.\u001b[0m\u001b[0msave_rabit_checkpoint\u001b[0m\u001b[0;34m(\u001b[0m\u001b[0;34m)\u001b[0m\u001b[0;34m\u001b[0m\u001b[0;34m\u001b[0m\u001b[0m\n\u001b[1;32m     76\u001b[0m             \u001b[0mversion\u001b[0m \u001b[0;34m+=\u001b[0m \u001b[0;36m1\u001b[0m\u001b[0;34m\u001b[0m\u001b[0;34m\u001b[0m\u001b[0m\n",
      "\u001b[0;32m~/anaconda3/lib/python3.7/site-packages/xgboost/core.py\u001b[0m in \u001b[0;36mupdate\u001b[0;34m(self, dtrain, iteration, fobj)\u001b[0m\n\u001b[1;32m   1107\u001b[0m         \u001b[0;32mif\u001b[0m \u001b[0mfobj\u001b[0m \u001b[0;32mis\u001b[0m \u001b[0;32mNone\u001b[0m\u001b[0;34m:\u001b[0m\u001b[0;34m\u001b[0m\u001b[0;34m\u001b[0m\u001b[0m\n\u001b[1;32m   1108\u001b[0m             _check_call(_LIB.XGBoosterUpdateOneIter(self.handle, ctypes.c_int(iteration),\n\u001b[0;32m-> 1109\u001b[0;31m                                                     dtrain.handle))\n\u001b[0m\u001b[1;32m   1110\u001b[0m         \u001b[0;32melse\u001b[0m\u001b[0;34m:\u001b[0m\u001b[0;34m\u001b[0m\u001b[0;34m\u001b[0m\u001b[0m\n\u001b[1;32m   1111\u001b[0m             \u001b[0mpred\u001b[0m \u001b[0;34m=\u001b[0m \u001b[0mself\u001b[0m\u001b[0;34m.\u001b[0m\u001b[0mpredict\u001b[0m\u001b[0;34m(\u001b[0m\u001b[0mdtrain\u001b[0m\u001b[0;34m)\u001b[0m\u001b[0;34m\u001b[0m\u001b[0;34m\u001b[0m\u001b[0m\n",
      "\u001b[0;32m~/anaconda3/lib/python3.7/site-packages/xgboost/core.py\u001b[0m in \u001b[0;36m_check_call\u001b[0;34m(ret)\u001b[0m\n\u001b[1;32m    174\u001b[0m     \"\"\"\n\u001b[1;32m    175\u001b[0m     \u001b[0;32mif\u001b[0m \u001b[0mret\u001b[0m \u001b[0;34m!=\u001b[0m \u001b[0;36m0\u001b[0m\u001b[0;34m:\u001b[0m\u001b[0;34m\u001b[0m\u001b[0;34m\u001b[0m\u001b[0m\n\u001b[0;32m--> 176\u001b[0;31m         \u001b[0;32mraise\u001b[0m \u001b[0mXGBoostError\u001b[0m\u001b[0;34m(\u001b[0m\u001b[0mpy_str\u001b[0m\u001b[0;34m(\u001b[0m\u001b[0m_LIB\u001b[0m\u001b[0;34m.\u001b[0m\u001b[0mXGBGetLastError\u001b[0m\u001b[0;34m(\u001b[0m\u001b[0;34m)\u001b[0m\u001b[0;34m)\u001b[0m\u001b[0;34m)\u001b[0m\u001b[0;34m\u001b[0m\u001b[0;34m\u001b[0m\u001b[0m\n\u001b[0m\u001b[1;32m    177\u001b[0m \u001b[0;34m\u001b[0m\u001b[0m\n\u001b[1;32m    178\u001b[0m \u001b[0;34m\u001b[0m\u001b[0m\n",
      "\u001b[0;31mXGBoostError\u001b[0m: [21:30:07] src/objective/regression_obj.cu:101: label must be in [0,1] for logistic regression\nStack trace:\n  [bt] (0) 1   libxgboost.dylib                    0x0000001b11192e19 dmlc::LogMessageFatal::~LogMessageFatal() + 57\n  [bt] (1) 2   libxgboost.dylib                    0x0000001b11219c1d xgboost::obj::RegLossObj<xgboost::obj::LogisticClassification>::GetGradient(xgboost::HostDeviceVector<float> const&, xgboost::MetaInfo const&, int, xgboost::HostDeviceVector<xgboost::detail::GradientPairInternal<float> >*) + 1133\n  [bt] (2) 3   libxgboost.dylib                    0x0000001b1118ea9e xgboost::LearnerImpl::UpdateOneIter(int, xgboost::DMatrix*) + 1278\n  [bt] (3) 4   libxgboost.dylib                    0x0000001b111af34c XGBoosterUpdateOneIter + 172\n  [bt] (4) 5   libffi.6.dylib                      0x000000010320e884 ffi_call_unix64 + 76\n  [bt] (5) 6   ???                                 0x00007ffeee90caa0 0x0 + 140732900887200\n\n"
     ]
    }
   ],
   "source": [
    "import xgboost as xgb\n",
    "from xgboost import plot_importance\n",
    "\n",
    "dtrain = xgb.DMatrix(data=x3_train, label=y3_train)\n",
    "dtest = xgb.DMatrix(data=x3_valid, label=y3_valid)\n",
    "\n",
    "params = { 'max_depth':3,\n",
    "          'eta': 0.1,\n",
    "          'objective':'binary:logistic',\n",
    "          'eval_metric':'logloss', \n",
    "          'early_stoppings':100\n",
    "}\n",
    "\n",
    "num_rounds = 400\n",
    "\n",
    "# train 데이터 세트는 'train*, evaluation(test) 데이터 세트는 ’eval'로 명기합니다.\n",
    "wlist = [(dtrain, 'train'), (dtest, 'eval') ]\n",
    "\n",
    "# 하이퍼 파라미터와 early stopping 파라미터를 train() 함수의 파라미터로 전달 \n",
    "xgb_model = xgb.train(params = params, dtrain=dtrain, num_boost_round=num_rounds, \\\n",
    "early_stopping_rounds=100, evals=wlist )\n",
    "\n",
    "pred_probs = xgb_model.predict(dtest)\n",
    "print('predict( ) 수행 결괏값을 10개만 표시, 예측 확률값으로 표시됨')\n",
    "print(np.round(pred_probs[:10], 3))\n",
    "\n",
    "# 예측 확률이 0.5보다 크면 1, 그렇지 않으면 0으로 예측값 결정해 리스트 객체인 preds에 저장\n",
    "preds = [ 1 if x > 0.5 else 0 for x in pred_probs ]\n",
    "print('예측값 10개만 표시:', preds[:10])"
   ]
  },
  {
   "cell_type": "code",
   "execution_count": null,
   "metadata": {},
   "outputs": [],
   "source": [
    "get_clf_eval(y_test , preds, pred_probs)"
   ]
  },
  {
   "cell_type": "code",
   "execution_count": null,
   "metadata": {},
   "outputs": [],
   "source": [
    "# xgboost의 plot_importance() API는 피처의 중요도를 막대그래프로 시각화\n",
    "from xgboost import plot_importance\n",
    "\n",
    "fig, ax = pit.subplots(figsize=(10, 12))\n",
    "plot_importance(xgb_model, ax=ax)"
   ]
  },
  {
   "cell_type": "code",
   "execution_count": null,
   "metadata": {},
   "outputs": [],
   "source": []
  },
  {
   "cell_type": "code",
   "execution_count": null,
   "metadata": {},
   "outputs": [],
   "source": []
  },
  {
   "cell_type": "code",
   "execution_count": null,
   "metadata": {},
   "outputs": [],
   "source": []
  },
  {
   "cell_type": "code",
   "execution_count": null,
   "metadata": {},
   "outputs": [],
   "source": []
  },
  {
   "cell_type": "code",
   "execution_count": null,
   "metadata": {},
   "outputs": [],
   "source": []
  },
  {
   "cell_type": "code",
   "execution_count": null,
   "metadata": {},
   "outputs": [],
   "source": []
  },
  {
   "cell_type": "code",
   "execution_count": null,
   "metadata": {},
   "outputs": [],
   "source": []
  },
  {
   "cell_type": "code",
   "execution_count": null,
   "metadata": {},
   "outputs": [],
   "source": []
  },
  {
   "cell_type": "code",
   "execution_count": null,
   "metadata": {},
   "outputs": [],
   "source": []
  },
  {
   "cell_type": "code",
   "execution_count": null,
   "metadata": {},
   "outputs": [],
   "source": []
  },
  {
   "cell_type": "code",
   "execution_count": null,
   "metadata": {},
   "outputs": [],
   "source": []
  }
 ],
 "metadata": {
  "kernelspec": {
   "display_name": "Python 3",
   "language": "python",
   "name": "python3"
  },
  "language_info": {
   "codemirror_mode": {
    "name": "ipython",
    "version": 3
   },
   "file_extension": ".py",
   "mimetype": "text/x-python",
   "name": "python",
   "nbconvert_exporter": "python",
   "pygments_lexer": "ipython3",
   "version": "3.7.3"
  }
 },
 "nbformat": 4,
 "nbformat_minor": 2
}
