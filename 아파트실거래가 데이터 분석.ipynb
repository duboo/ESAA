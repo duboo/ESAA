{
 "cells": [
  {
   "cell_type": "code",
   "execution_count": 3,
   "metadata": {},
   "outputs": [],
   "source": [
    "from pandas import *\n",
    "import pandas as pd\n",
    "import numpy as np\n",
    "import seaborn as sns\n",
    "import matplotlib.pyplot as plt\n",
    "import matplotlib.font_manager as fm\n",
    "from sklearn.linear_model import LinearRegression"
   ]
  },
  {
   "cell_type": "markdown",
   "metadata": {},
   "source": [
    "# 데이터 불러오기"
   ]
  },
  {
   "cell_type": "code",
   "execution_count": 4,
   "metadata": {},
   "outputs": [
    {
     "name": "stderr",
     "output_type": "stream",
     "text": [
      "/Users/kimhyunkyung/anaconda3/lib/python3.7/site-packages/IPython/core/interactiveshell.py:3057: DtypeWarning: Columns (2) have mixed types. Specify dtype option on import or set low_memory=False.\n",
      "  interactivity=interactivity, compiler=compiler, result=result)\n"
     ]
    }
   ],
   "source": [
    "apt2017_1 = pd.read_csv('./2017-1_apt.csv', thousands = ',') # thousands = ',' : 천 단위 자리 구분 기호 없애고 가져오기\n",
    "apt2017_2 = pd.read_csv('./2017-2_apt.csv', thousands = ',')\n",
    "apt2017_3 = pd.read_csv('./2017-3_apt.csv', thousands = ',')\n",
    "apt2017_4 = pd.read_csv('./2017-4_apt.csv', thousands = ',')\n",
    "apt2017_5 = pd.read_csv('./2017-5_apt.csv', thousands = ',')\n",
    "apt2017_6 = pd.read_csv('./2017-6_apt.csv', thousands = ',')\n",
    "apt2017_7 = pd.read_csv('./2017-7_apt.csv', thousands = ',')\n",
    "apt2017_8 = pd.read_csv('./2017-8_apt.csv', thousands = ',')\n",
    "apt2017_9 = pd.read_csv('./2017-9_apt.csv', thousands = ',')\n",
    "apt2017_10 = pd.read_csv('./2017-10_apt.csv', thousands = ',')\n",
    "apt2017_11 = pd.read_csv('./2017-11_apt.csv', thousands = ',')\n",
    "apt2017_12 = pd.read_csv('./2017-12_apt.csv', thousands = ',')\n",
    "\n",
    "apt2018_1 = pd.read_csv('./2018-1_apt.csv', thousands = ',')\n",
    "apt2018_2 = pd.read_csv('./2018-2_apt.csv', thousands = ',')\n",
    "apt2018_3 = pd.read_csv('./2018-3_apt.csv', thousands = ',')\n",
    "apt2018_4 = pd.read_csv('./2018-4_apt.csv', thousands = ',')\n",
    "apt2018_5 = pd.read_csv('./2018-5_apt.csv', thousands = ',')\n",
    "apt2018_6 = pd.read_csv('./2018-6_apt.csv', thousands = ',')\n",
    "apt2018_7 = pd.read_csv('./2018-7_apt.csv', thousands = ',')\n",
    "apt2018_8 = pd.read_csv('./2018-8_apt.csv', thousands = ',')\n",
    "apt2018_9 = pd.read_csv('./2018-9_apt.csv', thousands = ',')\n",
    "apt2018_10 = pd.read_csv('./2018-10_apt.csv', thousands = ',')\n",
    "apt2018_11 = pd.read_csv('./2018-11_apt.csv', thousands = ',')\n",
    "apt2018_12 = pd.read_csv('./2018-12_apt.csv', thousands = ',')\n",
    "\n",
    "apt2019_1 = pd.read_csv('./2019-1_apt.csv', thousands = ',')\n",
    "apt2019_2 = pd.read_csv('./2019-2_apt.csv', thousands = ',')\n",
    "apt2019_3 = pd.read_csv('./2019-3_apt.csv', thousands = ',')\n",
    "apt2019_4 = pd.read_csv('./2019-4_apt.csv', thousands = ',')\n",
    "apt2019_5 = pd.read_csv('./2019-5_apt.csv', thousands = ',')\n",
    "apt2019_6 = pd.read_csv('./2019-6_apt.csv', thousands = ',')\n",
    "apt2019_7 = pd.read_csv('./2019-7_apt.csv', thousands = ',')\n",
    "apt2019_8 = pd.read_csv('./2019-8_apt.csv', thousands = ',')\n",
    "apt2019_9 = pd.read_csv('./2019-9_apt.csv', thousands = ',')\n",
    "apt2019_10 = pd.read_csv('./2019-10_apt.csv', thousands = ',')\n",
    "apt2019_11 = pd.read_csv('./2019-11_apt.csv', thousands = ',')\n",
    "apt2019_12 = pd.read_csv('./2019-12_apt.csv', thousands = ',')\n"
   ]
  },
  {
   "cell_type": "code",
   "execution_count": 5,
   "metadata": {},
   "outputs": [],
   "source": [
    "apt2017 = pd.concat([apt2017_1, apt2017_2, apt2017_3, apt2017_4, apt2017_5, apt2017_6, apt2017_7, apt2017_8, apt2017_9, apt2017_10, apt2017_11, apt2017_12])\n",
    "apt2018 = pd.concat([apt2018_1, apt2018_2, apt2018_3, apt2018_4, apt2018_5, apt2018_6, apt2018_7, apt2018_8, apt2018_9, apt2018_10, apt2018_11, apt2018_12])\n",
    "apt2019 = pd.concat([apt2019_1, apt2019_2, apt2019_3, apt2019_4, apt2019_5, apt2019_6, apt2019_7, apt2019_8, apt2019_9, apt2019_10, apt2019_11, apt2019_12])\n"
   ]
  },
  {
   "cell_type": "code",
   "execution_count": 6,
   "metadata": {},
   "outputs": [
    {
     "data": {
      "text/html": [
       "<div>\n",
       "<style scoped>\n",
       "    .dataframe tbody tr th:only-of-type {\n",
       "        vertical-align: middle;\n",
       "    }\n",
       "\n",
       "    .dataframe tbody tr th {\n",
       "        vertical-align: top;\n",
       "    }\n",
       "\n",
       "    .dataframe thead th {\n",
       "        text-align: right;\n",
       "    }\n",
       "</style>\n",
       "<table border=\"1\" class=\"dataframe\">\n",
       "  <thead>\n",
       "    <tr style=\"text-align: right;\">\n",
       "      <th></th>\n",
       "      <th>시군구</th>\n",
       "      <th>번지</th>\n",
       "      <th>본번</th>\n",
       "      <th>부번</th>\n",
       "      <th>단지명</th>\n",
       "      <th>전용면적(㎡)</th>\n",
       "      <th>계약년월</th>\n",
       "      <th>계약일</th>\n",
       "      <th>거래금액(만원)</th>\n",
       "      <th>층</th>\n",
       "      <th>건축년도</th>\n",
       "      <th>도로명</th>\n",
       "    </tr>\n",
       "  </thead>\n",
       "  <tbody>\n",
       "    <tr>\n",
       "      <th>0</th>\n",
       "      <td>강원도 강릉시 견소동</td>\n",
       "      <td>202</td>\n",
       "      <td>202</td>\n",
       "      <td>0</td>\n",
       "      <td>송정한신</td>\n",
       "      <td>59.8000</td>\n",
       "      <td>201701</td>\n",
       "      <td>10</td>\n",
       "      <td>12400</td>\n",
       "      <td>8</td>\n",
       "      <td>1997</td>\n",
       "      <td>경강로2539번길 8</td>\n",
       "    </tr>\n",
       "    <tr>\n",
       "      <th>1</th>\n",
       "      <td>강원도 강릉시 견소동</td>\n",
       "      <td>289</td>\n",
       "      <td>289</td>\n",
       "      <td>0</td>\n",
       "      <td>송정해변신도브래뉴아파트</td>\n",
       "      <td>84.9900</td>\n",
       "      <td>201701</td>\n",
       "      <td>3</td>\n",
       "      <td>23000</td>\n",
       "      <td>13</td>\n",
       "      <td>2005</td>\n",
       "      <td>경강로2539번길 22</td>\n",
       "    </tr>\n",
       "    <tr>\n",
       "      <th>2</th>\n",
       "      <td>강원도 강릉시 견소동</td>\n",
       "      <td>289</td>\n",
       "      <td>289</td>\n",
       "      <td>0</td>\n",
       "      <td>송정해변신도브래뉴아파트</td>\n",
       "      <td>59.9900</td>\n",
       "      <td>201701</td>\n",
       "      <td>4</td>\n",
       "      <td>15800</td>\n",
       "      <td>9</td>\n",
       "      <td>2005</td>\n",
       "      <td>경강로2539번길 22</td>\n",
       "    </tr>\n",
       "    <tr>\n",
       "      <th>3</th>\n",
       "      <td>강원도 강릉시 견소동</td>\n",
       "      <td>289</td>\n",
       "      <td>289</td>\n",
       "      <td>0</td>\n",
       "      <td>송정해변신도브래뉴아파트</td>\n",
       "      <td>59.9900</td>\n",
       "      <td>201701</td>\n",
       "      <td>21</td>\n",
       "      <td>14000</td>\n",
       "      <td>1</td>\n",
       "      <td>2005</td>\n",
       "      <td>경강로2539번길 22</td>\n",
       "    </tr>\n",
       "    <tr>\n",
       "      <th>4</th>\n",
       "      <td>강원도 강릉시 교동</td>\n",
       "      <td>1983</td>\n",
       "      <td>1983</td>\n",
       "      <td>0</td>\n",
       "      <td>강릉교동롯데캐슬2단지</td>\n",
       "      <td>84.9855</td>\n",
       "      <td>201701</td>\n",
       "      <td>5</td>\n",
       "      <td>27250</td>\n",
       "      <td>11</td>\n",
       "      <td>2009</td>\n",
       "      <td>화부산로111번길 24</td>\n",
       "    </tr>\n",
       "  </tbody>\n",
       "</table>\n",
       "</div>"
      ],
      "text/plain": [
       "           시군구    번지    본번  부번           단지명  전용면적(㎡)    계약년월  계약일  거래금액(만원)  \\\n",
       "0  강원도 강릉시 견소동   202   202   0          송정한신  59.8000  201701   10     12400   \n",
       "1  강원도 강릉시 견소동   289   289   0  송정해변신도브래뉴아파트  84.9900  201701    3     23000   \n",
       "2  강원도 강릉시 견소동   289   289   0  송정해변신도브래뉴아파트  59.9900  201701    4     15800   \n",
       "3  강원도 강릉시 견소동   289   289   0  송정해변신도브래뉴아파트  59.9900  201701   21     14000   \n",
       "4   강원도 강릉시 교동  1983  1983   0   강릉교동롯데캐슬2단지  84.9855  201701    5     27250   \n",
       "\n",
       "    층  건축년도           도로명  \n",
       "0   8  1997   경강로2539번길 8  \n",
       "1  13  2005  경강로2539번길 22  \n",
       "2   9  2005  경강로2539번길 22  \n",
       "3   1  2005  경강로2539번길 22  \n",
       "4  11  2009  화부산로111번길 24  "
      ]
     },
     "execution_count": 6,
     "metadata": {},
     "output_type": "execute_result"
    }
   ],
   "source": [
    "apt2017.head()"
   ]
  },
  {
   "cell_type": "code",
   "execution_count": 7,
   "metadata": {
    "scrolled": true
   },
   "outputs": [
    {
     "data": {
      "text/html": [
       "<div>\n",
       "<style scoped>\n",
       "    .dataframe tbody tr th:only-of-type {\n",
       "        vertical-align: middle;\n",
       "    }\n",
       "\n",
       "    .dataframe tbody tr th {\n",
       "        vertical-align: top;\n",
       "    }\n",
       "\n",
       "    .dataframe thead th {\n",
       "        text-align: right;\n",
       "    }\n",
       "</style>\n",
       "<table border=\"1\" class=\"dataframe\">\n",
       "  <thead>\n",
       "    <tr style=\"text-align: right;\">\n",
       "      <th></th>\n",
       "      <th>시군구</th>\n",
       "      <th>번지</th>\n",
       "      <th>본번</th>\n",
       "      <th>부번</th>\n",
       "      <th>단지명</th>\n",
       "      <th>전용면적(㎡)</th>\n",
       "      <th>계약년월</th>\n",
       "      <th>계약일</th>\n",
       "      <th>거래금액(만원)</th>\n",
       "      <th>층</th>\n",
       "      <th>건축년도</th>\n",
       "      <th>도로명</th>\n",
       "    </tr>\n",
       "  </thead>\n",
       "  <tbody>\n",
       "    <tr>\n",
       "      <th>40188</th>\n",
       "      <td>충청북도 충주시 호암동</td>\n",
       "      <td>547-6</td>\n",
       "      <td>547</td>\n",
       "      <td>6</td>\n",
       "      <td>호반현대</td>\n",
       "      <td>84.9600</td>\n",
       "      <td>201712</td>\n",
       "      <td>11</td>\n",
       "      <td>10200</td>\n",
       "      <td>1</td>\n",
       "      <td>1994</td>\n",
       "      <td>신촌2길 29</td>\n",
       "    </tr>\n",
       "    <tr>\n",
       "      <th>40189</th>\n",
       "      <td>충청북도 충주시 호암동</td>\n",
       "      <td>547-6</td>\n",
       "      <td>547</td>\n",
       "      <td>6</td>\n",
       "      <td>호반현대</td>\n",
       "      <td>84.9600</td>\n",
       "      <td>201712</td>\n",
       "      <td>12</td>\n",
       "      <td>12300</td>\n",
       "      <td>2</td>\n",
       "      <td>1994</td>\n",
       "      <td>신촌2길 29</td>\n",
       "    </tr>\n",
       "    <tr>\n",
       "      <th>40190</th>\n",
       "      <td>충청북도 충주시 호암동</td>\n",
       "      <td>547-6</td>\n",
       "      <td>547</td>\n",
       "      <td>6</td>\n",
       "      <td>호반현대</td>\n",
       "      <td>59.7600</td>\n",
       "      <td>201712</td>\n",
       "      <td>19</td>\n",
       "      <td>7500</td>\n",
       "      <td>1</td>\n",
       "      <td>1994</td>\n",
       "      <td>신촌2길 28</td>\n",
       "    </tr>\n",
       "    <tr>\n",
       "      <th>40191</th>\n",
       "      <td>충청북도 충주시 호암동</td>\n",
       "      <td>905</td>\n",
       "      <td>905</td>\n",
       "      <td>0</td>\n",
       "      <td>호암동수채</td>\n",
       "      <td>84.9254</td>\n",
       "      <td>201712</td>\n",
       "      <td>1</td>\n",
       "      <td>19000</td>\n",
       "      <td>4</td>\n",
       "      <td>2007</td>\n",
       "      <td>호암중앙1로 47</td>\n",
       "    </tr>\n",
       "    <tr>\n",
       "      <th>40192</th>\n",
       "      <td>충청북도 충주시 호암동</td>\n",
       "      <td>221-23</td>\n",
       "      <td>221</td>\n",
       "      <td>23</td>\n",
       "      <td>호암리버빌(1단지)</td>\n",
       "      <td>84.6800</td>\n",
       "      <td>201712</td>\n",
       "      <td>25</td>\n",
       "      <td>15000</td>\n",
       "      <td>7</td>\n",
       "      <td>2002</td>\n",
       "      <td>원호암5길 32</td>\n",
       "    </tr>\n",
       "  </tbody>\n",
       "</table>\n",
       "</div>"
      ],
      "text/plain": [
       "                시군구      번지   본번  부번         단지명  전용면적(㎡)    계약년월  계약일  \\\n",
       "40188  충청북도 충주시 호암동   547-6  547   6        호반현대  84.9600  201712   11   \n",
       "40189  충청북도 충주시 호암동   547-6  547   6        호반현대  84.9600  201712   12   \n",
       "40190  충청북도 충주시 호암동   547-6  547   6        호반현대  59.7600  201712   19   \n",
       "40191  충청북도 충주시 호암동     905  905   0       호암동수채  84.9254  201712    1   \n",
       "40192  충청북도 충주시 호암동  221-23  221  23  호암리버빌(1단지)  84.6800  201712   25   \n",
       "\n",
       "       거래금액(만원)  층  건축년도        도로명  \n",
       "40188     10200  1  1994    신촌2길 29  \n",
       "40189     12300  2  1994    신촌2길 29  \n",
       "40190      7500  1  1994    신촌2길 28  \n",
       "40191     19000  4  2007  호암중앙1로 47  \n",
       "40192     15000  7  2002   원호암5길 32  "
      ]
     },
     "execution_count": 7,
     "metadata": {},
     "output_type": "execute_result"
    }
   ],
   "source": [
    "apt2017.tail()"
   ]
  },
  {
   "cell_type": "code",
   "execution_count": 8,
   "metadata": {},
   "outputs": [
    {
     "name": "stdout",
     "output_type": "stream",
     "text": [
      "<class 'pandas.core.frame.DataFrame'>\n",
      "Int64Index: 570324 entries, 0 to 40192\n",
      "Data columns (total 12 columns):\n",
      "시군구         570324 non-null object\n",
      "번지          570232 non-null object\n",
      "본번          570324 non-null object\n",
      "부번          570324 non-null int64\n",
      "단지명         570324 non-null object\n",
      "전용면적(㎡)     570324 non-null float64\n",
      "계약년월        570324 non-null int64\n",
      "계약일         570324 non-null int64\n",
      "거래금액(만원)    570324 non-null int64\n",
      "층           570324 non-null int64\n",
      "건축년도        570324 non-null int64\n",
      "도로명         570324 non-null object\n",
      "dtypes: float64(1), int64(6), object(5)\n",
      "memory usage: 56.6+ MB\n"
     ]
    }
   ],
   "source": [
    "apt2017.info()"
   ]
  },
  {
   "cell_type": "markdown",
   "metadata": {},
   "source": [
    "# 데이터 전처리"
   ]
  },
  {
   "cell_type": "code",
   "execution_count": 9,
   "metadata": {
    "scrolled": true
   },
   "outputs": [],
   "source": [
    "# 자료형 바꿔주기 (특히, 숫자인데 object로 되어있는 변수들 -> int 혹은 float으로 바꾸기)\n",
    "apt2017[\"전용면적(㎡)\"] = apt2017[\"전용면적(㎡)\"].astype(float)\n",
    "apt2017[\"층\"] = apt2017[\"층\"].astype(int)\n",
    "\n",
    "# 거래금액(만원) 열에 있는 문자 \",\" 제거하고 숫자형으로 변환\n",
    "apt2017[\"거래금액(만원)\"] = apt2017[\"거래금액(만원)\"].astype(int)"
   ]
  },
  {
   "cell_type": "code",
   "execution_count": 10,
   "metadata": {},
   "outputs": [
    {
     "name": "stdout",
     "output_type": "stream",
     "text": [
      "<class 'pandas.core.frame.DataFrame'>\n",
      "Int64Index: 570324 entries, 0 to 40192\n",
      "Data columns (total 12 columns):\n",
      "시군구         570324 non-null object\n",
      "번지          570232 non-null object\n",
      "본번          570324 non-null object\n",
      "부번          570324 non-null int64\n",
      "단지명         570324 non-null object\n",
      "전용면적(㎡)     570324 non-null float64\n",
      "계약년월        570324 non-null int64\n",
      "계약일         570324 non-null int64\n",
      "거래금액(만원)    570324 non-null int64\n",
      "층           570324 non-null int64\n",
      "건축년도        570324 non-null int64\n",
      "도로명         570324 non-null object\n",
      "dtypes: float64(1), int64(6), object(5)\n",
      "memory usage: 56.6+ MB\n"
     ]
    }
   ],
   "source": [
    "apt2017.info()"
   ]
  },
  {
   "cell_type": "code",
   "execution_count": 11,
   "metadata": {},
   "outputs": [
    {
     "data": {
      "text/plain": [
       "시군구          0\n",
       "번지          92\n",
       "본번           0\n",
       "부번           0\n",
       "단지명          0\n",
       "전용면적(㎡)      0\n",
       "계약년월         0\n",
       "계약일          0\n",
       "거래금액(만원)     0\n",
       "층            0\n",
       "건축년도         0\n",
       "도로명          0\n",
       "dtype: int64"
      ]
     },
     "execution_count": 11,
     "metadata": {},
     "output_type": "execute_result"
    }
   ],
   "source": [
    "# 2017년도 데이터 결측치 개수 확인\n",
    "apt2017.isnull().sum()"
   ]
  },
  {
   "cell_type": "code",
   "execution_count": 12,
   "metadata": {},
   "outputs": [
    {
     "data": {
      "text/plain": [
       "시군구          0\n",
       "번지          43\n",
       "본번           0\n",
       "부번           0\n",
       "단지명          0\n",
       "전용면적(㎡)      0\n",
       "계약년월         0\n",
       "계약일          0\n",
       "거래금액(만원)     0\n",
       "층            0\n",
       "건축년도         0\n",
       "도로명          0\n",
       "dtype: int64"
      ]
     },
     "execution_count": 12,
     "metadata": {},
     "output_type": "execute_result"
    }
   ],
   "source": [
    "# 2018년도 데이터 결측치 개수 확인\n",
    "apt2018.isnull().sum()"
   ]
  },
  {
   "cell_type": "code",
   "execution_count": 13,
   "metadata": {},
   "outputs": [
    {
     "data": {
      "text/plain": [
       "시군구          0\n",
       "번지          52\n",
       "본번           0\n",
       "부번           0\n",
       "단지명          0\n",
       "전용면적(㎡)      0\n",
       "계약년월         0\n",
       "계약일          0\n",
       "거래금액(만원)     0\n",
       "층            0\n",
       "건축년도         0\n",
       "도로명          0\n",
       "dtype: int64"
      ]
     },
     "execution_count": 13,
     "metadata": {},
     "output_type": "execute_result"
    }
   ],
   "source": [
    "# 2019년도 데이터 결측치 개수 확인\n",
    "apt2019.isnull().sum()"
   ]
  },
  {
   "cell_type": "markdown",
   "metadata": {},
   "source": [
    "다행히도 2017,2018,2018년도 모두 번지를 나타내는 열 외에는 결측치 없음."
   ]
  },
  {
   "cell_type": "markdown",
   "metadata": {},
   "source": [
    "# ============================================================="
   ]
  },
  {
   "cell_type": "markdown",
   "metadata": {},
   "source": [
    "# 데이터 분석"
   ]
  },
  {
   "cell_type": "markdown",
   "metadata": {},
   "source": [
    "# ============================================================="
   ]
  },
  {
   "cell_type": "markdown",
   "metadata": {},
   "source": [
    "# 건축년도 별 거래금액 평균"
   ]
  },
  {
   "cell_type": "code",
   "execution_count": 14,
   "metadata": {
    "scrolled": true
   },
   "outputs": [
    {
     "data": {
      "text/plain": [
       "31351.560281524187"
      ]
     },
     "execution_count": 14,
     "metadata": {},
     "output_type": "execute_result"
    }
   ],
   "source": [
    "apt2017[\"거래금액(만원)\"].mean() # 2017년 => 약 3억1천만원"
   ]
  },
  {
   "cell_type": "code",
   "execution_count": 15,
   "metadata": {},
   "outputs": [
    {
     "data": {
      "text/plain": [
       "32423.816074368813"
      ]
     },
     "execution_count": 15,
     "metadata": {},
     "output_type": "execute_result"
    }
   ],
   "source": [
    "apt2018[\"거래금액(만원)\"].mean() # 2018년 => 약 3억2천만원"
   ]
  },
  {
   "cell_type": "code",
   "execution_count": 16,
   "metadata": {},
   "outputs": [
    {
     "data": {
      "text/plain": [
       "34749.826863827795"
      ]
     },
     "execution_count": 16,
     "metadata": {},
     "output_type": "execute_result"
    }
   ],
   "source": [
    "apt2019[\"거래금액(만원)\"].mean() # 2019년 => 약 3억4천만원"
   ]
  },
  {
   "cell_type": "markdown",
   "metadata": {},
   "source": [
    "시간이 지날수록 거래금액 평균이 조금씩 증가하는 것을 알 수 있음."
   ]
  },
  {
   "cell_type": "code",
   "execution_count": 17,
   "metadata": {},
   "outputs": [
    {
     "name": "stderr",
     "output_type": "stream",
     "text": [
      "/Users/kimhyunkyung/anaconda3/lib/python3.7/site-packages/matplotlib/backends/backend_agg.py:211: RuntimeWarning: Glyph 44144 missing from current font.\n",
      "  font.set_text(s, 0.0, flags=flags)\n",
      "/Users/kimhyunkyung/anaconda3/lib/python3.7/site-packages/matplotlib/backends/backend_agg.py:211: RuntimeWarning: Glyph 47000 missing from current font.\n",
      "  font.set_text(s, 0.0, flags=flags)\n",
      "/Users/kimhyunkyung/anaconda3/lib/python3.7/site-packages/matplotlib/backends/backend_agg.py:211: RuntimeWarning: Glyph 44552 missing from current font.\n",
      "  font.set_text(s, 0.0, flags=flags)\n",
      "/Users/kimhyunkyung/anaconda3/lib/python3.7/site-packages/matplotlib/backends/backend_agg.py:211: RuntimeWarning: Glyph 50529 missing from current font.\n",
      "  font.set_text(s, 0.0, flags=flags)\n",
      "/Users/kimhyunkyung/anaconda3/lib/python3.7/site-packages/matplotlib/backends/backend_agg.py:211: RuntimeWarning: Glyph 47564 missing from current font.\n",
      "  font.set_text(s, 0.0, flags=flags)\n",
      "/Users/kimhyunkyung/anaconda3/lib/python3.7/site-packages/matplotlib/backends/backend_agg.py:211: RuntimeWarning: Glyph 50896 missing from current font.\n",
      "  font.set_text(s, 0.0, flags=flags)\n",
      "/Users/kimhyunkyung/anaconda3/lib/python3.7/site-packages/matplotlib/backends/backend_agg.py:180: RuntimeWarning: Glyph 44144 missing from current font.\n",
      "  font.set_text(s, 0, flags=flags)\n",
      "/Users/kimhyunkyung/anaconda3/lib/python3.7/site-packages/matplotlib/backends/backend_agg.py:180: RuntimeWarning: Glyph 47000 missing from current font.\n",
      "  font.set_text(s, 0, flags=flags)\n",
      "/Users/kimhyunkyung/anaconda3/lib/python3.7/site-packages/matplotlib/backends/backend_agg.py:180: RuntimeWarning: Glyph 44552 missing from current font.\n",
      "  font.set_text(s, 0, flags=flags)\n",
      "/Users/kimhyunkyung/anaconda3/lib/python3.7/site-packages/matplotlib/backends/backend_agg.py:180: RuntimeWarning: Glyph 50529 missing from current font.\n",
      "  font.set_text(s, 0, flags=flags)\n",
      "/Users/kimhyunkyung/anaconda3/lib/python3.7/site-packages/matplotlib/backends/backend_agg.py:180: RuntimeWarning: Glyph 47564 missing from current font.\n",
      "  font.set_text(s, 0, flags=flags)\n",
      "/Users/kimhyunkyung/anaconda3/lib/python3.7/site-packages/matplotlib/backends/backend_agg.py:180: RuntimeWarning: Glyph 50896 missing from current font.\n",
      "  font.set_text(s, 0, flags=flags)\n",
      "/Users/kimhyunkyung/anaconda3/lib/python3.7/site-packages/matplotlib/backends/backend_agg.py:211: RuntimeWarning: Glyph 45380 missing from current font.\n",
      "  font.set_text(s, 0.0, flags=flags)\n",
      "/Users/kimhyunkyung/anaconda3/lib/python3.7/site-packages/matplotlib/backends/backend_agg.py:211: RuntimeWarning: Glyph 46020 missing from current font.\n",
      "  font.set_text(s, 0.0, flags=flags)\n",
      "/Users/kimhyunkyung/anaconda3/lib/python3.7/site-packages/matplotlib/backends/backend_agg.py:180: RuntimeWarning: Glyph 45380 missing from current font.\n",
      "  font.set_text(s, 0, flags=flags)\n",
      "/Users/kimhyunkyung/anaconda3/lib/python3.7/site-packages/matplotlib/backends/backend_agg.py:180: RuntimeWarning: Glyph 46020 missing from current font.\n",
      "  font.set_text(s, 0, flags=flags)\n"
     ]
    },
    {
     "data": {
      "image/png": "[encoded data removed]",
      "text/plain": [
       "<Figure size 432x288 with 1 Axes>"
      ]
     },
     "metadata": {
      "needs_background": "light"
     },
     "output_type": "display_data"
    }
   ],
   "source": [
    "# 년도별 거래금액 분포 비교\n",
    "sns.distplot(apt2017[\"거래금액(만원)\"], color=\"blue\", label=\"2017년\")\n",
    "sns.distplot(apt2018[\"거래금액(만원)\"], color=\"red\", label=\"2018년\")\n",
    "sns.distplot(apt2019[\"거래금액(만원)\"], color=\"green\", label=\"2019년\")\n",
    "\n",
    "plt.legend(title=\"년도\")\n",
    "plt.show()"
   ]
  },
  {
   "cell_type": "code",
   "execution_count": 18,
   "metadata": {
    "scrolled": true
   },
   "outputs": [
    {
     "data": {
      "image/png": "[encoded data removed]",
      "text/plain": [
       "<Figure size 432x288 with 1 Axes>"
      ]
     },
     "metadata": {
      "needs_background": "light"
     },
     "output_type": "display_data"
    }
   ],
   "source": [
    "# 잘 안보이기 때문에 확대해서 보기\n",
    "sns.distplot(apt2017[\"거래금액(만원)\"], color=\"blue\", label=\"2017년\")\n",
    "sns.distplot(apt2018[\"거래금액(만원)\"], color=\"red\", label=\"2018년\")\n",
    "sns.distplot(apt2019[\"거래금액(만원)\"], color=\"green\", label=\"2019년\")\n",
    "\n",
    "plt.xlim(0,150000)\n",
    "plt.legend(title=\"년도\")\n",
    "plt.show()"
   ]
  },
  {
   "cell_type": "code",
   "execution_count": 19,
   "metadata": {},
   "outputs": [
    {
     "data": {
      "image/png": "[encoded data removed]",
      "text/plain": [
       "<Figure size 432x288 with 1 Axes>"
      ]
     },
     "metadata": {
      "needs_background": "light"
     },
     "output_type": "display_data"
    }
   ],
   "source": [
    "# 더 확대\n",
    "sns.distplot(apt2017[\"거래금액(만원)\"], color=\"blue\", label=\"2017년\")\n",
    "sns.distplot(apt2018[\"거래금액(만원)\"], color=\"red\", label=\"2018년\")\n",
    "sns.distplot(apt2019[\"거래금액(만원)\"], color=\"green\", label=\"2019년\")\n",
    "\n",
    "plt.xlim(0,100000)\n",
    "plt.legend(title=\"년도\")\n",
    "plt.show()"
   ]
  },
  {
   "cell_type": "markdown",
   "metadata": {},
   "source": [
    "2017, 2018, 2019년도의 거래금액 분포 자체는 비슷함.\n",
    "그런데 자세히 보면 2017, 2018년도에는 약 6억 정도까지의 금액으로 거래된 아파트들의 2019년보다 비교적 많음. \n",
    "2019년은 2017, 2018년보다 저렴한 가격대에 거래된 아파트 수보다 비교적 높은 가격대에 거래된 아파트의 수가 많은 것을 알 수 있음."
   ]
  },
  {
   "cell_type": "markdown",
   "metadata": {},
   "source": [
    "# 건축년도에 따른 층별 거래금액 평균"
   ]
  },
  {
   "cell_type": "markdown",
   "metadata": {},
   "source": [
    "## 2017 년"
   ]
  },
  {
   "cell_type": "code",
   "execution_count": 20,
   "metadata": {
    "scrolled": true
   },
   "outputs": [
    {
     "data": {
      "text/plain": [
       "-3"
      ]
     },
     "execution_count": 20,
     "metadata": {},
     "output_type": "execute_result"
    }
   ],
   "source": [
    "min(apt2017['층'])"
   ]
  },
  {
   "cell_type": "code",
   "execution_count": 21,
   "metadata": {
    "scrolled": true
   },
   "outputs": [
    {
     "data": {
      "text/plain": [
       "77"
      ]
     },
     "execution_count": 21,
     "metadata": {},
     "output_type": "execute_result"
    }
   ],
   "source": [
    "max(apt2017['층'])"
   ]
  },
  {
   "cell_type": "code",
   "execution_count": 22,
   "metadata": {},
   "outputs": [
    {
     "data": {
      "text/plain": [
       "[70500.0,\n",
       " nan,\n",
       " 64384.0,\n",
       " nan,\n",
       " 26084.263350105502,\n",
       " 27216.522926093516,\n",
       " 27731.668026492607,\n",
       " 27703.237733549005,\n",
       " 27861.61285935375,\n",
       " 30547.28833197816,\n",
       " 31307.05501568362,\n",
       " 31443.55303686294,\n",
       " 31484.07699405046,\n",
       " 31531.145751889497,\n",
       " 31937.914555544066,\n",
       " 31989.270096348704,\n",
       " 31836.919756838906,\n",
       " 31933.656374953625,\n",
       " 31531.235844928677,\n",
       " 36233.09065428045,\n",
       " 36198.191081722616,\n",
       " 36877.82545589877,\n",
       " 38357.345834294945,\n",
       " 38351.471823354106,\n",
       " 44340.37898439218,\n",
       " 43623.19217603912,\n",
       " 44203.91313891502,\n",
       " 46182.843078083744,\n",
       " 48412.776459854016,\n",
       " 57322.532990574124,\n",
       " 59726.166328600404,\n",
       " 60880.929049531456,\n",
       " 66440.05736434109,\n",
       " 59888.56497175141,\n",
       " 65226.17251461988,\n",
       " 71830.50324675324,\n",
       " 69268.03125,\n",
       " 75035.02702702703,\n",
       " 81413.05418719212,\n",
       " 84372.98203592814,\n",
       " 66449.44217687075,\n",
       " 76631.10256410256,\n",
       " 71874.29203539823,\n",
       " 70549.63541666667,\n",
       " 74548.18823529412,\n",
       " 75016.01298701299,\n",
       " 85171.53225806452,\n",
       " 91788.09836065574,\n",
       " 87457.42857142857,\n",
       " 104987.35483870968,\n",
       " 75826.8,\n",
       " 117674.58064516129,\n",
       " 89318.78787878787,\n",
       " 78590.0,\n",
       " 85097.5,\n",
       " 77806.0,\n",
       " 81475.82608695653,\n",
       " 88672.36842105263,\n",
       " 87660.15384615384,\n",
       " 75786.76923076923,\n",
       " 97698.94117647059,\n",
       " 123751.72727272728,\n",
       " 96966.66666666667,\n",
       " 140576.0,\n",
       " 125600.0,\n",
       " 161435.0,\n",
       " 173235.0,\n",
       " 137122.5,\n",
       " 150089.33333333334,\n",
       " 124500.0,\n",
       " 207670.0,\n",
       " 187820.0,\n",
       " 110000.0,\n",
       " 180260.0,\n",
       " 192970.0,\n",
       " 290506.6666666667,\n",
       " 219820.0,\n",
       " 334990.0,\n",
       " nan,\n",
       " 350340.0,\n",
       " 339690.0]"
      ]
     },
     "execution_count": 22,
     "metadata": {},
     "output_type": "execute_result"
    }
   ],
   "source": [
    "# 모든 층수에 대한 각각의 평균을 변수에 할당하고 리스트로 저장\n",
    "\n",
    "floor_F3 = apt2017[apt2017['층'] == -3][\"거래금액(만원)\"].mean()\n",
    "floor_F2 = apt2017[apt2017['층'] == -2][\"거래금액(만원)\"].mean()\n",
    "floor_F1 = apt2017[apt2017['층'] == -1][\"거래금액(만원)\"].mean()\n",
    "\n",
    "floor = []\n",
    "for i in range(0,78):\n",
    "    globals()['floor_{}'.format(i)] = apt2017[apt2017['층'] == i][\"거래금액(만원)\"].mean()\n",
    "    floor.append(globals()['floor_{}'.format(i)])\n",
    "\n",
    "floor = [floor_F3, floor_F2, floor_F1] + floor\n",
    "floor"
   ]
  },
  {
   "cell_type": "code",
   "execution_count": 23,
   "metadata": {
    "scrolled": true
   },
   "outputs": [
    {
     "data": {
      "image/png": "[encoded data removed]",
      "text/plain": [
       "<Figure size 1656x288 with 1 Axes>"
      ]
     },
     "metadata": {
      "needs_background": "light"
     },
     "output_type": "display_data"
    }
   ],
   "source": [
    "plt.rcParams[\"figure.figsize\"] = (23,4)\n",
    "plt.bar(range(-3,78), floor)\n",
    "plt.xticks(np.arange(-3,78, step=1))\n",
    "plt.show()"
   ]
  },
  {
   "cell_type": "code",
   "execution_count": null,
   "metadata": {},
   "outputs": [],
   "source": []
  },
  {
   "cell_type": "markdown",
   "metadata": {},
   "source": [
    "## 2018 년"
   ]
  },
  {
   "cell_type": "code",
   "execution_count": 24,
   "metadata": {},
   "outputs": [
    {
     "data": {
      "text/plain": [
       "-3"
      ]
     },
     "execution_count": 24,
     "metadata": {},
     "output_type": "execute_result"
    }
   ],
   "source": [
    "min(apt2018['층'])"
   ]
  },
  {
   "cell_type": "code",
   "execution_count": 25,
   "metadata": {},
   "outputs": [
    {
     "data": {
      "text/plain": [
       "75"
      ]
     },
     "execution_count": 25,
     "metadata": {},
     "output_type": "execute_result"
    }
   ],
   "source": [
    "max(apt2018['층'])"
   ]
  },
  {
   "cell_type": "code",
   "execution_count": 26,
   "metadata": {},
   "outputs": [],
   "source": [
    "# 모든 층수에 대한 각각의 평균을 변수에 할당하고 리스트로 저장\n",
    "\n",
    "floor_F3 = apt2018[apt2018['층'] == -3][\"거래금액(만원)\"].mean()\n",
    "floor_F2 = apt2018[apt2018['층'] == -2][\"거래금액(만원)\"].mean()\n",
    "floor_F1 = apt2018[apt2018['층'] == -1][\"거래금액(만원)\"].mean()\n",
    "\n",
    "floor = []\n",
    "for i in range(0,76):\n",
    "    globals()['floor_{}'.format(i)] = apt2018[apt2018['층'] == i][\"거래금액(만원)\"].mean()\n",
    "    floor.append(globals()['floor_{}'.format(i)])\n",
    "\n",
    "floor = [floor_F3, floor_F2, floor_F1] + floor"
   ]
  },
  {
   "cell_type": "code",
   "execution_count": 27,
   "metadata": {
    "scrolled": true
   },
   "outputs": [
    {
     "data": {
      "image/png": "[encoded data removed]",
      "text/plain": [
       "<Figure size 1656x288 with 1 Axes>"
      ]
     },
     "metadata": {
      "needs_background": "light"
     },
     "output_type": "display_data"
    }
   ],
   "source": [
    "plt.rcParams[\"figure.figsize\"] = (23,4)\n",
    "plt.bar(range(-3,76), floor)\n",
    "plt.xticks(np.arange(-3,76, step=1))\n",
    "plt.show()"
   ]
  },
  {
   "cell_type": "markdown",
   "metadata": {},
   "source": [
    "## 2019 년"
   ]
  },
  {
   "cell_type": "code",
   "execution_count": 28,
   "metadata": {},
   "outputs": [
    {
     "data": {
      "text/plain": [
       "-2"
      ]
     },
     "execution_count": 28,
     "metadata": {},
     "output_type": "execute_result"
    }
   ],
   "source": [
    "min(apt2019['층'])"
   ]
  },
  {
   "cell_type": "code",
   "execution_count": 29,
   "metadata": {},
   "outputs": [
    {
     "data": {
      "text/plain": [
       "77"
      ]
     },
     "execution_count": 29,
     "metadata": {},
     "output_type": "execute_result"
    }
   ],
   "source": [
    "max(apt2019['층'])"
   ]
  },
  {
   "cell_type": "code",
   "execution_count": 30,
   "metadata": {},
   "outputs": [],
   "source": [
    "# 모든 층수에 대한 각각의 평균을 변수에 할당하고 리스트로 저장\n",
    "\n",
    "floor_F2 = apt2019[apt2019['층'] == -2][\"거래금액(만원)\"].mean()\n",
    "floor_F1 = apt2019[apt2019['층'] == -1][\"거래금액(만원)\"].mean()\n",
    "\n",
    "floor = []\n",
    "for i in range(0,78):\n",
    "    globals()['floor_{}'.format(i)] = apt2019[apt2019['층'] == i][\"거래금액(만원)\"].mean()\n",
    "    floor.append(globals()['floor_{}'.format(i)])\n",
    "\n",
    "floor = [floor_F2, floor_F1] + floor"
   ]
  },
  {
   "cell_type": "code",
   "execution_count": 31,
   "metadata": {
    "scrolled": false
   },
   "outputs": [
    {
     "data": {
      "image/png": "[encoded data removed]",
      "text/plain": [
       "<Figure size 1656x288 with 1 Axes>"
      ]
     },
     "metadata": {
      "needs_background": "light"
     },
     "output_type": "display_data"
    }
   ],
   "source": [
    "plt.rcParams[\"figure.figsize\"] = (23,4)\n",
    "plt.bar(range(-2,78), floor)\n",
    "plt.xticks(np.arange(-3,78, step=1))\n",
    "plt.show()"
   ]
  },
  {
   "cell_type": "markdown",
   "metadata": {},
   "source": [
    "# 년도에 따른 월별 거래량 비교"
   ]
  },
  {
   "cell_type": "markdown",
   "metadata": {},
   "source": [
    "## 2017 년"
   ]
  },
  {
   "cell_type": "code",
   "execution_count": 33,
   "metadata": {},
   "outputs": [],
   "source": [
    "apt2017[\"계약년월\"] = apt2017[\"계약년월\"].astype(str)\n",
    "apt2017[\"월\"] = apt2017[\"계약년월\"].str[4:]"
   ]
  },
  {
   "cell_type": "code",
   "execution_count": 34,
   "metadata": {
    "scrolled": true
   },
   "outputs": [
    {
     "data": {
      "text/html": [
       "<div>\n",
       "<style scoped>\n",
       "    .dataframe tbody tr th:only-of-type {\n",
       "        vertical-align: middle;\n",
       "    }\n",
       "\n",
       "    .dataframe tbody tr th {\n",
       "        vertical-align: top;\n",
       "    }\n",
       "\n",
       "    .dataframe thead th {\n",
       "        text-align: right;\n",
       "    }\n",
       "</style>\n",
       "<table border=\"1\" class=\"dataframe\">\n",
       "  <thead>\n",
       "    <tr style=\"text-align: right;\">\n",
       "      <th></th>\n",
       "      <th>시군구</th>\n",
       "      <th>번지</th>\n",
       "      <th>본번</th>\n",
       "      <th>부번</th>\n",
       "      <th>단지명</th>\n",
       "      <th>전용면적(㎡)</th>\n",
       "      <th>계약년월</th>\n",
       "      <th>계약일</th>\n",
       "      <th>거래금액(만원)</th>\n",
       "      <th>층</th>\n",
       "      <th>건축년도</th>\n",
       "      <th>도로명</th>\n",
       "      <th>월</th>\n",
       "    </tr>\n",
       "  </thead>\n",
       "  <tbody>\n",
       "    <tr>\n",
       "      <th>0</th>\n",
       "      <td>강원도 강릉시 견소동</td>\n",
       "      <td>202</td>\n",
       "      <td>202</td>\n",
       "      <td>0</td>\n",
       "      <td>송정한신</td>\n",
       "      <td>59.8000</td>\n",
       "      <td>201701</td>\n",
       "      <td>10</td>\n",
       "      <td>12400</td>\n",
       "      <td>8</td>\n",
       "      <td>1997</td>\n",
       "      <td>경강로2539번길 8</td>\n",
       "      <td>01</td>\n",
       "    </tr>\n",
       "    <tr>\n",
       "      <th>1</th>\n",
       "      <td>강원도 강릉시 견소동</td>\n",
       "      <td>289</td>\n",
       "      <td>289</td>\n",
       "      <td>0</td>\n",
       "      <td>송정해변신도브래뉴아파트</td>\n",
       "      <td>84.9900</td>\n",
       "      <td>201701</td>\n",
       "      <td>3</td>\n",
       "      <td>23000</td>\n",
       "      <td>13</td>\n",
       "      <td>2005</td>\n",
       "      <td>경강로2539번길 22</td>\n",
       "      <td>01</td>\n",
       "    </tr>\n",
       "    <tr>\n",
       "      <th>2</th>\n",
       "      <td>강원도 강릉시 견소동</td>\n",
       "      <td>289</td>\n",
       "      <td>289</td>\n",
       "      <td>0</td>\n",
       "      <td>송정해변신도브래뉴아파트</td>\n",
       "      <td>59.9900</td>\n",
       "      <td>201701</td>\n",
       "      <td>4</td>\n",
       "      <td>15800</td>\n",
       "      <td>9</td>\n",
       "      <td>2005</td>\n",
       "      <td>경강로2539번길 22</td>\n",
       "      <td>01</td>\n",
       "    </tr>\n",
       "    <tr>\n",
       "      <th>3</th>\n",
       "      <td>강원도 강릉시 견소동</td>\n",
       "      <td>289</td>\n",
       "      <td>289</td>\n",
       "      <td>0</td>\n",
       "      <td>송정해변신도브래뉴아파트</td>\n",
       "      <td>59.9900</td>\n",
       "      <td>201701</td>\n",
       "      <td>21</td>\n",
       "      <td>14000</td>\n",
       "      <td>1</td>\n",
       "      <td>2005</td>\n",
       "      <td>경강로2539번길 22</td>\n",
       "      <td>01</td>\n",
       "    </tr>\n",
       "    <tr>\n",
       "      <th>4</th>\n",
       "      <td>강원도 강릉시 교동</td>\n",
       "      <td>1983</td>\n",
       "      <td>1983</td>\n",
       "      <td>0</td>\n",
       "      <td>강릉교동롯데캐슬2단지</td>\n",
       "      <td>84.9855</td>\n",
       "      <td>201701</td>\n",
       "      <td>5</td>\n",
       "      <td>27250</td>\n",
       "      <td>11</td>\n",
       "      <td>2009</td>\n",
       "      <td>화부산로111번길 24</td>\n",
       "      <td>01</td>\n",
       "    </tr>\n",
       "  </tbody>\n",
       "</table>\n",
       "</div>"
      ],
      "text/plain": [
       "           시군구    번지    본번  부번           단지명  전용면적(㎡)    계약년월  계약일  거래금액(만원)  \\\n",
       "0  강원도 강릉시 견소동   202   202   0          송정한신  59.8000  201701   10     12400   \n",
       "1  강원도 강릉시 견소동   289   289   0  송정해변신도브래뉴아파트  84.9900  201701    3     23000   \n",
       "2  강원도 강릉시 견소동   289   289   0  송정해변신도브래뉴아파트  59.9900  201701    4     15800   \n",
       "3  강원도 강릉시 견소동   289   289   0  송정해변신도브래뉴아파트  59.9900  201701   21     14000   \n",
       "4   강원도 강릉시 교동  1983  1983   0   강릉교동롯데캐슬2단지  84.9855  201701    5     27250   \n",
       "\n",
       "    층  건축년도           도로명   월  \n",
       "0   8  1997   경강로2539번길 8  01  \n",
       "1  13  2005  경강로2539번길 22  01  \n",
       "2   9  2005  경강로2539번길 22  01  \n",
       "3   1  2005  경강로2539번길 22  01  \n",
       "4  11  2009  화부산로111번길 24  01  "
      ]
     },
     "execution_count": 34,
     "metadata": {},
     "output_type": "execute_result"
    }
   ],
   "source": [
    "# 월만 가져온 '월' 변수 생성된 것을 확인할 수 있음.\n",
    "apt2017.head()"
   ]
  },
  {
   "cell_type": "code",
   "execution_count": 35,
   "metadata": {
    "scrolled": false
   },
   "outputs": [
    {
     "data": {
      "text/plain": [
       "월\n",
       "06    62632\n",
       "07    61709\n",
       "05    58837\n",
       "03    51242\n",
       "04    47688\n",
       "09    47247\n",
       "08    45227\n",
       "11    43933\n",
       "02    41852\n",
       "12    40193\n",
       "10    39636\n",
       "01    30128\n",
       "Name: 계약년월, dtype: int64"
      ]
     },
     "execution_count": 35,
     "metadata": {},
     "output_type": "execute_result"
    }
   ],
   "source": [
    "# 내림차순으로 정렬\n",
    "apt2017.groupby(apt2017['월'])['계약년월'].count().sort_values(ascending=False)"
   ]
  },
  {
   "cell_type": "markdown",
   "metadata": {},
   "source": [
    "## 2018 년"
   ]
  },
  {
   "cell_type": "code",
   "execution_count": 36,
   "metadata": {},
   "outputs": [],
   "source": [
    "apt2018[\"계약년월\"] = apt2018[\"계약년월\"].astype(str)\n",
    "apt2018[\"월\"] = apt2018[\"계약년월\"].str[4:]"
   ]
  },
  {
   "cell_type": "code",
   "execution_count": 37,
   "metadata": {},
   "outputs": [
    {
     "data": {
      "text/plain": [
       "월\n",
       "08    56304\n",
       "03    55215\n",
       "09    50857\n",
       "01    50677\n",
       "10    43986\n",
       "02    43503\n",
       "06    38781\n",
       "05    36816\n",
       "07    36513\n",
       "04    35665\n",
       "11    30734\n",
       "12    26860\n",
       "Name: 계약년월, dtype: int64"
      ]
     },
     "execution_count": 37,
     "metadata": {},
     "output_type": "execute_result"
    }
   ],
   "source": [
    "apt2018.groupby(apt2018['월'])['계약년월'].count().sort_values(ascending=False)"
   ]
  },
  {
   "cell_type": "markdown",
   "metadata": {},
   "source": [
    "## 2019 년"
   ]
  },
  {
   "cell_type": "code",
   "execution_count": 38,
   "metadata": {},
   "outputs": [],
   "source": [
    "apt2019[\"계약년월\"] = apt2019[\"계약년월\"].astype(str)\n",
    "apt2019[\"월\"] = apt2019[\"계약년월\"].str[4:]"
   ]
  },
  {
   "cell_type": "code",
   "execution_count": 39,
   "metadata": {},
   "outputs": [
    {
     "data": {
      "text/plain": [
       "월\n",
       "11    74304\n",
       "12    70401\n",
       "10    64677\n",
       "07    45213\n",
       "09    44015\n",
       "08    41942\n",
       "06    38369\n",
       "05    35095\n",
       "03    33395\n",
       "04    32306\n",
       "01    28401\n",
       "02    26132\n",
       "Name: 계약년월, dtype: int64"
      ]
     },
     "execution_count": 39,
     "metadata": {},
     "output_type": "execute_result"
    }
   ],
   "source": [
    "apt2019.groupby(apt2019['월'])['계약년월'].count().sort_values(ascending=False)"
   ]
  },
  {
   "cell_type": "markdown",
   "metadata": {},
   "source": [
    "# 년도에 따른 구별 거래량 비교"
   ]
  },
  {
   "cell_type": "markdown",
   "metadata": {},
   "source": [
    "# 2017 년"
   ]
  },
  {
   "cell_type": "code",
   "execution_count": 40,
   "metadata": {},
   "outputs": [],
   "source": [
    "apt2017[\"지역\"] = apt2017[\"시군구\"].str.split(' ').str[0]"
   ]
  },
  {
   "cell_type": "code",
   "execution_count": 41,
   "metadata": {},
   "outputs": [
    {
     "data": {
      "text/html": [
       "<div>\n",
       "<style scoped>\n",
       "    .dataframe tbody tr th:only-of-type {\n",
       "        vertical-align: middle;\n",
       "    }\n",
       "\n",
       "    .dataframe tbody tr th {\n",
       "        vertical-align: top;\n",
       "    }\n",
       "\n",
       "    .dataframe thead th {\n",
       "        text-align: right;\n",
       "    }\n",
       "</style>\n",
       "<table border=\"1\" class=\"dataframe\">\n",
       "  <thead>\n",
       "    <tr style=\"text-align: right;\">\n",
       "      <th></th>\n",
       "      <th>시군구</th>\n",
       "      <th>번지</th>\n",
       "      <th>본번</th>\n",
       "      <th>부번</th>\n",
       "      <th>단지명</th>\n",
       "      <th>전용면적(㎡)</th>\n",
       "      <th>계약년월</th>\n",
       "      <th>계약일</th>\n",
       "      <th>거래금액(만원)</th>\n",
       "      <th>층</th>\n",
       "      <th>건축년도</th>\n",
       "      <th>도로명</th>\n",
       "      <th>월</th>\n",
       "      <th>지역</th>\n",
       "    </tr>\n",
       "  </thead>\n",
       "  <tbody>\n",
       "    <tr>\n",
       "      <th>0</th>\n",
       "      <td>강원도 강릉시 견소동</td>\n",
       "      <td>202</td>\n",
       "      <td>202</td>\n",
       "      <td>0</td>\n",
       "      <td>송정한신</td>\n",
       "      <td>59.8000</td>\n",
       "      <td>201701</td>\n",
       "      <td>10</td>\n",
       "      <td>12400</td>\n",
       "      <td>8</td>\n",
       "      <td>1997</td>\n",
       "      <td>경강로2539번길 8</td>\n",
       "      <td>01</td>\n",
       "      <td>강원도</td>\n",
       "    </tr>\n",
       "    <tr>\n",
       "      <th>1</th>\n",
       "      <td>강원도 강릉시 견소동</td>\n",
       "      <td>289</td>\n",
       "      <td>289</td>\n",
       "      <td>0</td>\n",
       "      <td>송정해변신도브래뉴아파트</td>\n",
       "      <td>84.9900</td>\n",
       "      <td>201701</td>\n",
       "      <td>3</td>\n",
       "      <td>23000</td>\n",
       "      <td>13</td>\n",
       "      <td>2005</td>\n",
       "      <td>경강로2539번길 22</td>\n",
       "      <td>01</td>\n",
       "      <td>강원도</td>\n",
       "    </tr>\n",
       "    <tr>\n",
       "      <th>2</th>\n",
       "      <td>강원도 강릉시 견소동</td>\n",
       "      <td>289</td>\n",
       "      <td>289</td>\n",
       "      <td>0</td>\n",
       "      <td>송정해변신도브래뉴아파트</td>\n",
       "      <td>59.9900</td>\n",
       "      <td>201701</td>\n",
       "      <td>4</td>\n",
       "      <td>15800</td>\n",
       "      <td>9</td>\n",
       "      <td>2005</td>\n",
       "      <td>경강로2539번길 22</td>\n",
       "      <td>01</td>\n",
       "      <td>강원도</td>\n",
       "    </tr>\n",
       "    <tr>\n",
       "      <th>3</th>\n",
       "      <td>강원도 강릉시 견소동</td>\n",
       "      <td>289</td>\n",
       "      <td>289</td>\n",
       "      <td>0</td>\n",
       "      <td>송정해변신도브래뉴아파트</td>\n",
       "      <td>59.9900</td>\n",
       "      <td>201701</td>\n",
       "      <td>21</td>\n",
       "      <td>14000</td>\n",
       "      <td>1</td>\n",
       "      <td>2005</td>\n",
       "      <td>경강로2539번길 22</td>\n",
       "      <td>01</td>\n",
       "      <td>강원도</td>\n",
       "    </tr>\n",
       "    <tr>\n",
       "      <th>4</th>\n",
       "      <td>강원도 강릉시 교동</td>\n",
       "      <td>1983</td>\n",
       "      <td>1983</td>\n",
       "      <td>0</td>\n",
       "      <td>강릉교동롯데캐슬2단지</td>\n",
       "      <td>84.9855</td>\n",
       "      <td>201701</td>\n",
       "      <td>5</td>\n",
       "      <td>27250</td>\n",
       "      <td>11</td>\n",
       "      <td>2009</td>\n",
       "      <td>화부산로111번길 24</td>\n",
       "      <td>01</td>\n",
       "      <td>강원도</td>\n",
       "    </tr>\n",
       "  </tbody>\n",
       "</table>\n",
       "</div>"
      ],
      "text/plain": [
       "           시군구    번지    본번  부번           단지명  전용면적(㎡)    계약년월  계약일  거래금액(만원)  \\\n",
       "0  강원도 강릉시 견소동   202   202   0          송정한신  59.8000  201701   10     12400   \n",
       "1  강원도 강릉시 견소동   289   289   0  송정해변신도브래뉴아파트  84.9900  201701    3     23000   \n",
       "2  강원도 강릉시 견소동   289   289   0  송정해변신도브래뉴아파트  59.9900  201701    4     15800   \n",
       "3  강원도 강릉시 견소동   289   289   0  송정해변신도브래뉴아파트  59.9900  201701   21     14000   \n",
       "4   강원도 강릉시 교동  1983  1983   0   강릉교동롯데캐슬2단지  84.9855  201701    5     27250   \n",
       "\n",
       "    층  건축년도           도로명   월   지역  \n",
       "0   8  1997   경강로2539번길 8  01  강원도  \n",
       "1  13  2005  경강로2539번길 22  01  강원도  \n",
       "2   9  2005  경강로2539번길 22  01  강원도  \n",
       "3   1  2005  경강로2539번길 22  01  강원도  \n",
       "4  11  2009  화부산로111번길 24  01  강원도  "
      ]
     },
     "execution_count": 41,
     "metadata": {},
     "output_type": "execute_result"
    }
   ],
   "source": [
    "# 지역구만 가져온 '지역' 변수 생성된 것을 확인할 수 있음.\n",
    "apt2017.head()"
   ]
  },
  {
   "cell_type": "code",
   "execution_count": 42,
   "metadata": {
    "scrolled": true
   },
   "outputs": [
    {
     "data": {
      "text/plain": [
       "지역\n",
       "경기도        154053\n",
       "서울특별시      105076\n",
       "부산광역시       37938\n",
       "인천광역시       36600\n",
       "대구광역시       32067\n",
       "경상남도        30780\n",
       "광주광역시       22764\n",
       "경상북도        20705\n",
       "대전광역시       20283\n",
       "전라북도        20038\n",
       "충청남도        19667\n",
       "전라남도        19118\n",
       "강원도         16608\n",
       "충청북도        15921\n",
       "울산광역시       11513\n",
       "세종특별자치시      4669\n",
       "제주특별자치도      2524\n",
       "Name: 계약년월, dtype: int64"
      ]
     },
     "execution_count": 42,
     "metadata": {},
     "output_type": "execute_result"
    }
   ],
   "source": [
    "apt2017.groupby(apt2017['지역'])['계약년월'].count().sort_values(ascending=False)"
   ]
  },
  {
   "cell_type": "markdown",
   "metadata": {},
   "source": [
    "# 2018 년"
   ]
  },
  {
   "cell_type": "code",
   "execution_count": 43,
   "metadata": {},
   "outputs": [],
   "source": [
    "apt2018[\"지역\"] = apt2018[\"시군구\"].str.split(' ').str[0]"
   ]
  },
  {
   "cell_type": "code",
   "execution_count": 44,
   "metadata": {},
   "outputs": [
    {
     "data": {
      "text/plain": [
       "지역\n",
       "경기도        151745\n",
       "서울특별시       81388\n",
       "대구광역시       32582\n",
       "인천광역시       30384\n",
       "부산광역시       25843\n",
       "경상남도        25463\n",
       "광주광역시       25385\n",
       "대전광역시       19602\n",
       "충청남도        18927\n",
       "경상북도        18861\n",
       "전라북도        17861\n",
       "전라남도        17093\n",
       "충청북도        13837\n",
       "강원도         12825\n",
       "울산광역시        8148\n",
       "세종특별자치시      3430\n",
       "제주특별자치도      2537\n",
       "Name: 계약년월, dtype: int64"
      ]
     },
     "execution_count": 44,
     "metadata": {},
     "output_type": "execute_result"
    }
   ],
   "source": [
    "apt2018.groupby(apt2018['지역'])['계약년월'].count().sort_values(ascending=False)"
   ]
  },
  {
   "cell_type": "markdown",
   "metadata": {},
   "source": [
    "# 2019 년"
   ]
  },
  {
   "cell_type": "code",
   "execution_count": 45,
   "metadata": {},
   "outputs": [],
   "source": [
    "apt2019[\"지역\"] = apt2019[\"시군구\"].str.split(' ').str[0]"
   ]
  },
  {
   "cell_type": "code",
   "execution_count": 46,
   "metadata": {},
   "outputs": [
    {
     "data": {
      "text/plain": [
       "지역\n",
       "경기도        141513\n",
       "서울특별시       74903\n",
       "부산광역시       36074\n",
       "인천광역시       34224\n",
       "경상남도        33545\n",
       "대구광역시       30140\n",
       "대전광역시       27396\n",
       "충청남도        24940\n",
       "경상북도        22656\n",
       "광주광역시       20131\n",
       "전라북도        18682\n",
       "충청북도        17151\n",
       "전라남도        16588\n",
       "울산광역시       14286\n",
       "강원도         13911\n",
       "세종특별자치시      5794\n",
       "제주특별자치도      2316\n",
       "Name: 계약년월, dtype: int64"
      ]
     },
     "execution_count": 46,
     "metadata": {},
     "output_type": "execute_result"
    }
   ],
   "source": [
    "apt2019.groupby(apt2019['지역'])['계약년월'].count().sort_values(ascending=False)"
   ]
  },
  {
   "cell_type": "markdown",
   "metadata": {},
   "source": [
    "2017, 2018, 2019년 모두 경기도에서 가장 많이 거래가 된 사실을 알 수 있다. 그리고 17, 18, 19년도 모두 거래량이 많은 지역순에는 항상 서울특별시, 부산광역시, 인천광역시, 대구광역시, 경상남도가 5순위 안에는 드는 것을 확인할 수 있다."
   ]
  },
  {
   "cell_type": "markdown",
   "metadata": {},
   "source": [
    "# 년도에 따른 거래 패턴?"
   ]
  },
  {
   "cell_type": "markdown",
   "metadata": {},
   "source": [
    "# 상관관계"
   ]
  },
  {
   "cell_type": "code",
   "execution_count": 51,
   "metadata": {
    "scrolled": true
   },
   "outputs": [
    {
     "data": {
      "text/html": [
       "<div>\n",
       "<style scoped>\n",
       "    .dataframe tbody tr th:only-of-type {\n",
       "        vertical-align: middle;\n",
       "    }\n",
       "\n",
       "    .dataframe tbody tr th {\n",
       "        vertical-align: top;\n",
       "    }\n",
       "\n",
       "    .dataframe thead th {\n",
       "        text-align: right;\n",
       "    }\n",
       "</style>\n",
       "<table border=\"1\" class=\"dataframe\">\n",
       "  <thead>\n",
       "    <tr style=\"text-align: right;\">\n",
       "      <th></th>\n",
       "      <th>부번</th>\n",
       "      <th>전용면적(㎡)</th>\n",
       "      <th>계약일</th>\n",
       "      <th>거래금액(만원)</th>\n",
       "      <th>층</th>\n",
       "      <th>건축년도</th>\n",
       "    </tr>\n",
       "  </thead>\n",
       "  <tbody>\n",
       "    <tr>\n",
       "      <th>부번</th>\n",
       "      <td>1.000000</td>\n",
       "      <td>-0.013196</td>\n",
       "      <td>-0.000737</td>\n",
       "      <td>-0.016739</td>\n",
       "      <td>-0.020545</td>\n",
       "      <td>-0.037810</td>\n",
       "    </tr>\n",
       "    <tr>\n",
       "      <th>전용면적(㎡)</th>\n",
       "      <td>-0.013196</td>\n",
       "      <td>1.000000</td>\n",
       "      <td>0.009583</td>\n",
       "      <td>0.540676</td>\n",
       "      <td>0.170594</td>\n",
       "      <td>0.223751</td>\n",
       "    </tr>\n",
       "    <tr>\n",
       "      <th>계약일</th>\n",
       "      <td>-0.000737</td>\n",
       "      <td>0.009583</td>\n",
       "      <td>1.000000</td>\n",
       "      <td>0.025497</td>\n",
       "      <td>0.001487</td>\n",
       "      <td>0.001163</td>\n",
       "    </tr>\n",
       "    <tr>\n",
       "      <th>거래금액(만원)</th>\n",
       "      <td>-0.016739</td>\n",
       "      <td>0.540676</td>\n",
       "      <td>0.025497</td>\n",
       "      <td>1.000000</td>\n",
       "      <td>0.182033</td>\n",
       "      <td>0.126213</td>\n",
       "    </tr>\n",
       "    <tr>\n",
       "      <th>층</th>\n",
       "      <td>-0.020545</td>\n",
       "      <td>0.170594</td>\n",
       "      <td>0.001487</td>\n",
       "      <td>0.182033</td>\n",
       "      <td>1.000000</td>\n",
       "      <td>0.266306</td>\n",
       "    </tr>\n",
       "    <tr>\n",
       "      <th>건축년도</th>\n",
       "      <td>-0.037810</td>\n",
       "      <td>0.223751</td>\n",
       "      <td>0.001163</td>\n",
       "      <td>0.126213</td>\n",
       "      <td>0.266306</td>\n",
       "      <td>1.000000</td>\n",
       "    </tr>\n",
       "  </tbody>\n",
       "</table>\n",
       "</div>"
      ],
      "text/plain": [
       "                부번   전용면적(㎡)       계약일  거래금액(만원)         층      건축년도\n",
       "부번        1.000000 -0.013196 -0.000737 -0.016739 -0.020545 -0.037810\n",
       "전용면적(㎡)  -0.013196  1.000000  0.009583  0.540676  0.170594  0.223751\n",
       "계약일      -0.000737  0.009583  1.000000  0.025497  0.001487  0.001163\n",
       "거래금액(만원) -0.016739  0.540676  0.025497  1.000000  0.182033  0.126213\n",
       "층        -0.020545  0.170594  0.001487  0.182033  1.000000  0.266306\n",
       "건축년도     -0.037810  0.223751  0.001163  0.126213  0.266306  1.000000"
      ]
     },
     "execution_count": 51,
     "metadata": {},
     "output_type": "execute_result"
    }
   ],
   "source": [
    "corr2017 = apt2017.corr(method='pearson')\n",
    "corr2017"
   ]
  },
  {
   "cell_type": "markdown",
   "metadata": {},
   "source": [
    "거래금액과 전용면적이 0.54 정도의 양의 상관관계.\n",
    "그 다음으로 비교적 유의미한 수치로는 거래금액과 층이 0.18 정도의 양의 상관관계를 가짐.\n",
    "\n",
    "층 & 건축년도 -> 0.26 정도의 양의 상관관계"
   ]
  },
  {
   "cell_type": "code",
   "execution_count": 52,
   "metadata": {},
   "outputs": [
    {
     "data": {
      "text/html": [
       "<div>\n",
       "<style scoped>\n",
       "    .dataframe tbody tr th:only-of-type {\n",
       "        vertical-align: middle;\n",
       "    }\n",
       "\n",
       "    .dataframe tbody tr th {\n",
       "        vertical-align: top;\n",
       "    }\n",
       "\n",
       "    .dataframe thead th {\n",
       "        text-align: right;\n",
       "    }\n",
       "</style>\n",
       "<table border=\"1\" class=\"dataframe\">\n",
       "  <thead>\n",
       "    <tr style=\"text-align: right;\">\n",
       "      <th></th>\n",
       "      <th>부번</th>\n",
       "      <th>전용면적(㎡)</th>\n",
       "      <th>계약일</th>\n",
       "      <th>거래금액(만원)</th>\n",
       "      <th>층</th>\n",
       "      <th>건축년도</th>\n",
       "    </tr>\n",
       "  </thead>\n",
       "  <tbody>\n",
       "    <tr>\n",
       "      <th>부번</th>\n",
       "      <td>1.000000</td>\n",
       "      <td>-0.010992</td>\n",
       "      <td>-0.000584</td>\n",
       "      <td>-0.007157</td>\n",
       "      <td>-0.022424</td>\n",
       "      <td>-0.029309</td>\n",
       "    </tr>\n",
       "    <tr>\n",
       "      <th>전용면적(㎡)</th>\n",
       "      <td>-0.010992</td>\n",
       "      <td>1.000000</td>\n",
       "      <td>-0.002072</td>\n",
       "      <td>0.516266</td>\n",
       "      <td>0.162351</td>\n",
       "      <td>0.207289</td>\n",
       "    </tr>\n",
       "    <tr>\n",
       "      <th>계약일</th>\n",
       "      <td>-0.000584</td>\n",
       "      <td>-0.002072</td>\n",
       "      <td>1.000000</td>\n",
       "      <td>0.000006</td>\n",
       "      <td>-0.004645</td>\n",
       "      <td>-0.008210</td>\n",
       "    </tr>\n",
       "    <tr>\n",
       "      <th>거래금액(만원)</th>\n",
       "      <td>-0.007157</td>\n",
       "      <td>0.516266</td>\n",
       "      <td>0.000006</td>\n",
       "      <td>1.000000</td>\n",
       "      <td>0.175313</td>\n",
       "      <td>0.141065</td>\n",
       "    </tr>\n",
       "    <tr>\n",
       "      <th>층</th>\n",
       "      <td>-0.022424</td>\n",
       "      <td>0.162351</td>\n",
       "      <td>-0.004645</td>\n",
       "      <td>0.175313</td>\n",
       "      <td>1.000000</td>\n",
       "      <td>0.271603</td>\n",
       "    </tr>\n",
       "    <tr>\n",
       "      <th>건축년도</th>\n",
       "      <td>-0.029309</td>\n",
       "      <td>0.207289</td>\n",
       "      <td>-0.008210</td>\n",
       "      <td>0.141065</td>\n",
       "      <td>0.271603</td>\n",
       "      <td>1.000000</td>\n",
       "    </tr>\n",
       "  </tbody>\n",
       "</table>\n",
       "</div>"
      ],
      "text/plain": [
       "                부번   전용면적(㎡)       계약일  거래금액(만원)         층      건축년도\n",
       "부번        1.000000 -0.010992 -0.000584 -0.007157 -0.022424 -0.029309\n",
       "전용면적(㎡)  -0.010992  1.000000 -0.002072  0.516266  0.162351  0.207289\n",
       "계약일      -0.000584 -0.002072  1.000000  0.000006 -0.004645 -0.008210\n",
       "거래금액(만원) -0.007157  0.516266  0.000006  1.000000  0.175313  0.141065\n",
       "층        -0.022424  0.162351 -0.004645  0.175313  1.000000  0.271603\n",
       "건축년도     -0.029309  0.207289 -0.008210  0.141065  0.271603  1.000000"
      ]
     },
     "execution_count": 52,
     "metadata": {},
     "output_type": "execute_result"
    }
   ],
   "source": [
    "corr2018 = apt2018.corr(method='pearson')\n",
    "corr2018"
   ]
  },
  {
   "cell_type": "code",
   "execution_count": 53,
   "metadata": {},
   "outputs": [
    {
     "data": {
      "text/html": [
       "<div>\n",
       "<style scoped>\n",
       "    .dataframe tbody tr th:only-of-type {\n",
       "        vertical-align: middle;\n",
       "    }\n",
       "\n",
       "    .dataframe tbody tr th {\n",
       "        vertical-align: top;\n",
       "    }\n",
       "\n",
       "    .dataframe thead th {\n",
       "        text-align: right;\n",
       "    }\n",
       "</style>\n",
       "<table border=\"1\" class=\"dataframe\">\n",
       "  <thead>\n",
       "    <tr style=\"text-align: right;\">\n",
       "      <th></th>\n",
       "      <th>부번</th>\n",
       "      <th>전용면적(㎡)</th>\n",
       "      <th>계약일</th>\n",
       "      <th>거래금액(만원)</th>\n",
       "      <th>층</th>\n",
       "      <th>건축년도</th>\n",
       "    </tr>\n",
       "  </thead>\n",
       "  <tbody>\n",
       "    <tr>\n",
       "      <th>부번</th>\n",
       "      <td>1.000000</td>\n",
       "      <td>-0.013994</td>\n",
       "      <td>-0.002314</td>\n",
       "      <td>-0.008240</td>\n",
       "      <td>-0.022038</td>\n",
       "      <td>-0.024455</td>\n",
       "    </tr>\n",
       "    <tr>\n",
       "      <th>전용면적(㎡)</th>\n",
       "      <td>-0.013994</td>\n",
       "      <td>1.000000</td>\n",
       "      <td>0.003085</td>\n",
       "      <td>0.456091</td>\n",
       "      <td>0.165724</td>\n",
       "      <td>0.179345</td>\n",
       "    </tr>\n",
       "    <tr>\n",
       "      <th>계약일</th>\n",
       "      <td>-0.002314</td>\n",
       "      <td>0.003085</td>\n",
       "      <td>1.000000</td>\n",
       "      <td>0.001623</td>\n",
       "      <td>0.001069</td>\n",
       "      <td>0.005171</td>\n",
       "    </tr>\n",
       "    <tr>\n",
       "      <th>거래금액(만원)</th>\n",
       "      <td>-0.008240</td>\n",
       "      <td>0.456091</td>\n",
       "      <td>0.001623</td>\n",
       "      <td>1.000000</td>\n",
       "      <td>0.165782</td>\n",
       "      <td>0.113623</td>\n",
       "    </tr>\n",
       "    <tr>\n",
       "      <th>층</th>\n",
       "      <td>-0.022038</td>\n",
       "      <td>0.165724</td>\n",
       "      <td>0.001069</td>\n",
       "      <td>0.165782</td>\n",
       "      <td>1.000000</td>\n",
       "      <td>0.291626</td>\n",
       "    </tr>\n",
       "    <tr>\n",
       "      <th>건축년도</th>\n",
       "      <td>-0.024455</td>\n",
       "      <td>0.179345</td>\n",
       "      <td>0.005171</td>\n",
       "      <td>0.113623</td>\n",
       "      <td>0.291626</td>\n",
       "      <td>1.000000</td>\n",
       "    </tr>\n",
       "  </tbody>\n",
       "</table>\n",
       "</div>"
      ],
      "text/plain": [
       "                부번   전용면적(㎡)       계약일  거래금액(만원)         층      건축년도\n",
       "부번        1.000000 -0.013994 -0.002314 -0.008240 -0.022038 -0.024455\n",
       "전용면적(㎡)  -0.013994  1.000000  0.003085  0.456091  0.165724  0.179345\n",
       "계약일      -0.002314  0.003085  1.000000  0.001623  0.001069  0.005171\n",
       "거래금액(만원) -0.008240  0.456091  0.001623  1.000000  0.165782  0.113623\n",
       "층        -0.022038  0.165724  0.001069  0.165782  1.000000  0.291626\n",
       "건축년도     -0.024455  0.179345  0.005171  0.113623  0.291626  1.000000"
      ]
     },
     "execution_count": 53,
     "metadata": {},
     "output_type": "execute_result"
    }
   ],
   "source": [
    "corr2019 = apt2019.corr(method='pearson')\n",
    "corr2019"
   ]
  },
  {
   "cell_type": "markdown",
   "metadata": {},
   "source": [
    "2017, 2018, 2019 년 모두 \n",
    "거래금액과 다른 변수와의 상관관계를 따져보았을 때, 유의미한 양의 상관관계로는 비교적 전용면적이 가장 높고 그리고 그 다음으로는 층임.\n",
    "\n",
    "(+) 층 & 건축년도 사이에도 양의 상관관계가 보임."
   ]
  },
  {
   "cell_type": "code",
   "execution_count": null,
   "metadata": {},
   "outputs": [],
   "source": []
  },
  {
   "cell_type": "code",
   "execution_count": null,
   "metadata": {},
   "outputs": [],
   "source": []
  },
  {
   "cell_type": "code",
   "execution_count": null,
   "metadata": {},
   "outputs": [],
   "source": []
  },
  {
   "cell_type": "code",
   "execution_count": null,
   "metadata": {},
   "outputs": [],
   "source": []
  }
 ],
 "metadata": {
  "kernelspec": {
   "display_name": "Python 3",
   "language": "python",
   "name": "python3"
  },
  "language_info": {
   "codemirror_mode": {
    "name": "ipython",
    "version": 3
   },
   "file_extension": ".py",
   "mimetype": "text/x-python",
   "name": "python",
   "nbconvert_exporter": "python",
   "pygments_lexer": "ipython3",
   "version": "3.7.3"
  }
 },
 "nbformat": 4,
 "nbformat_minor": 2
}
